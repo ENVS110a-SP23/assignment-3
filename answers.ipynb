{
 "cells": [
  {
   "cell_type": "markdown",
   "metadata": {},
   "source": [
    "# Assignment 3: Advanced Python (30 pt)\n",
    "\n",
    "This assignment covers materials from the material on loops, functions, and NumPy lectures.\n",
    "\n",
    "Note that these questions are longer and somewhat more open ended than previous assignments. Please reach out if you need assistance getting started.\n",
    "\n",
    "Feel free to create as many Python or Markdown cells as you desire to answer the questions."
   ]
  },
  {
   "cell_type": "markdown",
   "metadata": {},
   "source": [
    "## Question 1: For loops (10 pts)\n",
    "\n",
    "Below, we have a nested dictionary structure containing information about several species ranging from vulnerable to critically endangered. Note than in some cases, species populations are listed as `None`. This means that the wild populations of these species are unknown. \n",
    "\n",
    "Use for loops to accomplish the following tasks: \n",
    "\n",
    "- Create a data structure containing all unique types of \"Threats\". This variable should not contain duplicate entries. Print the structure (2 pt).\n",
    "- Create a list of all of the species listed as \"Critically Endangered\". Print the list (2 pt).\n",
    "- Create a separate list containing the names of species with populations with fewer than 50 individuals and species with unknown population sizes. Print the list (3 pt).\n",
    "- Find the species with the largest population size. Print this species name, and what its population size is (3 pt).\n",
    "\n",
    "If you hard code the solutions (e.g. manually pick out which species has the largest population) you will receive NO points."
   ]
  },
  {
   "cell_type": "code",
   "execution_count": 121,
   "metadata": {},
   "outputs": [],
   "source": [
    "conservation_data = {\n",
    "    \"Giant Panda\": {\n",
    "        \"Status\": \"Endangered\",\n",
    "        \"Population\": 1800,\n",
    "        \"Threats\": [\"Habitat loss\", \"Poaching\"]\n",
    "    },\n",
    "    \"Mountain Gorilla\": {\n",
    "        \"Status\": \"Critically Endangered\",\n",
    "        \"Population\": 1063,\n",
    "        \"Threats\": [\"Habitat loss\", \"Poaching\", \"Civil unrest\"]\n",
    "    },\n",
    "    \"Amur Leopard\": {\n",
    "        \"Status\": \"Critically Endangered\",\n",
    "        \"Population\": 84,\n",
    "        \"Threats\": [\"Habitat loss\", \"Poaching\"]\n",
    "    },\n",
    "    \"Vaquita\": {\n",
    "        \"Status\": \"Critically Endangered\",\n",
    "        \"Population\": 10,\n",
    "        \"Threats\": [\"Bycatch in fishing nets\"]\n",
    "    },\n",
    "    \"African Elephant\": {\n",
    "        \"Status\": \"Vulnerable\",\n",
    "        \"Population\": 415000,\n",
    "        \"Threats\": [\"Habitat loss\", \"Poaching\"]\n",
    "    },\n",
    "    \"Javan Rhino\": {\n",
    "        \"Status\": \"Critically Endangered\",\n",
    "        \"Population\": 72,\n",
    "        \"Threats\": [\"Habitat loss\", \"Poaching\"]\n",
    "    },\n",
    "    \"Sumatran Orangutan\": {\n",
    "        \"Status\": \"Critically Endangered\",\n",
    "        \"Population\": 14600,\n",
    "        \"Threats\": [\"Habitat loss\", \"Poaching\"]\n",
    "    },\n",
    "    \"Hawksbill Turtle\": {\n",
    "        \"Status\": \"Critically Endangered\",\n",
    "        \"Population\": None,\n",
    "        \"Threats\": [\"Habitat loss\", \"Poaching\"]\n",
    "    },\n",
    "    \"Saola\": {\n",
    "        \"Status\": \"Critically Endangered\",\n",
    "        \"Population\": None,\n",
    "        \"Threats\": [\"Habitat loss\", \"Poaching\"]\n",
    "    },\n",
    "    \"Iberian Lynx\": {\n",
    "        \"Status\": \"Endangered\",\n",
    "        \"Population\": 94,\n",
    "        \"Threats\": [\"Habitat loss\", \"Poaching\"]\n",
    "    }\n",
    "}\n"
   ]
  },
  {
   "cell_type": "code",
   "execution_count": 122,
   "metadata": {},
   "outputs": [
    {
     "name": "stdout",
     "output_type": "stream",
     "text": [
      "{'Habitat loss', 'Poaching', 'Bycatch in fishing nets', 'Civil unrest'}\n",
      "['Mountain Gorilla', 'Amur Leopard', 'Vaquita', 'Javan Rhino', 'Sumatran Orangutan', 'Hawksbill Turtle', 'Saola']\n",
      "Vaquita\n",
      "Hawksbill Turtle\n",
      "Saola\n",
      "The species with the largest population is the African Elephant\n"
     ]
    }
   ],
   "source": [
    "threats = set()\n",
    "for species in conservation_data:\n",
    "    for i in conservation_data[species][\"Threats\"]:\n",
    "        threats.add(i)\n",
    "    \n",
    "print(threats)\n",
    "\n",
    "critically_endangered = []\n",
    "for species in conservation_data:\n",
    "    if conservation_data[species][\"Status\"] == \"Critically Endangered\":\n",
    "        critically_endangered.append(species)\n",
    "\n",
    "print(critically_endangered)\n",
    "\n",
    "for species in conservation_data:\n",
    "    population = conservation_data[species][\"Population\"]\n",
    "    if population is None or population < 50:\n",
    "        print(species)\n",
    "\n",
    "largest_population = 0\n",
    "largest_population_species = \"None\"\n",
    "for species in conservation_data:\n",
    "    x = conservation_data[species][\"Population\"]\n",
    "    if type(x) == int:\n",
    "        if x > largest_population:\n",
    "            largest_population = x\n",
    "            largest_population_species = species\n",
    "print(\"The species with the largest population is the\",largest_population_species)    "
   ]
  },
  {
   "attachments": {},
   "cell_type": "markdown",
   "metadata": {},
   "source": [
    "## Question 2: Functions (10 pt)\n",
    "\n",
    "When considering the health of an ecosystem, an important concept to quantify is the diversity of that system. There are several metrics commonly used to calculate ecosystem diversity, one of which is call Simpson's Diversity Index.\n",
    "\n",
    "This metric not takes into account how many species are present in an location, but also if one species has far more individuals than other species. For example, an ecosystem with 500 species but only one species above 10 individuals is not that diverse.\n",
    "\n",
    "We can calculate Simpson's Diversity ($D$) as follows:\n",
    "\n",
    "$D = 1 - [(\\frac{n_1}{N})^2 + (\\frac{n_2}{N})^2 + (\\frac{n_3}{N})^2 + ...]$\n",
    "\n",
    "For example, if an ecosystem has four species with 5, 2, 2, and 1 individuals (10 individuals total), you can calculate $D$ like this:\n",
    "\n",
    "$D = 1 - [(\\frac{5}{10})^2 + (\\frac{2}{10})^2 + (\\frac{2}{10})^2 + (\\frac{1}{10})^2] = 0.66$\n",
    "\n",
    "Define a function that calculates and returns $D$ given a list of species population levels, and run the function on several example lists (3 pt).\n",
    "\n",
    "Your answer should work for a list of **any** length (1 pt).\n",
    "\n",
    "Add documentation to the function that describes what it does, the desired parameters, and what data types the parameters should be (2 pt).\n",
    "\n",
    "Within the function, check that the input is a list. If the input is not a list, give a custom error message (2 pt).\n",
    "\n",
    "Also, make sure all entries in the list are integers. If there are floats, convert them to integers. If there are entries that are not floats or integers, give a custom error message (2 pt).\n",
    "\n"
   ]
  },
  {
   "cell_type": "code",
   "execution_count": 125,
   "metadata": {},
   "outputs": [
    {
     "name": "stdout",
     "output_type": "stream",
     "text": [
      "-80520.24489795917\n",
      "Error, list contains a value that isn't a number\n",
      "-510.875\n",
      "-0.875\n",
      "-1522.4\n"
     ]
    }
   ],
   "source": [
    "# example_input = [1882, 400, 321, 24]\n",
    "            \n",
    "def simpson_diversity(pop):\n",
    "    \"\"\"\n",
    "    Calculate the Simpson diversity index of a given list. input of species abundance, formula gives diversity index\n",
    "    parameter: the code checks if the item is in a list and if what is included is an integer or float. Then the code calculates the Simpson diversity index using the calculation\n",
    "    \"\"\"\n",
    "    list1 = []\n",
    "    if type(pop) != list:\n",
    "        print(\"Error, insert a list\")\n",
    "        \n",
    "        \n",
    "    elif type(pop) == list:\n",
    "        for i in pop:\n",
    "            if type(i) not in (int, float):\n",
    "                print(\"Error, list contains a value that isn't a number\")\n",
    "                \n",
    "            else: \n",
    "                i = int(i)\n",
    "                x = (i/len(pop))**2\n",
    "                list1.append(x)          \n",
    "    y = 1 - sum(list1)\n",
    "    return(y)\n",
    "    \n",
    "list_1 = [1882, 400, 321, 24, 100, 200, 300]\n",
    "list_2 = [3.0, 9.0, 90.0, 'hi']\n",
    "list_3 = [1, 2.0, 3, 4.0]\n",
    "list_4 = [190, 21, 38, 10,0.008]\n",
    "print(simpson_diversity(list_1))\n",
    "print(simpson_diversity(list_2))\n",
    "print(simpson_diversity(list_3))\n",
    "print(simpson_diversity(list_4))\n"
   ]
  },
  {
   "cell_type": "markdown",
   "metadata": {},
   "source": [
    "## Question 3: Simulating data (10 pt)\n",
    "\n",
    "In data analysis, we often simulate data to help test our predictions and get a feel for how the real data should be. This questions asks you to use the functions found in `numpy.random` to simulate rolling.\n",
    "\n",
    "Define a function called `dice_simulator()` with an integer parameter called `n`. This function should create a list of integers 1 through 6 and randomly sample this list with replacement `n` times. The function should return the `n` samples as a list or numpy array. Note that `n` should be a positive integer (2 pt).\n",
    "\n",
    "Define a function called `proportions()` to calculate what proportion of the \"rolls\" that are 1s, 2s, 3s, 4s, 5s, and 6s. Print these 6 proportions. `proportions()` should have a single parameter called `rolls`, which should take in the output of `dice_simulator()` (3 pt).\n",
    "\n",
    "Define a function called `three_streak()` to calculate the maximum number of times 3 was \"rolled\" in a row and print this value. To be in a row, the 3's have to be next to each other in a list (such as if `rolls[1]` and `rolls[2]` are both 3). Like `proportions()`, `three_streak()` should have a single parameter called `rolls`, which should take in the output of `dice_simulator()` (3 pt). \n",
    "- *Hint: `max()` is a built in function in Python that finds the largest value in a list.*\n",
    "\n",
    "Define a function called `simulation()` that calls `dice_simulator()`, `proportions()`, and `three_streak()`. Make sure that `proportions()` and `three_streak()` are called so that they use the same dice rolls. `simulation()` should take a single parameter `n` that is fed into `dice_simulator()`. Have this function print the value of n, as well (1 pt). \n",
    "\n",
    "Call `simulation()` several times with the `n` parameter at different values (1 pt). \n",
    "\n",
    "\n",
    "\n"
   ]
  },
  {
   "cell_type": "code",
   "execution_count": 126,
   "metadata": {},
   "outputs": [
    {
     "name": "stdout",
     "output_type": "stream",
     "text": [
      "[3 5 2 2 2 5 2 5 3 4]\n"
     ]
    }
   ],
   "source": [
    "import numpy as np \n",
    "\n",
    "def dice_simulator(n):\n",
    "    if n <= 0:\n",
    "        print(\"Error, number is negative\")\n",
    "        return None\n",
    "\n",
    "    dice_numbers = np.array([1,2,3,4,5,6])\n",
    "    samples = np.random.choice(dice_numbers, size = n, replace = True)\n",
    "    return np.array(samples)\n",
    "\n",
    "test = dice_simulator(10)\n",
    "print(test)"
   ]
  },
  {
   "cell_type": "code",
   "execution_count": 139,
   "metadata": {},
   "outputs": [
    {
     "name": "stdout",
     "output_type": "stream",
     "text": [
      "[2 1 6]\n",
      "[0.33333333 0.33333333 0.         0.         0.         0.33333333]\n",
      "[2 1 6]\n"
     ]
    }
   ],
   "source": [
    "\n",
    "def proportions(rolls):\n",
    "    n = len(rolls)\n",
    "    counts = np.array([0,0,0,0,0,0])\n",
    "    print(rolls)\n",
    "    \n",
    "    for i in rolls:\n",
    "        counts[i -1] += 1\n",
    "\n",
    "    props = counts/n \n",
    "    print(props)\n",
    "    return props\n",
    "test = dice_simulator(3)\n",
    "proportions(test)\n",
    "print(test)\n",
    "\n",
    "   "
   ]
  },
  {
   "cell_type": "code",
   "execution_count": 130,
   "metadata": {},
   "outputs": [
    {
     "name": "stdout",
     "output_type": "stream",
     "text": [
      "[4 2 1 1 6]\n"
     ]
    }
   ],
   "source": [
    "def three_streak(rolls):\n",
    "    current_streak = 0\n",
    "    streaks = np.array(rolls)\n",
    "    for i in range(len(streaks)-1):\n",
    "        if streaks[i] == 3 and streaks[i + 1] ==3: \n",
    "            current_streak += 1\n",
    "        else:\n",
    "            current_streak = 0\n",
    "        streaks[i+1] = current_streak\n",
    "    max_streak = np.max(streaks)\n",
    "   \n",
    "rolls = dice_simulator(5)\n",
    "three_streak(rolls)\n",
    "print(rolls)"
   ]
  },
  {
   "cell_type": "code",
   "execution_count": 133,
   "metadata": {},
   "outputs": [
    {
     "name": "stdout",
     "output_type": "stream",
     "text": [
      "[2 4 1 5 5 2 3 6 4 2]\n",
      "[0.1 0.3 0.1 0.2 0.2 0.1]\n",
      "10\n",
      "[2 4 1 5 5 2 3 6 4 2]\n",
      "[0.1 0.3 0.1 0.2 0.2 0.1]\n",
      "None\n",
      "[3 6 1 2 3 6 4]\n",
      "[0.14285714 0.14285714 0.28571429 0.14285714 0.         0.28571429]\n",
      "7\n",
      "[3 6 1 2 3 6 4]\n",
      "[0.14285714 0.14285714 0.28571429 0.14285714 0.         0.28571429]\n",
      "None\n",
      "[2 6 2 3 6 1 5 1 4 4 6 6 2 5 5 4 6 2 6 4 5 4 3 5 3 5 5 6 4 4 1 1 5 1 1 4 3\n",
      " 1 5 4 6 6 1 3 3 1 6 4 5 1 3 4 3 5 3 4 6 4 5 1 4 3 4 5 3 1 6 5 3 2 1 6 4 3\n",
      " 4 5 2 4 5 6 1 6 5 1 1 6 4 4 2 3 1 6 1 5 4 5 6 2 1 3 6 5 5 3 3 3 2 5 1 5 6\n",
      " 6 1 1 4 2 1 2 2 2 3 6 6 5 4 3 1 2 4 1 5 5 5 5]\n",
      "[0.18656716 0.10447761 0.14925373 0.17910448 0.20895522 0.17164179]\n",
      "134\n",
      "[2 6 2 3 6 1 5 1 4 4 6 6 2 5 5 4 6 2 6 4 5 4 3 5 3 5 5 6 4 4 1 1 5 1 1 4 3\n",
      " 1 5 4 6 6 1 3 3 1 6 4 5 1 3 4 3 5 3 4 6 4 5 1 4 3 4 5 3 1 6 5 3 2 1 6 4 3\n",
      " 4 5 2 4 5 6 1 6 5 1 1 6 4 4 2 3 1 6 1 5 4 5 6 2 1 3 6 5 5 3 3 3 2 5 1 5 6\n",
      " 6 1 1 4 2 1 2 2 2 3 6 6 5 4 3 1 2 4 1 5 5 5 5]\n",
      "[0.18656716 0.10447761 0.14925373 0.17910448 0.20895522 0.17164179]\n",
      "None\n",
      "[1 1]\n",
      "[1. 0. 0. 0. 0. 0.]\n",
      "2\n",
      "[1 1]\n",
      "[1. 0. 0. 0. 0. 0.]\n",
      "None\n"
     ]
    }
   ],
   "source": [
    "def simulation(n):\n",
    "    rolls = dice_simulator(n)\n",
    "    prop = proportions(rolls)\n",
    "    max_streak = three_streak(rolls)\n",
    "    print(n)\n",
    "    print(rolls)\n",
    "    print(prop)\n",
    "    print(max_streak)\n",
    "    \n",
    "simulation(10)\n",
    "simulation(7)\n",
    "simulation(134)\n",
    "simulation(2)"
   ]
  }
 ],
 "metadata": {
  "kernelspec": {
   "display_name": "base",
   "language": "python",
   "name": "python3"
  },
  "language_info": {
   "codemirror_mode": {
    "name": "ipython",
    "version": 3
   },
   "file_extension": ".py",
   "mimetype": "text/x-python",
   "name": "python",
   "nbconvert_exporter": "python",
   "pygments_lexer": "ipython3",
   "version": "3.9.13"
  },
  "orig_nbformat": 4,
  "vscode": {
   "interpreter": {
    "hash": "2a91515c5e6dae3a009d2d1eaec559ed7ba9a6e2f0c27e43079320f27ea32610"
   }
  }
 },
 "nbformat": 4,
 "nbformat_minor": 2
}
