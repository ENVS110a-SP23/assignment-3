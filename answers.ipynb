{
 "cells": [
  {
   "cell_type": "markdown",
   "metadata": {},
   "source": [
    "# Assignment 3: Advanced Python (30 pt)\n",
    "\n",
    "This assignment covers materials from the material on loops, functions, and NumPy lectures.\n",
    "\n",
    "Note that these questions are longer and somewhat more open ended than previous assignments. Please reach out if you need assistance getting started.\n",
    "\n",
    "Feel free to create as many Python or Markdown cells as you desire to answer the questions."
   ]
  },
  {
   "cell_type": "markdown",
   "metadata": {},
   "source": [
    "## Question 1: For loops (10 pts)\n",
    "\n",
    "Below, we have a nested dictionary structure containing information about several species ranging from vulnerable to critically endangered. Note than in some cases, species populations are listed as `None`. This means that the wild populations of these species are unknown. \n",
    "\n",
    "Use for loops to accomplish the following tasks: \n",
    "\n",
    "- Create a data structure containing all unique types of \"Threats\". This variable should not contain duplicate entries. Print the structure (2 pt).\n",
    "- Create a list of all of the species listed as \"Critically Endangered\". Print the list (2 pt).\n",
    "- Create a separate list containing the names of species with populations with fewer than 50 individuals and species with unknown population sizes. Print the list (3 pt).\n",
    "- Find the species with the largest population size. Print this species name, and what its population size is (3 pt).\n",
    "\n",
    "If you hard code the solutions (e.g. manually pick out which species has the largest population) you will receive NO points."
   ]
  },
  {
   "cell_type": "code",
   "execution_count": 4,
   "metadata": {},
   "outputs": [],
   "source": [
    "conservation_data = {\n",
    "    \"Giant Panda\": {\n",
    "        \"Status\": \"Endangered\",\n",
    "        \"Population\": 1800,\n",
    "        \"Threats\": [\"Habitat loss\", \"Poaching\"]\n",
    "    },\n",
    "    \"Mountain Gorilla\": {\n",
    "        \"Status\": \"Critically Endangered\",\n",
    "        \"Population\": 1063,\n",
    "        \"Threats\": [\"Habitat loss\", \"Poaching\", \"Civil unrest\"]\n",
    "    },\n",
    "    \"Amur Leopard\": {\n",
    "        \"Status\": \"Critically Endangered\",\n",
    "        \"Population\": 84,\n",
    "        \"Threats\": [\"Habitat loss\", \"Poaching\"]\n",
    "    },\n",
    "    \"Vaquita\": {\n",
    "        \"Status\": \"Critically Endangered\",\n",
    "        \"Population\": 10,\n",
    "        \"Threats\": [\"Bycatch in fishing nets\"]\n",
    "    },\n",
    "    \"African Elephant\": {\n",
    "        \"Status\": \"Vulnerable\",\n",
    "        \"Population\": 415000,\n",
    "        \"Threats\": [\"Habitat loss\", \"Poaching\"]\n",
    "    },\n",
    "    \"Javan Rhino\": {\n",
    "        \"Status\": \"Critically Endangered\",\n",
    "        \"Population\": 72,\n",
    "        \"Threats\": [\"Habitat loss\", \"Poaching\"]\n",
    "    },\n",
    "    \"Sumatran Orangutan\": {\n",
    "        \"Status\": \"Critically Endangered\",\n",
    "        \"Population\": 14600,\n",
    "        \"Threats\": [\"Habitat loss\", \"Poaching\"]\n",
    "    },\n",
    "    \"Hawksbill Turtle\": {\n",
    "        \"Status\": \"Critically Endangered\",\n",
    "        \"Population\": None,\n",
    "        \"Threats\": [\"Habitat loss\", \"Poaching\"]\n",
    "    },\n",
    "    \"Saola\": {\n",
    "        \"Status\": \"Critically Endangered\",\n",
    "        \"Population\": None,\n",
    "        \"Threats\": [\"Habitat loss\", \"Poaching\"]\n",
    "    },\n",
    "    \"Iberian Lynx\": {\n",
    "        \"Status\": \"Endangered\",\n",
    "        \"Population\": 94,\n",
    "        \"Threats\": [\"Habitat loss\", \"Poaching\"]\n",
    "    }\n",
    "}\n"
   ]
  },
  {
   "cell_type": "code",
   "execution_count": 4,
   "metadata": {},
   "outputs": [
    {
     "name": "stdout",
     "output_type": "stream",
     "text": [
      "{'Civil unrest', 'Bycatch in fishing nets', 'Habitat loss', 'Poaching'}\n"
     ]
    }
   ],
   "source": [
    "threats = set()\n",
    "for species in conservation_data.values():\n",
    "\tfor threat in species[\"Threats\"]:\n",
    "\t\tthreats.add(threat)\n",
    "\t\n",
    "print(threats)"
   ]
  },
  {
   "cell_type": "code",
   "execution_count": 6,
   "metadata": {},
   "outputs": [
    {
     "name": "stdout",
     "output_type": "stream",
     "text": [
      "['Mountain Gorilla', 'Amur Leopard', 'Vaquita', 'Javan Rhino', 'Sumatran Orangutan', 'Hawksbill Turtle', 'Saola']\n"
     ]
    }
   ],
   "source": [
    "critically_endangered = []\n",
    "for species, data in conservation_data.items():\n",
    "\tif data[\"Status\"] == \"Critically Endangered\":\n",
    "\t\tcritically_endangered.append(species)\n",
    "\n",
    "print(critically_endangered)"
   ]
  },
  {
   "cell_type": "code",
   "execution_count": 8,
   "metadata": {},
   "outputs": [
    {
     "name": "stdout",
     "output_type": "stream",
     "text": [
      "['Vaquita', 'Hawksbill Turtle', 'Saola']\n"
     ]
    }
   ],
   "source": [
    "fewer_than_50 = []\n",
    "for species, data in conservation_data.items():\n",
    "\tif data[\"Population\"] == None or data[\"Population\"] < 50:\n",
    "\t\tfewer_than_50.append(species)\n",
    "\n",
    "print(fewer_than_50)"
   ]
  },
  {
   "cell_type": "code",
   "execution_count": 37,
   "metadata": {},
   "outputs": [
    {
     "name": "stdout",
     "output_type": "stream",
     "text": [
      "The species with the largest population is the African Elephant.\n",
      "The population of the African Elephant is 415000.\n"
     ]
    }
   ],
   "source": [
    "species_with_max_pop = None\n",
    "max_pop = 0\n",
    "for species, data in conservation_data.items():\n",
    "\tif data[\"Population\"] != None and data[\"Population\"] > max_pop:\n",
    "\t\tspecies_with_max_pop = species\n",
    "\t\tmax_pop = data[\"Population\"]\n",
    "\n",
    "print(\"The species with the largest population is the \" + species_with_max_pop + \".\")\n",
    "print(\"The population of the \" + species_with_max_pop + \" is \" + str(max_pop) + \".\")"
   ]
  },
  {
   "cell_type": "markdown",
   "metadata": {},
   "source": [
    "## Question 2: Functions (10 pt)\n",
    "\n",
    "When considering the health of an ecosystem, an important concept to quantify is the diversity of that system. There are several metrics commonly used to calculate ecosystem diversity, one of which is call Simpson's Diversity Index.\n",
    "\n",
    "This metric not takes into account how many species are present in an location, but also if one species has far more individuals than other species. For example, an ecosystem with 500 species but only one species above 10 individuals is not that diverse.\n",
    "\n",
    "We can calculate Simpson's Diversity ($D$) as follows:\n",
    "\n",
    "$D = 1 - [(\\frac{n_1}{N})^2 + (\\frac{n_2}{N})^2 + (\\frac{n_3}{N})^2 + ...]$\n",
    "\n",
    "For example, if an ecosystem has four species with 5, 2, 2, and 1 individuals (10 individuals total), you can calculate $D$ like this:\n",
    "\n",
    "$D = 1 - [(\\frac{5}{10})^2 + (\\frac{2}{10})^2 + (\\frac{2}{10})^2 + (\\frac{1}{10})^2] = 0.66$\n",
    "\n",
    "Define a function that calculates and returns $D$ given a list of species population levels, and run the function on several example lists (3 pt).\n",
    "\n",
    "Your answer should work for a list of **any** length (1 pt).\n",
    "\n",
    "Add documentation to the function that describes what it does, the desired parameters, and what data types the parameters should be (2 pt).\n",
    "\n",
    "Within the function, check that the input is a list. If the input is not a list, give a custom error message (2 pt).\n",
    "\n",
    "Also, make sure all entries in the list are integers. If there are floats, convert them to integers. If there are entries that are not floats or integers, give a custom error message (2 pt).\n",
    "\n"
   ]
  },
  {
   "cell_type": "code",
   "execution_count": 3,
   "metadata": {},
   "outputs": [
    {
     "name": "stdout",
     "output_type": "stream",
     "text": [
      "0.45\n",
      "0.66\n",
      "0.82\n",
      "0.82\n",
      "Input list contains non-numerical values.\n",
      "Input isn't a list.\n"
     ]
    }
   ],
   "source": [
    "example_input = [1882, 400, 321, 24]\n",
    "example_input2 = [5, 2, 2, 1]\n",
    "example_input3 = [1, 2, 3, 4, 5, 6, 7]\n",
    "example_input4 = [1.0, 2.0, 3.0, 4.0, 5.0, 6.0, 7.7]\n",
    "example_input5 = [1, 2, 3, 4, 5, 6, \"hello\"]\n",
    "example_input6 = \"hello\"\n",
    "\n",
    "def simpsons_diversity(l):\n",
    "\t''' Returns the Simpson's diversity index of a list of integers. \n",
    "\t\t------------------------------------------------\n",
    "\t\tl (list) - list of integers\n",
    "\t\treturn (float) - Simpson's diversity index rounded to the nearest hundredth \n",
    "\t'''\n",
    "\tif type(l) != list:\n",
    "\t\treturn \"Input isn't a list.\"\n",
    "\tfor i in l:\n",
    "\t\tif type(i) == float:\n",
    "\t\t\ti = int(i)\n",
    "\t\telif type(i) != int and type(i) != float:\n",
    "\t\t\treturn \"Input list contains non-numerical values.\"\n",
    "\treturn round(1 - sum([i**2 for i in l]) / sum([i for i in l])**2, 2)\n",
    "\n",
    "print(simpsons_diversity(example_input))\n",
    "print(simpsons_diversity(example_input2))\n",
    "print(simpsons_diversity(example_input3))\n",
    "print(simpsons_diversity(example_input4))\n",
    "print(simpsons_diversity(example_input5))\n",
    "print(simpsons_diversity(example_input6))\t\n"
   ]
  },
  {
   "cell_type": "markdown",
   "metadata": {},
   "source": [
    "## Question 3: Simulating data (10 pt)\n",
    "\n",
    "In data analysis, we often simulate data to help test our predictions and get a feel for how the real data should be. This questions asks you to use the functions found in `numpy.random` to simulate rolling.\n",
    "\n",
    "Define a function called `dice_simulator()` with an integer parameter called `n`. This function should create a list of integers 1 through 6 and randomly sample this list with replacement `n` times. The function should return the `n` samples as a list or numpy array. Note that `n` should be a positive integer (2 pt).\n",
    "\n",
    "Define a function called `proportions()` to calculate what proportion of the \"rolls\" that are 1s, 2s, 3s, 4s, 5s, and 6s. Print these 6 proportions. `proportions()` should have a single parameter called `rolls`, which should take in the output of `dice_simulator()` (3 pt).\n",
    "\n",
    "Define a function called `three_streak()` to calculate the maximum number of times 3 was \"rolled\" in a row and print this value. To be in a row, the 3's have to be next to each other in a list (such as if `rolls[1]` and `rolls[2]` are both 3). Like `proportions()`, `three_streak()` should have a single parameter called `rolls`, which should take in the output of `dice_simulator()` (3 pt). \n",
    "- *Hint: `max()` is a built in function in Python that finds the largest value in a list.*\n",
    "\n",
    "Define a function called `simulation()` that calls `dice_simulator()`, `proportions()`, and `three_streak()`. Make sure that `proportions()` and `three_streak()` are called so that they use the same dice rolls. `simulation()` should take a single parameter `n` that is fed into `dice_simulator()`. Have this function print the value of n, as well (1 pt). \n",
    "\n",
    "Call `simulation()` several times with the `n` parameter at different values (1 pt). \n",
    "\n",
    "\n",
    "\n"
   ]
  },
  {
   "cell_type": "code",
   "execution_count": 6,
   "metadata": {},
   "outputs": [],
   "source": [
    "import numpy as np\n"
   ]
  },
  {
   "cell_type": "code",
   "execution_count": 7,
   "metadata": {},
   "outputs": [
    {
     "name": "stdout",
     "output_type": "stream",
     "text": [
      "[1 5 4 6 4]\n",
      "4\n"
     ]
    }
   ],
   "source": [
    "def dice_simulator(n):\n",
    "\t''' Simulates a dice roll n number of times and returns the result. \n",
    "\t\t------------------------------------------------\n",
    "\t\tn (int) - number of times to roll the dice\n",
    "\t\treturn (int) - result of the dice roll\n",
    "\t'''\n",
    "\tif n < 1:\n",
    "\t\treturn \"n must be greater than 0.\"\n",
    "\treturn np.random.randint(1, 7, n)\n",
    "\n",
    "dice = dice_simulator(5)\n",
    "print(dice)\n",
    "print(dice[2])"
   ]
  },
  {
   "cell_type": "code",
   "execution_count": 8,
   "metadata": {},
   "outputs": [
    {
     "name": "stdout",
     "output_type": "stream",
     "text": [
      "1's proportion of rolls: 0.2\n",
      "2's proportion of rolls: 0.0\n",
      "3's proportion of rolls: 0.0\n",
      "4's proportion of rolls: 0.4\n",
      "5's proportion of rolls: 0.2\n",
      "6's proportion of rolls: 0.2\n"
     ]
    }
   ],
   "source": [
    "def proportions(rolls):\n",
    "\t''' Returns the proportion of each dice roll in the list\n",
    "\t\t------------------------------------------------\n",
    "\t\trolls (list) - list of integers representing dice rolls\n",
    "\t'''\n",
    "\tproportions = {1: 0, 2: 0, 3: 0, 4: 0, 5: 0, 6: 0}\n",
    "\tfor roll in rolls:\n",
    "\t\tproportions[roll] += 1\n",
    "\tfor roll in proportions:\n",
    "\t\tprint(str(roll) + \"'s proportion of rolls:\", round(proportions[roll] / len(rolls), 2))\n",
    "\n",
    "proportions(dice)\n",
    "\n",
    "\t"
   ]
  },
  {
   "cell_type": "code",
   "execution_count": 30,
   "metadata": {},
   "outputs": [
    {
     "name": "stdout",
     "output_type": "stream",
     "text": [
      "3\n"
     ]
    }
   ],
   "source": [
    "def three_streak(rolls):\n",
    "\t''' Returns max number of times 3 was rolled in a row\n",
    "\t\t------------------------------------------------\n",
    "\t\trolls (list) - list of integers representing dice rolls\n",
    "\t'''\n",
    "\tmax_streak = 0\n",
    "\tstreak = 0\n",
    "\tfor roll in rolls:\n",
    "\t\tif roll == 3:\n",
    "\t\t\tstreak += 1\n",
    "\t\telse:\n",
    "\t\t\tif streak > max_streak:\n",
    "\t\t\t\tmax_streak = streak\n",
    "\t\t\tstreak = 0\n",
    "\tprint(max_streak)\n",
    "\n",
    "\n",
    "dice = [1,2,3,3,4,3,3,3,5]\n",
    "three_streak(dice)"
   ]
  },
  {
   "cell_type": "code",
   "execution_count": 36,
   "metadata": {},
   "outputs": [
    {
     "name": "stdout",
     "output_type": "stream",
     "text": [
      "Rolling the dice 10 times...\n",
      "1's proportion of rolls: 0.1\n",
      "2's proportion of rolls: 0.2\n",
      "3's proportion of rolls: 0.4\n",
      "4's proportion of rolls: 0.1\n",
      "5's proportion of rolls: 0.1\n",
      "6's proportion of rolls: 0.1\n",
      "2\n",
      "Rolling the dice 20 times...\n",
      "1's proportion of rolls: 0.1\n",
      "2's proportion of rolls: 0.25\n",
      "3's proportion of rolls: 0.0\n",
      "4's proportion of rolls: 0.2\n",
      "5's proportion of rolls: 0.2\n",
      "6's proportion of rolls: 0.25\n",
      "0\n",
      "Rolling the dice 30 times...\n",
      "1's proportion of rolls: 0.17\n",
      "2's proportion of rolls: 0.03\n",
      "3's proportion of rolls: 0.13\n",
      "4's proportion of rolls: 0.2\n",
      "5's proportion of rolls: 0.13\n",
      "6's proportion of rolls: 0.33\n",
      "1\n",
      "Rolling the dice 40 times...\n",
      "1's proportion of rolls: 0.07\n",
      "2's proportion of rolls: 0.17\n",
      "3's proportion of rolls: 0.23\n",
      "4's proportion of rolls: 0.23\n",
      "5's proportion of rolls: 0.05\n",
      "6's proportion of rolls: 0.25\n",
      "3\n",
      "Rolling the dice 50 times...\n",
      "1's proportion of rolls: 0.18\n",
      "2's proportion of rolls: 0.3\n",
      "3's proportion of rolls: 0.16\n",
      "4's proportion of rolls: 0.14\n",
      "5's proportion of rolls: 0.16\n",
      "6's proportion of rolls: 0.06\n",
      "2\n",
      "Rolling the dice 60 times...\n",
      "1's proportion of rolls: 0.17\n",
      "2's proportion of rolls: 0.13\n",
      "3's proportion of rolls: 0.23\n",
      "4's proportion of rolls: 0.1\n",
      "5's proportion of rolls: 0.18\n",
      "6's proportion of rolls: 0.18\n",
      "3\n",
      "Rolling the dice 70 times...\n",
      "1's proportion of rolls: 0.2\n",
      "2's proportion of rolls: 0.17\n",
      "3's proportion of rolls: 0.14\n",
      "4's proportion of rolls: 0.19\n",
      "5's proportion of rolls: 0.07\n",
      "6's proportion of rolls: 0.23\n",
      "2\n",
      "Rolling the dice 80 times...\n",
      "1's proportion of rolls: 0.12\n",
      "2's proportion of rolls: 0.21\n",
      "3's proportion of rolls: 0.2\n",
      "4's proportion of rolls: 0.15\n",
      "5's proportion of rolls: 0.2\n",
      "6's proportion of rolls: 0.11\n",
      "3\n",
      "Rolling the dice 90 times...\n",
      "1's proportion of rolls: 0.2\n",
      "2's proportion of rolls: 0.18\n",
      "3's proportion of rolls: 0.17\n",
      "4's proportion of rolls: 0.16\n",
      "5's proportion of rolls: 0.14\n",
      "6's proportion of rolls: 0.16\n",
      "3\n",
      "Rolling the dice 100 times...\n",
      "1's proportion of rolls: 0.11\n",
      "2's proportion of rolls: 0.13\n",
      "3's proportion of rolls: 0.15\n",
      "4's proportion of rolls: 0.29\n",
      "5's proportion of rolls: 0.17\n",
      "6's proportion of rolls: 0.15\n",
      "2\n"
     ]
    }
   ],
   "source": [
    "def simulation(n):\n",
    "\t''' Simulates rolling a dice n times and returns the max number of times 3 was rolled in a row\n",
    "\t\t------------------------------------------------\n",
    "\t\tn (int) - number of times to roll the dice\n",
    "\t'''\n",
    "\tprint(\"Rolling the dice\", n, \"times...\")\n",
    "\tdice = dice_simulator(n)\n",
    "\tproportions(dice)\n",
    "\tthree_streak(dice)\n",
    "\n",
    "for i in range(1, 11):\n",
    "\tsimulation(i * 10)\n",
    "\t"
   ]
  }
 ],
 "metadata": {
  "kernelspec": {
   "display_name": "Python 3.9.12 ('base')",
   "language": "python",
   "name": "python3"
  },
  "language_info": {
   "codemirror_mode": {
    "name": "ipython",
    "version": 3
   },
   "file_extension": ".py",
   "mimetype": "text/x-python",
   "name": "python",
   "nbconvert_exporter": "python",
   "pygments_lexer": "ipython3",
   "version": "3.8.2"
  },
  "orig_nbformat": 4,
  "vscode": {
   "interpreter": {
    "hash": "b52b534d3e8b2df8a7f375ea8b488ed7c2e546a5d77230d70bd2c6badbd8c861"
   }
  }
 },
 "nbformat": 4,
 "nbformat_minor": 2
}
