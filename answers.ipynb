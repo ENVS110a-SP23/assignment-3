{
 "cells": [
  {
   "cell_type": "markdown",
   "metadata": {},
   "source": [
    "# Assignment 3: Advanced Python (30 pt)\n",
    "\n",
    "This assignment covers materials from the material on loops, functions, and NumPy lectures.\n",
    "\n",
    "Note that these questions are longer and somewhat more open ended than previous assignments. Please reach out if you need assistance getting started.\n",
    "\n",
    "Feel free to create as many Python or Markdown cells as you desire to answer the questions."
   ]
  },
  {
   "cell_type": "markdown",
   "metadata": {},
   "source": [
    "## Question 1: For loops (10 pts)\n",
    "\n",
    "Below, we have a nested dictionary structure containing information about several species ranging from vulnerable to critically endangered. Note than in some cases, species populations are listed as `None`. This means that the wild populations of these species are unknown. \n",
    "\n",
    "Use for loops to accomplish the following tasks: \n",
    "\n",
    "- Create a data structure containing all unique types of \"Threats\". This variable should not contain duplicate entries. Print the structure (2 pt).\n",
    "- Create a list of all of the species listed as \"Critically Endangered\". Print the list (2 pt).\n",
    "- Create a separate list containing the names of species with populations with fewer than 50 individuals and species with unknown population sizes. Print the list (3 pt).\n",
    "- Find the species with the largest population size. Print this species name, and what its population size is (3 pt).\n",
    "\n",
    "If you hard code the solutions (e.g. manually pick out which species has the largest population) you will receive NO points."
   ]
  },
  {
   "cell_type": "code",
   "execution_count": 81,
   "metadata": {},
   "outputs": [
    {
     "name": "stdout",
     "output_type": "stream",
     "text": [
      "[]\n"
     ]
    }
   ],
   "source": [
    "conservation_data = {\n",
    "    \"Giant Panda\": {\n",
    "        \"Status\": \"Endangered\",\n",
    "        \"Population\": 1800,\n",
    "        \"Threats\": [\"Habitat loss\", \"Poaching\"]\n",
    "    },\n",
    "    \"Mountain Gorilla\": {\n",
    "        \"Status\": \"Critically Endangered\",\n",
    "        \"Population\": 1063,\n",
    "        \"Threats\": [\"Habitat loss\", \"Poaching\", \"Civil unrest\"]\n",
    "    },\n",
    "    \"Amur Leopard\": {\n",
    "        \"Status\": \"Critically Endangered\",\n",
    "        \"Population\": 84,\n",
    "        \"Threats\": [\"Habitat loss\", \"Poaching\"]\n",
    "    },\n",
    "    \"Vaquita\": {\n",
    "        \"Status\": \"Critically Endangered\",\n",
    "        \"Population\": 10,\n",
    "        \"Threats\": [\"Bycatch in fishing nets\"]\n",
    "    },\n",
    "    \"African Elephant\": {\n",
    "        \"Status\": \"Vulnerable\",\n",
    "        \"Population\": 415000,\n",
    "        \"Threats\": [\"Habitat loss\", \"Poaching\"]\n",
    "    },\n",
    "    \"Javan Rhino\": {\n",
    "        \"Status\": \"Critically Endangered\",\n",
    "        \"Population\": 72,\n",
    "        \"Threats\": [\"Habitat loss\", \"Poaching\"]\n",
    "    },\n",
    "    \"Sumatran Orangutan\": {\n",
    "        \"Status\": \"Critically Endangered\",\n",
    "        \"Population\": 14600,\n",
    "        \"Threats\": [\"Habitat loss\", \"Poaching\"]\n",
    "    },\n",
    "    \"Hawksbill Turtle\": {\n",
    "        \"Status\": \"Critically Endangered\",\n",
    "        \"Population\": None,\n",
    "        \"Threats\": [\"Habitat loss\", \"Poaching\"]\n",
    "    },\n",
    "    \"Saola\": {\n",
    "        \"Status\": \"Critically Endangered\",\n",
    "        \"Population\": None,\n",
    "        \"Threats\": [\"Habitat loss\", \"Poaching\"]\n",
    "    },\n",
    "    \"Iberian Lynx\": {\n",
    "        \"Status\": \"Endangered\",\n",
    "        \"Population\": 94,\n",
    "        \"Threats\": [\"Habitat loss\", \"Poaching\"]\n",
    "    }\n",
    "}\n",
    "\n"
   ]
  },
  {
   "cell_type": "code",
   "execution_count": 78,
   "metadata": {},
   "outputs": [
    {
     "name": "stdout",
     "output_type": "stream",
     "text": [
      "{'Habitat loss', 'Bycatch in fishing nets', 'Poaching', 'Civil unrest'}\n"
     ]
    }
   ],
   "source": [
    "Threats=set()\n",
    "for species in conservation_data.values():\n",
    "    for threat in species['Threats']:\n",
    "        Threats.add(threat)\n",
    "\n",
    "print (Threats)"
   ]
  },
  {
   "cell_type": "code",
   "execution_count": 84,
   "metadata": {},
   "outputs": [
    {
     "name": "stdout",
     "output_type": "stream",
     "text": [
      "['Mountain Gorilla', 'Amur Leopard', 'Vaquita', 'Javan Rhino', 'Sumatran Orangutan', 'Hawksbill Turtle', 'Saola']\n"
     ]
    }
   ],
   "source": [
    "critically_endangered=list()\n",
    "for species,data in conservation_data.items():\n",
    "        if data['Status'] =='Critically Endangered':\n",
    "            critically_endangered.append(species)\n",
    "\n",
    "print (critically_endangered)"
   ]
  },
  {
   "cell_type": "code",
   "execution_count": 99,
   "metadata": {},
   "outputs": [
    {
     "name": "stdout",
     "output_type": "stream",
     "text": [
      "['Vaquita', 'Hawksbill Turtle', 'Saola']\n"
     ]
    }
   ],
   "source": [
    "list_under_50=list()\n",
    "for species,data in conservation_data.items():\n",
    "    if data['Population'] is None or data['Population'] < 50:\n",
    "        list_under_50.append(species)\n",
    "\n",
    "print(list_under_50)"
   ]
  },
  {
   "cell_type": "code",
   "execution_count": 101,
   "metadata": {},
   "outputs": [
    {
     "name": "stdout",
     "output_type": "stream",
     "text": [
      "species with largest population is African Elephant population 415000\n"
     ]
    }
   ],
   "source": [
    "largest_species=''\n",
    "largest_population=0\n",
    "\n",
    "for species,data in conservation_data.items():\n",
    "    population=data['Population']\n",
    "    if population is not None and population > largest_population:\n",
    "        largest_population=population\n",
    "        largest_species=species\n",
    "\n",
    "print(\"species with largest population is\",largest_species,\"population\",largest_population)\n"
   ]
  },
  {
   "cell_type": "markdown",
   "metadata": {},
   "source": [
    "## Question 2: Functions (10 pt)\n",
    "\n",
    "When considering the health of an ecosystem, an important concept to quantify is the diversity of that system. There are several metrics commonly used to calculate ecosystem diversity, one of which is call Simpson's Diversity Index.\n",
    "\n",
    "This metric not takes into account how many species are present in an location, but also if one species has far more individuals than other species. For example, an ecosystem with 500 species but only one species above 10 individuals is not that diverse.\n",
    "\n",
    "We can calculate Simpson's Diversity ($D$) as follows:\n",
    "\n",
    "$D = 1 - [(\\frac{n_1}{N})^2 + (\\frac{n_2}{N})^2 + (\\frac{n_3}{N})^2 + ...]$\n",
    "\n",
    "For example, if an ecosystem has four species with 5, 2, 2, and 1 individuals (10 individuals total), you can calculate $D$ like this:\n",
    "\n",
    "$D = 1 - [(\\frac{5}{10})^2 + (\\frac{2}{10})^2 + (\\frac{2}{10})^2 + (\\frac{1}{10})^2] = 0.66$\n",
    "\n",
    "Define a function that calculates and returns $D$ given a list of species population levels, and run the function on several example lists (3 pt).\n",
    "\n",
    "Your answer should work for a list of **any** length (1 pt).\n",
    "\n",
    "Add documentation to the function that describes what it does, the desired parameters, and what data types the parameters should be (2 pt).\n",
    "\n",
    "Within the function, check that the input is a list. If the input is not a list, give a custom error message (2 pt).\n",
    "\n",
    "Also, make sure all entries in the list are integers. If there are floats, convert them to integers. If there are entries that are not floats or integers, give a custom error message (2 pt).\n",
    "\n"
   ]
  },
  {
   "cell_type": "code",
   "execution_count": 69,
   "metadata": {},
   "outputs": [
    {
     "data": {
      "text/plain": [
       "0.4485625467948795"
      ]
     },
     "execution_count": 69,
     "metadata": {},
     "output_type": "execute_result"
    }
   ],
   "source": [
    "# example_input = [1882, 400, 321, 24]\n",
    "def Simpson_D(species_list):\n",
    "    '''Calculates Simpson's Diversity\n",
    "    parameters: a list of integers representing the population levels of each species in the ecosystem\n",
    "    '''\n",
    "    if not isinstance(species_list, list):\n",
    "        return TypeError (\"must be a list of integers\")\n",
    "    species_list=[int(level) for level in species_list]\n",
    "    if not all(isinstance(level,int) for level in species_list):\n",
    "        return TypeError (\"Need to be all integers\")\n",
    "    Species_list_sum=sum(species_list)\n",
    "    proportions=[(level/Species_list_sum)**2 for level in species_list]\n",
    "    D=1-sum(proportions)\n",
    "    return D \n",
    "\n",
    "species_list=[1882,400,321,24]\n",
    "Simpson_D(species_list)"
   ]
  },
  {
   "cell_type": "markdown",
   "metadata": {},
   "source": [
    "## Question 3: Simulating data (10 pt)\n",
    "\n",
    "In data analysis, we often simulate data to help test our predictions and get a feel for how the real data should be. This questions asks you to use the functions found in `numpy.random` to simulate rolling.\n",
    "\n",
    "Define a function called `dice_simulator()` with an integer parameter called `n`. This function should create a list of integers 1 through 6 and randomly sample this list with replacement `n` times. The function should return the `n` samples as a list or numpy array. Note that `n` should be a positive integer (2 pt).\n",
    "\n",
    "Define a function called `proportions()` to calculate what proportion of the \"rolls\" that are 1s, 2s, 3s, 4s, 5s, and 6s. Print these 6 proportions. `proportions()` should have a single parameter called `rolls`, which should take in the output of `dice_simulator()` (3 pt).\n",
    "\n",
    "Define a function called `three_streak()` to calculate the maximum number of times 3 was \"rolled\" in a row and print this value. To be in a row, the 3's have to be next to each other in a list (such as if `rolls[1]` and `rolls[2]` are both 3). Like `proportions()`, `three_streak()` should have a single parameter called `rolls`, which should take in the output of `dice_simulator()` (3 pt). \n",
    "- *Hint: `max()` is a built in function in Python that finds the largest value in a list.*\n",
    "\n",
    "Define a function called `simulation()` that calls `dice_simulator()`, `proportions()`, and `three_streak()`. Make sure that `proportions()` and `three_streak()` are called so that they use the same dice rolls. `simulation()` should take a single parameter `n` that is fed into `dice_simulator()`. Have this function print the value of n, as well (1 pt). \n",
    "\n",
    "Call `simulation()` several times with the `n` parameter at different values (1 pt). \n",
    "\n",
    "\n",
    "\n"
   ]
  },
  {
   "cell_type": "code",
   "execution_count": 60,
   "metadata": {},
   "outputs": [
    {
     "name": "stdout",
     "output_type": "stream",
     "text": [
      "[4, 2, 3, 4, 5]\n",
      "the proportions of the 6 numbers is [0.0, 0.2, 0.2, 0.4, 0.2, 0.0]\n",
      "the max streak of 3 is 1\n"
     ]
    }
   ],
   "source": [
    "import numpy as np\n",
    "\n",
    "def dice_simulator(n):\n",
    "    '''generate randome list with n numbers and possibilities 1-6'''\n",
    "    if not isinstance(n, int) or n < 1:\n",
    "        return ValueError(\"n must be a positive integer\")\n",
    "    dice = [1, 2, 3, 4, 5, 6]\n",
    "    samples = np.random.choice(dice, size=n, replace=True)\n",
    "    return samples.tolist()\n",
    "\n",
    "def proportions(rolls):\n",
    "    '''calculates the proportion of 1-6 in the random list generated above'''\n",
    "    total_rolls = len(rolls)\n",
    "    proportions = [rolls.count(i) / total_rolls for i in range(1, 7)]\n",
    "    return proportions\n",
    "\n",
    "def three_streak(rolls):\n",
    "    '''calculates the biggest streak of 3s in a row'''\n",
    "    max_streak=0\n",
    "    current_streak=0\n",
    "    for roll in rolls:\n",
    "        if roll==3:\n",
    "            current_streak+=1\n",
    "            max_streak=max(max_streak,current_streak)\n",
    "        else:\n",
    "            current_streak=0\n",
    "    return max_streak\n",
    "\n",
    "def simulation(n):\n",
    "    '''puts everything together'''\n",
    "    dice_simulator_result=dice_simulator(n)\n",
    "    print(dice_simulator_result)\n",
    "    output_2=proportions(dice_simulator_result)\n",
    "    print(\"the proportions of the 6 numbers is\", output_2)\n",
    "    output_3=three_streak(dice_simulator_result)\n",
    "    print(\"the max streak of 3 is\",output_3)\n",
    "\n",
    "#example\n",
    "simulation(5)"
   ]
  }
 ],
 "metadata": {
  "kernelspec": {
   "display_name": "Python 3.9.12 ('base')",
   "language": "python",
   "name": "python3"
  },
  "language_info": {
   "codemirror_mode": {
    "name": "ipython",
    "version": 3
   },
   "file_extension": ".py",
   "mimetype": "text/x-python",
   "name": "python",
   "nbconvert_exporter": "python",
   "pygments_lexer": "ipython3",
   "version": "3.9.13"
  },
  "orig_nbformat": 4,
  "vscode": {
   "interpreter": {
    "hash": "b52b534d3e8b2df8a7f375ea8b488ed7c2e546a5d77230d70bd2c6badbd8c861"
   }
  }
 },
 "nbformat": 4,
 "nbformat_minor": 2
}
