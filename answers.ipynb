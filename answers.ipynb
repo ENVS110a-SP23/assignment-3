{
 "cells": [
  {
   "cell_type": "markdown",
   "metadata": {},
   "source": [
    "# Assignment 3: Advanced Python (30 pt)\n",
    "\n",
    "This assignment covers materials from the material on loops, functions, and NumPy lectures.\n",
    "\n",
    "Note that these questions are longer and somewhat more open ended than previous assignments. Please reach out if you need assistance getting started.\n",
    "\n",
    "Feel free to create as many Python or Markdown cells as you desire to answer the questions."
   ]
  },
  {
   "cell_type": "markdown",
   "metadata": {},
   "source": [
    "## Question 1: For loops (10 pts)\n",
    "\n",
    "Below, we have a nested dictionary structure containing information about several species ranging from vulnerable to critically endangered. Note than in some cases, species populations are listed as `None`. This means that the wild populations of these species are unknown. \n",
    "\n",
    "Use for loops to accomplish the following tasks: \n",
    "\n",
    "- Create a data structure containing all unique types of \"Threats\". This variable should not contain duplicate entries. Print the structure (2 pt).\n",
    "- Create a list of all of the species listed as \"Critically Endangered\". Print the list (2 pt).\n",
    "- Create a separate list containing the names of species with populations with fewer than 50 individuals and species with unknown population sizes. Print the list (3 pt).\n",
    "- Find the species with the largest population size. Print this species name, and what its population size is (3 pt).\n",
    "\n",
    "If you hard code the solutions (e.g. manually pick out which species has the largest population) you will receive NO points."
   ]
  },
  {
   "cell_type": "code",
   "execution_count": 152,
   "metadata": {},
   "outputs": [
    {
     "name": "stdout",
     "output_type": "stream",
     "text": [
      "['Mountain Gorilla', 'Amur Leopard', 'Vaquita', 'Javan Rhino', 'Sumatran Orangutan', 'Hawksbill Turtle', 'Saola']\n"
     ]
    }
   ],
   "source": [
    "conservation_data = {\n",
    "    \"Giant Panda\": {\n",
    "        \"Status\": \"Endangered\",\n",
    "        \"Population\": 1800,\n",
    "        \"Threats\": [\"Habitat loss\", \"Poaching\"]\n",
    "    },\n",
    "    \"Mountain Gorilla\": {\n",
    "        \"Status\": \"Critically Endangered\",\n",
    "        \"Population\": 1063,\n",
    "        \"Threats\": [\"Habitat loss\", \"Poaching\", \"Civil unrest\"]\n",
    "    },\n",
    "    \"Amur Leopard\": {\n",
    "        \"Status\": \"Critically Endangered\",\n",
    "        \"Population\": 84,\n",
    "        \"Threats\": [\"Habitat loss\", \"Poaching\"]\n",
    "    },\n",
    "    \"Vaquita\": {\n",
    "        \"Status\": \"Critically Endangered\",\n",
    "        \"Population\": 10,\n",
    "        \"Threats\": [\"Bycatch in fishing nets\"]\n",
    "    },\n",
    "    \"African Elephant\": {\n",
    "        \"Status\": \"Vulnerable\",\n",
    "        \"Population\": 415000,\n",
    "        \"Threats\": [\"Habitat loss\", \"Poaching\"]\n",
    "    },\n",
    "    \"Javan Rhino\": {\n",
    "        \"Status\": \"Critically Endangered\",\n",
    "        \"Population\": 72,\n",
    "        \"Threats\": [\"Habitat loss\", \"Poaching\"]\n",
    "    },\n",
    "    \"Sumatran Orangutan\": {\n",
    "        \"Status\": \"Critically Endangered\",\n",
    "        \"Population\": 14600,\n",
    "        \"Threats\": [\"Habitat loss\", \"Poaching\"]\n",
    "    },\n",
    "    \"Hawksbill Turtle\": {\n",
    "        \"Status\": \"Critically Endangered\",\n",
    "        \"Population\": None,\n",
    "        \"Threats\": [\"Habitat loss\", \"Poaching\"]\n",
    "    },\n",
    "    \"Saola\": {\n",
    "        \"Status\": \"Critically Endangered\",\n",
    "        \"Population\": None,\n",
    "        \"Threats\": [\"Habitat loss\", \"Poaching\"]\n",
    "    },\n",
    "    \"Iberian Lynx\": {\n",
    "        \"Status\": \"Endangered\",\n",
    "        \"Population\": 94,\n",
    "        \"Threats\": [\"Habitat loss\", \"Poaching\"]\n",
    "    }\n",
    "}  "
   ]
  },
  {
   "cell_type": "code",
   "execution_count": 178,
   "metadata": {},
   "outputs": [
    {
     "name": "stdout",
     "output_type": "stream",
     "text": [
      "[{'Habitat loss', 'Bycatch in fishing nets', 'Civil unrest', 'Poaching'}]\n"
     ]
    }
   ],
   "source": [
    "#Part 1\n",
    "threats = []\n",
    "\n",
    "for species in conservation_data:\n",
    "    for threat in conservation_data[species].values():\n",
    "        if type(threat) == list : \n",
    "            for types in threat:\n",
    "                threats.append(types)\n",
    "\n",
    "\n",
    "unique_threats = [set(threats)]\n",
    "\n",
    "print(unique_threats)"
   ]
  },
  {
   "cell_type": "code",
   "execution_count": 177,
   "metadata": {},
   "outputs": [
    {
     "name": "stdout",
     "output_type": "stream",
     "text": [
      "['Mountain Gorilla', 'Amur Leopard', 'Vaquita', 'Javan Rhino', 'Sumatran Orangutan', 'Hawksbill Turtle', 'Saola']\n"
     ]
    }
   ],
   "source": [
    "# part 2 \n",
    "\n",
    "critically_endangered = []\n",
    "\n",
    "for species in conservation_data:\n",
    "    for status in conservation_data[species].values():\n",
    "        if status == \"Critically Endangered\":\n",
    "            critically_endangered.append(species)\n",
    "\n",
    "print(critically_endangered)"
   ]
  },
  {
   "cell_type": "code",
   "execution_count": 195,
   "metadata": {},
   "outputs": [
    {
     "name": "stdout",
     "output_type": "stream",
     "text": [
      "['Vaquita', 'Hawksbill Turtle', 'Saola']\n"
     ]
    }
   ],
   "source": [
    "# part 3 \n",
    "PopulationCount = []\n",
    "\n",
    "for species in conservation_data:\n",
    "    for population in conservation_data[species].values():\n",
    "        if type(population) == int:\n",
    "            if population < 50:\n",
    "                PopulationCount.append(species)\n",
    "        elif population == None:\n",
    "            PopulationCount.append(species)\n",
    "\n",
    "print(PopulationCount)"
   ]
  },
  {
   "cell_type": "code",
   "execution_count": 238,
   "metadata": {},
   "outputs": [
    {
     "name": "stdout",
     "output_type": "stream",
     "text": [
      "African Elephant 415000\n"
     ]
    }
   ],
   "source": [
    "# part 4\n",
    "largest_species = []\n",
    "\n",
    "for species in conservation_data:\n",
    "    for population in conservation_data[species].values():\n",
    "        if type(population) == int:\n",
    "            largest_species.append(population)\n",
    "        \n",
    "\n",
    "for species in conservation_data:\n",
    "    for population in conservation_data[species].values():\n",
    "        if population == max(largest_species): \n",
    "            print(species, population)\n",
    "\n",
    "\n"
   ]
  },
  {
   "cell_type": "markdown",
   "metadata": {},
   "source": [
    "## Question 2: Functions (10 pt)\n",
    "\n",
    "When considering the health of an ecosystem, an important concept to quantify is the diversity of that system. There are several metrics commonly used to calculate ecosystem diversity, one of which is call Simpson's Diversity Index.\n",
    "\n",
    "This metric not takes into account how many species are present in an location, but also if one species has far more individuals than other species. For example, an ecosystem with 500 species but only one species above 10 individuals is not that diverse.\n",
    "\n",
    "We can calculate Simpson's Diversity ($D$) as follows:\n",
    "\n",
    "$D = 1 - [(\\frac{n_1}{N})^2 + (\\frac{n_2}{N})^2 + (\\frac{n_3}{N})^2 + ...]$\n",
    "\n",
    "For example, if an ecosystem has four species with 5, 2, 2, and 1 individuals (10 individuals total), you can calculate $D$ like this:\n",
    "\n",
    "$D = 1 - [(\\frac{5}{10})^2 + (\\frac{2}{10})^2 + (\\frac{2}{10})^2 + (\\frac{1}{10})^2] = 0.66$\n",
    "\n",
    "Define a function that calculates and returns $D$ given a list of species population levels, and run the function on several example lists (3 pt).\n",
    "\n",
    "Your answer should work for a list of **any** length (1 pt).\n",
    "\n",
    "Add documentation to the function that describes what it does, the desired parameters, and what data types the parameters should be (2 pt).\n",
    "\n",
    "Within the function, check that the input is a list. If the input is not a list, give a custom error message (2 pt).\n",
    "\n",
    "Also, make sure all entries in the list are integers. If there are floats, convert them to integers. If there are entries that are not floats or integers, give a custom error message (2 pt).\n",
    "\n"
   ]
  },
  {
   "cell_type": "code",
   "execution_count": 89,
   "metadata": {},
   "outputs": [
    {
     "data": {
      "text/plain": [
       "0.4485625467948795"
      ]
     },
     "execution_count": 89,
     "metadata": {},
     "output_type": "execute_result"
    }
   ],
   "source": [
    "# Part 1\n",
    "example_input = [1882, 400, 321, 24]\n",
    "\n",
    "def SimpsonsD(list_name):\n",
    "    totals = []\n",
    "    for species in list_name:\n",
    "        y =  (species/sum(list_name))**2\n",
    "        totals.append(y)\n",
    "    return 1 - sum(totals) \n",
    "\n",
    "SimpsonsD(example_input)\n",
    "    \n"
   ]
  },
  {
   "cell_type": "code",
   "execution_count": 90,
   "metadata": {},
   "outputs": [
    {
     "name": "stdout",
     "output_type": "stream",
     "text": [
      "0.8391022174148188 0.12402829941479598\n"
     ]
    }
   ],
   "source": [
    "# Part 2\n",
    "longlist = [1,2,4,5,6,7,3,4,2,5,8,10,29]\n",
    "shortlist = [10,200,4]\n",
    "\n",
    "print(SimpsonsD(longlist), SimpsonsD(shortlist))"
   ]
  },
  {
   "cell_type": "code",
   "execution_count": 61,
   "metadata": {},
   "outputs": [
    {
     "data": {
      "text/plain": [
       "0.4485625467948795"
      ]
     },
     "execution_count": 61,
     "metadata": {},
     "output_type": "execute_result"
    }
   ],
   "source": [
    "# Part 3\n",
    "example_input = [1882, 400, 321, 24]\n",
    "\n",
    "def SimpsonsD(list_name):\n",
    "    \"\"\"\n",
    "    create an empty list named totals, then create for loop to run the list through the equation\n",
    "    on the second half of the equation and store each value in totals, then return 1 - the sum\n",
    "    of totals (which would represent the second half of the equation)\n",
    "    --------------------------------------------------------------------------------------------\n",
    "    list_name (list) - the population count for each species as a separate entry in the list\n",
    "    \"\"\"\n",
    "    totals = []\n",
    "    for species in list_name:\n",
    "        y =  (species/sum(list_name))**2\n",
    "        totals.append(y)\n",
    "    return 1 - sum(totals) \n",
    "\n",
    "SimpsonsD(example_input)"
   ]
  },
  {
   "cell_type": "code",
   "execution_count": 3,
   "metadata": {},
   "outputs": [
    {
     "data": {
      "text/plain": [
       "'Error: input must be list'"
      ]
     },
     "execution_count": 3,
     "metadata": {},
     "output_type": "execute_result"
    }
   ],
   "source": [
    "# part 4\n",
    "\n",
    "def SimpsonsD(list_name):\n",
    "    totals = []\n",
    "    if type(list_name) == list:\n",
    "        for species in list_name:\n",
    "            y =  (species/sum(list_name))**2\n",
    "            totals.append(y)\n",
    "        return 1- sum(totals)\n",
    "    else: \n",
    "        return 'Error: input must be list'\n",
    "\n",
    "\n",
    "SimpsonsD(123)"
   ]
  },
  {
   "cell_type": "code",
   "execution_count": 2,
   "metadata": {},
   "outputs": [
    {
     "name": "stdout",
     "output_type": "stream",
     "text": [
      "0.7448979591836735 0.7448979591836735 Error: entries must be floats or integers\n"
     ]
    }
   ],
   "source": [
    "# part 5\n",
    "\n",
    "def SimpsonsD(list_name):\n",
    "    totals = []\n",
    "    if type(list_name) == list:\n",
    "        for species in list_name:\n",
    "            if type(species) == float or type(species) == int:\n",
    "                y =  (int(species)/sum(int(i) for i in list_name))**2\n",
    "                totals.append(y)\n",
    "            else:\n",
    "                return 'Error: entries must be floats or integers'\n",
    "            \n",
    "        return 1 - sum(totals)\n",
    "    else: \n",
    "        return 'Error: input must be list'\n",
    "\n",
    "trial_ctrl = [4,4,3,3]\n",
    "trial_float = [4.4,4.4,3.4,3.4]\n",
    "trial_error = ['4',4,4,3]\n",
    "\n",
    "print(SimpsonsD(trial_ctrl),SimpsonsD(trial_float),SimpsonsD(trial_error))"
   ]
  },
  {
   "cell_type": "markdown",
   "metadata": {},
   "source": [
    "## Question 3: Simulating data (10 pt)\n",
    "\n",
    "In data analysis, we often simulate data to help test our predictions and get a feel for how the real data should be. This questions asks you to use the functions found in `numpy.random` to simulate rolling.\n",
    "\n",
    "Define a function called `dice_simulator()` with an integer parameter called `n`. This function should create a list of integers 1 through 6 and randomly sample this list with replacement `n` times. The function should return the `n` samples as a list or numpy array. Note that `n` should be a positive integer (2 pt).\n",
    "\n",
    "Define a function called `proportions()` to calculate what proportion of the \"rolls\" that are 1s, 2s, 3s, 4s, 5s, and 6s. Print these 6 proportions. `proportions()` should have a single parameter called `rolls`, which should take in the output of `dice_simulator()` (3 pt).\n",
    "\n",
    "Define a function called `three_streak()` to calculate the maximum number of times 3 was \"rolled\" in a row and print this value. To be in a row, the 3's have to be next to each other in a list (such as if `rolls[1]` and `rolls[2]` are both 3). Like `proportions()`, `three_streak()` should have a single parameter called `rolls`, which should take in the output of `dice_simulator()` (3 pt). \n",
    "- *Hint: `max()` is a built in function in Python that finds the largest value in a list.*\n",
    "\n",
    "Define a function called `simulation()` that calls `dice_simulator()`, `proportions()`, and `three_streak()`. Make sure that `proportions()` and `three_streak()` are called so that they use the same dice rolls. `simulation()` should take a single parameter `n` that is fed into `dice_simulator()`. Have this function print the value of n, as well (1 pt). \n",
    "\n",
    "Call `simulation()` several times with the `n` parameter at different values (1 pt). \n",
    "\n",
    "\n",
    "\n"
   ]
  },
  {
   "cell_type": "code",
   "execution_count": 8,
   "metadata": {},
   "outputs": [],
   "source": [
    "import numpy as np"
   ]
  },
  {
   "cell_type": "code",
   "execution_count": 9,
   "metadata": {},
   "outputs": [
    {
     "data": {
      "text/plain": [
       "array([5, 5, 4, 5, 6, 3, 1])"
      ]
     },
     "execution_count": 9,
     "metadata": {},
     "output_type": "execute_result"
    }
   ],
   "source": [
    "# part 1 \n",
    "def dice_simulator(n):\n",
    "    num_list = [1,2,3,4,5,6]\n",
    "    result = np.random.choice(num_list, n)\n",
    "    return result\n",
    "dice_simulator(7)\n"
   ]
  },
  {
   "cell_type": "code",
   "execution_count": 10,
   "metadata": {},
   "outputs": [
    {
     "data": {
      "text/plain": [
       "[0.125, 0.125, 0.375, 0.125, 0.25, 0.0]"
      ]
     },
     "execution_count": 10,
     "metadata": {},
     "output_type": "execute_result"
    }
   ],
   "source": [
    "# part 2 :\n",
    "def proportions(rolls): \n",
    "    one = 0\n",
    "    two = 0\n",
    "    three = 0\n",
    "    four = 0\n",
    "    five = 0\n",
    "    six = 0 \n",
    "    for count in rolls: \n",
    "        if count == 1:\n",
    "            one += 1 \n",
    "        if count == 2:\n",
    "            two += 1\n",
    "        if count == 3: \n",
    "            three += 1\n",
    "        if count == 4: \n",
    "            four += 1\n",
    "        if count == 5: \n",
    "            five += 1\n",
    "        if count == 6:\n",
    "            six += 1\n",
    "    \n",
    "    result = [(one/len(rolls)), (two/(len(rolls))), (three/len(rolls)), (four/len(rolls)), (five/len(rolls)), (six/len(rolls))]\n",
    "    return result \n",
    "\n",
    "proportions(dice_simulator(8))\n"
   ]
  },
  {
   "cell_type": "code",
   "execution_count": 12,
   "metadata": {},
   "outputs": [
    {
     "data": {
      "text/plain": [
       "1"
      ]
     },
     "execution_count": 12,
     "metadata": {},
     "output_type": "execute_result"
    }
   ],
   "source": [
    "# part 3\n",
    "def three_streak(rolls):\n",
    "    Counter = 0\n",
    "    Threes = 0\n",
    "    for value in rolls:\n",
    "        if value == 3:\n",
    "            Counter += 1\n",
    "            if Counter > Threes:\n",
    "                Threes = Counter\n",
    "        elif value != 3: \n",
    "            Counter = 0\n",
    "    return Threes\n",
    "\n",
    "three_streak(dice_simulator(8))\n"
   ]
  },
  {
   "cell_type": "code",
   "execution_count": 13,
   "metadata": {},
   "outputs": [
    {
     "name": "stdout",
     "output_type": "stream",
     "text": [
      "times rolled: 8 values rolled: [1 6 6 3 3 2 4 3] proportion of each value: [0.125, 0.125, 0.375, 0.125, 0.0, 0.25] maximum number of threes in a row: 2\n"
     ]
    }
   ],
   "source": [
    "# part 4 \n",
    "\n",
    "def simulation(n):\n",
    "    rolls = dice_simulator(n)\n",
    "    proportion = proportions(rolls)\n",
    "    three_row = three_streak(rolls)\n",
    "    return print('times rolled:',n,\n",
    "                 'values rolled:', rolls,\n",
    "                 'proportion of each value:',proportion,\n",
    "                 'maximum number of threes in a row:',three_row)\n",
    "\n",
    "simulation(8)"
   ]
  },
  {
   "cell_type": "code",
   "execution_count": 15,
   "metadata": {},
   "outputs": [
    {
     "name": "stdout",
     "output_type": "stream",
     "text": [
      "times rolled: 7 values rolled: [5 1 4 2 1 3 6] proportion of each value: [0.2857142857142857, 0.14285714285714285, 0.14285714285714285, 0.14285714285714285, 0.14285714285714285, 0.14285714285714285] maximum number of threes in a row: 1\n",
      "times rolled: 5 values rolled: [3 4 6 1 2] proportion of each value: [0.2, 0.2, 0.2, 0.2, 0.0, 0.2] maximum number of threes in a row: 1\n",
      "times rolled: 100 values rolled: [3 2 3 4 5 1 1 1 3 1 1 1 6 6 5 2 6 5 3 4 3 3 4 3 5 1 6 5 5 6 4 2 6 5 6 3 3\n",
      " 4 4 3 5 6 2 2 1 5 6 5 6 3 5 4 2 1 2 6 2 1 2 6 4 3 2 6 6 3 1 3 6 6 3 3 6 6\n",
      " 6 3 4 3 5 3 2 6 6 4 4 3 4 6 5 2 6 5 5 6 1 2 5 3 6 5] proportion of each value: [0.12, 0.13, 0.21, 0.12, 0.17, 0.25] maximum number of threes in a row: 2\n"
     ]
    }
   ],
   "source": [
    "# part 5\n",
    "simulation(7)\n",
    "simulation(5)\n",
    "\n",
    "simulation(100)"
   ]
  }
 ],
 "metadata": {
  "kernelspec": {
   "display_name": "Python 3.9.12 ('base')",
   "language": "python",
   "name": "python3"
  },
  "language_info": {
   "codemirror_mode": {
    "name": "ipython",
    "version": 3
   },
   "file_extension": ".py",
   "mimetype": "text/x-python",
   "name": "python",
   "nbconvert_exporter": "python",
   "pygments_lexer": "ipython3",
   "version": "3.9.13"
  },
  "orig_nbformat": 4,
  "vscode": {
   "interpreter": {
    "hash": "b52b534d3e8b2df8a7f375ea8b488ed7c2e546a5d77230d70bd2c6badbd8c861"
   }
  }
 },
 "nbformat": 4,
 "nbformat_minor": 2
}
