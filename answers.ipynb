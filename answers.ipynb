{
 "cells": [
  {
   "cell_type": "markdown",
   "metadata": {},
   "source": [
    "# Assignment 3: Advanced Python (30 pt)\n",
    "\n",
    "This assignment covers materials from the material on loops, functions, and NumPy lectures.\n",
    "\n",
    "Note that these questions are longer and somewhat more open ended than previous assignments. Please reach out if you need assistance getting started.\n",
    "\n",
    "Feel free to create as many Python or Markdown cells as you desire to answer the questions."
   ]
  },
  {
   "cell_type": "markdown",
   "metadata": {},
   "source": [
    "## Question 1: For loops (10 pts)\n",
    "\n",
    "Below, we have a nested dictionary structure containing information about several species ranging from vulnerable to critically endangered. Note than in some cases, species populations are listed as `None`. This means that the wild populations of these species are unknown. \n",
    "\n",
    "Use for loops to accomplish the following tasks: \n",
    "\n",
    "- Create a data structure containing all unique types of \"Threats\". This variable should not contain duplicate entries. Print the structure (2 pt).\n",
    "- Create a list of all of the species listed as \"Critically Endangered\". Print the list (2 pt).\n",
    "- Create a separate list containing the names of species with populations with fewer than 50 individuals and species with unknown population sizes. Print the list (3 pt).\n",
    "- Find the species with the largest population size. Print this species name, and what its population size is (3 pt).\n",
    "\n",
    "If you hard code the solutions (e.g. manually pick out which species has the largest population) you will receive NO points."
   ]
  },
  {
   "cell_type": "code",
   "execution_count": 1,
   "metadata": {},
   "outputs": [],
   "source": [
    "conservation_data = {\n",
    "    \"Giant Panda\": {\n",
    "        \"Status\": \"Endangered\",\n",
    "        \"Population\": 1800,\n",
    "        \"Threats\": [\"Habitat loss\", \"Poaching\"]\n",
    "    },\n",
    "    \"Mountain Gorilla\": {\n",
    "        \"Status\": \"Critically Endangered\",\n",
    "        \"Population\": 1063,\n",
    "        \"Threats\": [\"Habitat loss\", \"Poaching\", \"Civil unrest\"]\n",
    "    },\n",
    "    \"Amur Leopard\": {\n",
    "        \"Status\": \"Critically Endangered\",\n",
    "        \"Population\": 84,\n",
    "        \"Threats\": [\"Habitat loss\", \"Poaching\"]\n",
    "    },\n",
    "    \"Vaquita\": {\n",
    "        \"Status\": \"Critically Endangered\",\n",
    "        \"Population\": 10,\n",
    "        \"Threats\": [\"Bycatch in fishing nets\"]\n",
    "    },\n",
    "    \"African Elephant\": {\n",
    "        \"Status\": \"Vulnerable\",\n",
    "        \"Population\": 415000,\n",
    "        \"Threats\": [\"Habitat loss\", \"Poaching\"]\n",
    "    },\n",
    "    \"Javan Rhino\": {\n",
    "        \"Status\": \"Critically Endangered\",\n",
    "        \"Population\": 72,\n",
    "        \"Threats\": [\"Habitat loss\", \"Poaching\"]\n",
    "    },\n",
    "    \"Sumatran Orangutan\": {\n",
    "        \"Status\": \"Critically Endangered\",\n",
    "        \"Population\": 14600,\n",
    "        \"Threats\": [\"Habitat loss\", \"Poaching\"]\n",
    "    },\n",
    "    \"Hawksbill Turtle\": {\n",
    "        \"Status\": \"Critically Endangered\",\n",
    "        \"Population\": None,\n",
    "        \"Threats\": [\"Habitat loss\", \"Poaching\"]\n",
    "    },\n",
    "    \"Saola\": {\n",
    "        \"Status\": \"Critically Endangered\",\n",
    "        \"Population\": None,\n",
    "        \"Threats\": [\"Habitat loss\", \"Poaching\"]\n",
    "    },\n",
    "    \"Iberian Lynx\": {\n",
    "        \"Status\": \"Endangered\",\n",
    "        \"Population\": 94,\n",
    "        \"Threats\": [\"Habitat loss\", \"Poaching\"]\n",
    "    }\n",
    "}\n"
   ]
  },
  {
   "cell_type": "code",
   "execution_count": 5,
   "metadata": {},
   "outputs": [
    {
     "name": "stdout",
     "output_type": "stream",
     "text": [
      "{'Bycatch in fishing nets', 'Habitat loss', 'Poaching', 'Civil unrest'}\n"
     ]
    }
   ],
   "source": [
    "#Part 1\n",
    "\n",
    "threat_types = set()\n",
    "\n",
    "for species in conservation_data:\n",
    "    for data in conservation_data[species].items():\n",
    "        if data[0] == \"Threats\":\n",
    "            threat_types.update(data[1])\n",
    "\n",
    "\n",
    "            \n",
    "print(threat_types)\n",
    "            \n",
    "\n"
   ]
  },
  {
   "cell_type": "code",
   "execution_count": 7,
   "metadata": {},
   "outputs": [
    {
     "name": "stdout",
     "output_type": "stream",
     "text": [
      "['Mountain Gorilla', 'Amur Leopard', 'Vaquita', 'Javan Rhino', 'Sumatran Orangutan', 'Hawksbill Turtle', 'Saola']\n"
     ]
    }
   ],
   "source": [
    "#Part 2\n",
    "\n",
    "critically_endangered = []\n",
    "\n",
    "for species in conservation_data:\n",
    "    for data in conservation_data[species].items():\n",
    "        if data[1] == \"Critically Endangered\":\n",
    "            critically_endangered.append(species)\n",
    "            \n",
    "\n",
    "print(critically_endangered)\n",
    "\n",
    "        \n",
    "        \n",
    "    \n",
    "\n",
    "        "
   ]
  },
  {
   "cell_type": "code",
   "execution_count": 8,
   "metadata": {},
   "outputs": [
    {
     "name": "stdout",
     "output_type": "stream",
     "text": [
      "['Vaquita', 'Hawksbill Turtle', 'Saola']\n"
     ]
    }
   ],
   "source": [
    "#Part 3\n",
    "\n",
    "low_pop = []\n",
    "\n",
    "for species in conservation_data:\n",
    "    for data in conservation_data[species].items():\n",
    "        if data[0] == \"Population\":\n",
    "            if data[1] == None:\n",
    "                low_pop.append(species)\n",
    "            elif data[1] < 50:\n",
    "                low_pop.append(species)\n",
    "\n",
    "print(low_pop)"
   ]
  },
  {
   "cell_type": "code",
   "execution_count": 9,
   "metadata": {},
   "outputs": [
    {
     "name": "stdout",
     "output_type": "stream",
     "text": [
      "The species with the highest population is the African Elephant at 415000 individuals\n"
     ]
    }
   ],
   "source": [
    "#Part 4\n",
    "\n",
    "list_of_pops = []\n",
    "\n",
    "for species in conservation_data:\n",
    "    for data in conservation_data[species].items():\n",
    "        if data[0] == \"Population\":\n",
    "            if data[1] == None:\n",
    "                list_of_pops.append(0)\n",
    "            else:\n",
    "                list_of_pops.append(data[1])\n",
    "                \n",
    "        \n",
    "\n",
    "for species in conservation_data:\n",
    "    for data in conservation_data[species].items():\n",
    "        if data[0] == \"Population\":\n",
    "            if data[1] == max(list_of_pops):\n",
    "                print(\"The species with the highest population is the\", species, \"at\", max(list_of_pops), \"individuals\")\n",
    "\n",
    "\n",
    "\n",
    "            \n",
    "\n"
   ]
  },
  {
   "cell_type": "markdown",
   "metadata": {},
   "source": [
    "## Question 2: Functions (10 pt)\n",
    "\n",
    "When considering the health of an ecosystem, an important concept to quantify is the diversity of that system. There are several metrics commonly used to calculate ecosystem diversity, one of which is call Simpson's Diversity Index.\n",
    "\n",
    "This metric not takes into account how many species are present in an location, but also if one species has far more individuals than other species. For example, an ecosystem with 500 species but only one species above 10 individuals is not that diverse.\n",
    "\n",
    "We can calculate Simpson's Diversity ($D$) as follows:\n",
    "\n",
    "$D = 1 - [(\\frac{n_1}{N})^2 + (\\frac{n_2}{N})^2 + (\\frac{n_3}{N})^2 + ...]$\n",
    "\n",
    "For example, if an ecosystem has four species with 5, 2, 2, and 1 individuals (10 individuals total), you can calculate $D$ like this:\n",
    "\n",
    "$D = 1 - [(\\frac{5}{10})^2 + (\\frac{2}{10})^2 + (\\frac{2}{10})^2 + (\\frac{1}{10})^2] = 0.66$\n",
    "\n",
    "Define a function that calculates and returns $D$ given a list of species population levels, and run the function on several example lists (3 pt).\n",
    "\n",
    "Your answer should work for a list of **any** length (1 pt).\n",
    "\n",
    "Add documentation to the function that describes what it does, the desired parameters, and what data types the parameters should be (2 pt).\n",
    "\n",
    "Within the function, check that the input is a list. If the input is not a list, give a custom error message (2 pt).\n",
    "\n",
    "Also, make sure all entries in the list are integers. If there are floats, convert them to integers. If there are entries that are not floats or integers, give a custom error message (2 pt).\n",
    "\n"
   ]
  },
  {
   "cell_type": "code",
   "execution_count": 147,
   "metadata": {},
   "outputs": [
    {
     "name": "stdout",
     "output_type": "stream",
     "text": [
      "0.7555555555555555\n",
      "0.7555555555555555\n",
      "Error: Input not a float or int\n",
      "Error: Input not a float or int\n",
      "Error: Input not a float or int\n",
      "Error: Input not a float or int\n",
      "0.9142554271551853\n",
      "0.9142554271551853\n",
      "Error: Input not a list\n"
     ]
    }
   ],
   "source": [
    "def pracfun5(input):\n",
    "    \"\"\"This function is used to calculate the diversity of an ecosystem using Simpson's Diversity Index. The higher the number returned,\n",
    "       the more diverse the ecosystem. It accepts the populations of individual species in an ecosystem in a list format. If the input is not\n",
    "       a list then it will return an error. The data type of the population numbers must be an integer or float; \n",
    "       if it is a float the function will convert it to an integer. If the data type is not an integer or a float the function will not work.\"\"\"\n",
    "    if type(input) == list:\n",
    "        x = 0\n",
    "        while x < len(input):\n",
    "            if type(input[x]) == int:\n",
    "                x += 1\n",
    "            elif type(input[x]) == float:\n",
    "                x += 1\n",
    "            else: \n",
    "                return \"Error: Input not a float or int\"\n",
    "        x += 1\n",
    "        y = 0\n",
    "        while y < len(input):\n",
    "            input[y] = int(input[y])\n",
    "            y += 1\n",
    "        N = sum(input)\n",
    "        nfunction = 0\n",
    "        z = 0\n",
    "        while z < len(input):\n",
    "            nfunction -= (input[z] / N)**2\n",
    "            z += 1\n",
    "        D = 1 + nfunction\n",
    "        return D\n",
    "    else:\n",
    "        return \"Error: Input not a list\"\n",
    "    \n",
    "a = [1,2,3,4,5]\n",
    "b = [1.5,2.3,3.6,4.3,5.1]\n",
    "c = [\"1\", \"2\", \"3\", \"4\", \"5\"]\n",
    "d = [1,2,3,\"4\",5]\n",
    "e = [\"Jeff\", 1,2,3,4,5]\n",
    "f = [1,2,3,\"Jeff\",4]\n",
    "g = [20.01,24.45,22.2356432455,21.8,25.6,52.9021,44.4,21,32,21,23,34,27]\n",
    "h = [20,24,22,21,25,52,44,21,32,21,23,34,27]\n",
    "i = 50\n",
    "\n",
    "print(pracfun5(a))\n",
    "print(pracfun5(b))\n",
    "print(pracfun5(c))\n",
    "print(pracfun5(d))\n",
    "print(pracfun5(e))\n",
    "print(pracfun5(f))\n",
    "print(pracfun5(g))\n",
    "print(pracfun5(h))\n",
    "print(pracfun5(i))"
   ]
  },
  {
   "cell_type": "markdown",
   "metadata": {},
   "source": [
    "## Question 3: Simulating data (10 pt)\n",
    "\n",
    "In data analysis, we often simulate data to help test our predictions and get a feel for how the real data should be. This questions asks you to use the functions found in `numpy.random` to simulate rolling.\n",
    "\n",
    "Define a function called `dice_simulator()` with an integer parameter called `n`. This function should create a list of integers 1 through 6 and randomly sample this list with replacement `n` times. The function should return the `n` samples as a list or numpy array. Note that `n` should be a positive integer (2 pt).\n",
    "\n",
    "Define a function called `proportions()` to calculate what proportion of the \"rolls\" that are 1s, 2s, 3s, 4s, 5s, and 6s. Print these 6 proportions. `proportions()` should have a single parameter called `rolls`, which should take in the output of `dice_simulator()` (3 pt).\n",
    "\n",
    "Define a function called `three_streak()` to calculate the maximum number of times 3 was \"rolled\" in a row and print this value. To be in a row, the 3's have to be next to each other in a list (such as if `rolls[1]` and `rolls[2]` are both 3). Like `proportions()`, `three_streak()` should have a single parameter called `rolls`, which should take in the output of `dice_simulator()` (3 pt). \n",
    "- *Hint: `max()` is a built in function in Python that finds the largest value in a list.*\n",
    "\n",
    "Define a function called `simulation()` that calls `dice_simulator()`, `proportions()`, and `three_streak()`. Make sure that `proportions()` and `three_streak()` are called so that they use the same dice rolls. `simulation()` should take a single parameter `n` that is fed into `dice_simulator()`. Have this function print the value of n, as well (1 pt). \n",
    "\n",
    "Call `simulation()` several times with the `n` parameter at different values (1 pt). \n",
    "\n",
    "\n",
    "\n"
   ]
  },
  {
   "cell_type": "code",
   "execution_count": 140,
   "metadata": {},
   "outputs": [
    {
     "name": "stdout",
     "output_type": "stream",
     "text": [
      "The number of rolls was: 5 . The individual rolls were: [2, 1, 4, 3, 2] . The proportions of the rolls were (0.2, 0.4, 0.2, 0.2, 0.0, 0.0) for 1 - 6 respectively. The number of threes in a row were: 0\n",
      "\n",
      "The number of rolls was: 10 . The individual rolls were: [4, 3, 6, 2, 4, 3, 3, 5, 3, 2] . The proportions of the rolls were (0.0, 0.2, 0.4, 0.2, 0.1, 0.1) for 1 - 6 respectively. The number of threes in a row were: 2\n",
      "\n",
      "The number of rolls was: 20 . The individual rolls were: [1, 5, 5, 5, 4, 1, 4, 5, 1, 2, 1, 3, 5, 4, 4, 3, 6, 2, 4, 4] . The proportions of the rolls were (0.2, 0.1, 0.1, 0.3, 0.25, 0.05) for 1 - 6 respectively. The number of threes in a row were: 0\n"
     ]
    }
   ],
   "source": [
    "import numpy as np\n",
    "\n",
    "def dice_simulator(n):\n",
    "   result = np.random.randint(1, 7, n)\n",
    "   return result\n",
    "\n",
    "rolls = dice_simulator(10)\n",
    "\n",
    "def proportions(rolls):\n",
    "   x = 0\n",
    "   num1 = 0\n",
    "   num2 = 0\n",
    "   num3 = 0\n",
    "   num4 = 0\n",
    "   num5 = 0\n",
    "   num6 = 0\n",
    "\n",
    "   while x < len(rolls):\n",
    "\n",
    "      if rolls[x] == 1:\n",
    "         num1 += 1\n",
    "         x += 1\n",
    "      elif rolls[x] == 2:\n",
    "         num2 += 1\n",
    "         x +=1\n",
    "      elif rolls[x] == 3:\n",
    "         num3 += 1\n",
    "         x +=1\n",
    "      elif rolls[x] == 4:\n",
    "         num4 += 1\n",
    "         x +=1\n",
    "      elif rolls[x] == 5:\n",
    "         num5 += 1\n",
    "         x +=1\n",
    "      elif rolls[x] == 6:\n",
    "         num6 += 1\n",
    "         x +=1\n",
    "   prop1 = num1 / len(rolls)\n",
    "   prop2 = num2 / len(rolls)\n",
    "   prop3 = num3 / len(rolls)\n",
    "   prop4 = num4 / len(rolls)\n",
    "   prop5 = num5 / len(rolls)\n",
    "   prop6 = num6 / len(rolls)\n",
    "\n",
    "   return prop1,prop2,prop3,prop4,prop5,prop6\n",
    "\n",
    "\n",
    "def three_streak(rolls):\n",
    "   w = 0\n",
    "   streak = 0\n",
    "   streaknum = []\n",
    "   while w < len(rolls):\n",
    "      if rolls[w] != 3:\n",
    "         if streak > 1:\n",
    "            streaknum.append(streak)\n",
    "            streak = 0\n",
    "            w += 1\n",
    "         else:\n",
    "            streak = 0\n",
    "            w += 1\n",
    "      elif rolls[w] == 3:\n",
    "        streak += 1\n",
    "        w += 1\n",
    "   if streak > 1:\n",
    "      streaknum.append(streak)\n",
    "   else:\n",
    "      streaknum.append(0)\n",
    "   \n",
    "   return max(streaknum)\n",
    "\n",
    "\n",
    "def simulation(n):\n",
    "   dice_roll = list(dice_simulator(n))\n",
    "   proportion_of_rolls = proportions(dice_roll)\n",
    "   threes = three_streak(dice_roll)\n",
    "\n",
    "   return print(\"The number of rolls was:\", n, \n",
    "                \". The individual rolls were:\", dice_roll,\n",
    "                \". The proportions of the rolls were\",proportion_of_rolls,\"for 1 - 6 respectively\" \n",
    "                \". The number of threes in a row were:\",threes)\n",
    "\n",
    "\n",
    "\n",
    "simulation(5)\n",
    "print()\n",
    "simulation(10)\n",
    "print()\n",
    "simulation(20)\n"
   ]
  }
 ],
 "metadata": {
  "kernelspec": {
   "display_name": "Python 3.9.12 ('base')",
   "language": "python",
   "name": "python3"
  },
  "language_info": {
   "codemirror_mode": {
    "name": "ipython",
    "version": 3
   },
   "file_extension": ".py",
   "mimetype": "text/x-python",
   "name": "python",
   "nbconvert_exporter": "python",
   "pygments_lexer": "ipython3",
   "version": "3.9.13"
  },
  "orig_nbformat": 4,
  "vscode": {
   "interpreter": {
    "hash": "b52b534d3e8b2df8a7f375ea8b488ed7c2e546a5d77230d70bd2c6badbd8c861"
   }
  }
 },
 "nbformat": 4,
 "nbformat_minor": 2
}
