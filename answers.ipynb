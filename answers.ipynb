{
 "cells": [
  {
   "cell_type": "markdown",
   "metadata": {},
   "source": [
    "# Assignment 3: Advanced Python (30 pt)\n",
    "\n",
    "This assignment covers materials from the material on loops, functions, and NumPy lectures.\n",
    "\n",
    "Note that these questions are longer and somewhat more open ended than previous assignments. Please reach out if you need assistance getting started.\n",
    "\n",
    "Feel free to create as many Python or Markdown cells as you desire to answer the questions."
   ]
  },
  {
   "cell_type": "markdown",
   "metadata": {},
   "source": [
    "## Question 1: For loops (10 pts)\n",
    "\n",
    "Below, we have a nested dictionary structure containing information about several species ranging from vulnerable to critically endangered. Note than in some cases, species populations are listed as `None`. This means that the wild populations of these species are unknown. \n",
    "\n",
    "Use for loops to accomplish the following tasks: \n",
    "\n",
    "- Create a data structure containing all unique types of \"Threats\". This variable should not contain duplicate entries. Print the structure (2 pt).\n",
    "- Create a list of all of the species listed as \"Critically Endangered\". Print the list (2 pt).\n",
    "- Create a separate list containing the names of species with populations with fewer than 50 individuals and species with unknown population sizes. Print the list (3 pt).\n",
    "- Find the species with the largest population size. Print this species name, and what its population size is (3 pt).\n",
    "\n",
    "If you hard code the solutions (e.g. manually pick out which species has the largest population) you will receive NO points."
   ]
  },
  {
   "cell_type": "code",
   "execution_count": 217,
   "metadata": {},
   "outputs": [],
   "source": [
    "conservation_data = {\n",
    "    \"Giant Panda\": {\n",
    "        \"Status\": \"Endangered\",\n",
    "        \"Population\": 1800,\n",
    "        \"Threats\": [\"Habitat loss\", \"Poaching\"]\n",
    "    },\n",
    "    \"Mountain Gorilla\": {\n",
    "        \"Status\": \"Critically Endangered\",\n",
    "        \"Population\": 1063,\n",
    "        \"Threats\": [\"Habitat loss\", \"Poaching\", \"Civil unrest\"]\n",
    "    },\n",
    "    \"Amur Leopard\": {\n",
    "        \"Status\": \"Critically Endangered\",\n",
    "        \"Population\": 84,\n",
    "        \"Threats\": [\"Habitat loss\", \"Poaching\"]\n",
    "    },\n",
    "    \"Vaquita\": {\n",
    "        \"Status\": \"Critically Endangered\",\n",
    "        \"Population\": 10,\n",
    "        \"Threats\": [\"Bycatch in fishing nets\"]\n",
    "    },\n",
    "    \"African Elephant\": {\n",
    "        \"Status\": \"Vulnerable\",\n",
    "        \"Population\": 415000,\n",
    "        \"Threats\": [\"Habitat loss\", \"Poaching\"]\n",
    "    },\n",
    "    \"Javan Rhino\": {\n",
    "        \"Status\": \"Critically Endangered\",\n",
    "        \"Population\": 72,\n",
    "        \"Threats\": [\"Habitat loss\", \"Poaching\"]\n",
    "    },\n",
    "    \"Sumatran Orangutan\": {\n",
    "        \"Status\": \"Critically Endangered\",\n",
    "        \"Population\": 14600,\n",
    "        \"Threats\": [\"Habitat loss\", \"Poaching\"]\n",
    "    },\n",
    "    \"Hawksbill Turtle\": {\n",
    "        \"Status\": \"Critically Endangered\",\n",
    "        \"Population\": None,\n",
    "        \"Threats\": [\"Habitat loss\", \"Poaching\"]\n",
    "    },\n",
    "    \"Saola\": {\n",
    "        \"Status\": \"Critically Endangered\",\n",
    "        \"Population\": None,\n",
    "        \"Threats\": [\"Habitat loss\", \"Poaching\"]\n",
    "    },\n",
    "    \"Iberian Lynx\": {\n",
    "        \"Status\": \"Endangered\",\n",
    "        \"Population\": 94,\n",
    "        \"Threats\": [\"Habitat loss\", \"Poaching\"]\n",
    "    }\n",
    "}\n"
   ]
  },
  {
   "cell_type": "code",
   "execution_count": null,
   "metadata": {},
   "outputs": [],
   "source": [
    "# threat_list = set()\n",
    "\n",
    "# for species, data in conservation_data.items():\n",
    "    \n",
    "#     print(data[\"Threats\"])\n"
   ]
  },
  {
   "cell_type": "code",
   "execution_count": null,
   "metadata": {},
   "outputs": [],
   "source": [
    "# threat_list = set()\n",
    "\n",
    "# for species, data in conservation_data.items():\n",
    "    \n",
    "#     threat = (data[\"Threats\"])\n",
    "#     threat_list.add(threat)"
   ]
  },
  {
   "cell_type": "code",
   "execution_count": null,
   "metadata": {},
   "outputs": [],
   "source": [
    "threat_list = []\n",
    "\n",
    "for species, data in conservation_data.items():\n",
    "    \n",
    "    for threat in data[\"Threats\"]:\n",
    "        if not threat in threat_list:\n",
    "            threat_list.append(threat)\n",
    "\n",
    "set(threat_list)\n"
   ]
  },
  {
   "cell_type": "code",
   "execution_count": null,
   "metadata": {},
   "outputs": [],
   "source": [
    "crit_end = []\n",
    "\n",
    "for species, data in conservation_data.items():\n",
    "    \n",
    "    if (data[\"Status\"]) == \"Critically Endangered\":\n",
    "        crit_end.append(species)\n",
    "\n",
    "print(\"Critically endangered species:\", crit_end)"
   ]
  },
  {
   "cell_type": "code",
   "execution_count": null,
   "metadata": {},
   "outputs": [],
   "source": [
    "popl_list = []\n",
    "\n",
    "for species, data in conservation_data.items():\n",
    "    \n",
    "    #print(type(data[\"Population\"]))\n",
    "\n",
    "    if type(data[\"Population\"]) == int:\n",
    "                \n",
    "        if(data[\"Population\"]) < 50:\n",
    "            popl_list.append(species)\n",
    "\n",
    "    if (data[\"Population\"]) == None:\n",
    "        popl_list.append(species)\n",
    "\n",
    "print(popl_list,\"have a population <50 or are not defined\")\n",
    "\n",
    "    # elif (data[\"Population\"]) == None:\n",
    "    #     popl_list.append(species)\n",
    "\n",
    "# print(popl_list)"
   ]
  },
  {
   "cell_type": "code",
   "execution_count": null,
   "metadata": {},
   "outputs": [],
   "source": [
    "max_popl = 0\n",
    "species_name = \"\"\n",
    "\n",
    "for species, data in conservation_data.items():\n",
    "\n",
    "    if type(data[\"Population\"]) == int and data[\"Population\"] > max_popl:\n",
    "        max_popl = data[\"Population\"]\n",
    "        species_name = species\n",
    "\n",
    "print(f\"{species_name} has the largest population, at {max_popl} individuals.\")\n",
    "# print(species_name, \"has a population of\", max_popl, \".\")"
   ]
  },
  {
   "cell_type": "markdown",
   "metadata": {},
   "source": [
    "## Question 2: Functions (10 pt)\n",
    "\n",
    "When considering the health of an ecosystem, an important concept to quantify is the diversity of that system. There are several metrics commonly used to calculate ecosystem diversity, one of which is call Simpson's Diversity Index.\n",
    "\n",
    "This metric not takes into account how many species are present in an location, but also if one species has far more individuals than other species. For example, an ecosystem with 500 species but only one species above 10 individuals is not that diverse.\n",
    "\n",
    "We can calculate Simpson's Diversity ($D$) as follows:\n",
    "\n",
    "$D = 1 - [(\\frac{n_1}{N})^2 + (\\frac{n_2}{N})^2 + (\\frac{n_3}{N})^2 + ...]$\n",
    "\n",
    "For example, if an ecosystem has four species with 5, 2, 2, and 1 individuals (10 individuals total), you can calculate $D$ like this:\n",
    "\n",
    "$D = 1 - [(\\frac{5}{10})^2 + (\\frac{2}{10})^2 + (\\frac{2}{10})^2 + (\\frac{1}{10})^2] = 0.66$\n",
    "\n",
    "Define a function that calculates and returns $D$ given a list of species population levels, and run the function on several example lists (3 pt).\n",
    "\n",
    "Your answer should work for a list of **any** length (1 pt).\n",
    "\n",
    "Add documentation to the function that describes what it does, the desired parameters, and what data types the parameters should be (2 pt).\n",
    "\n",
    "Within the function, check that the input is a list. If the input is not a list, give a custom error message (2 pt).\n",
    "\n",
    "Also, make sure all entries in the list are integers. If there are floats, convert them to integers. If there are entries that are not floats or integers, give a custom error message (2 pt).\n",
    "\n"
   ]
  },
  {
   "cell_type": "code",
   "execution_count": null,
   "metadata": {},
   "outputs": [],
   "source": [
    "# species = []\n",
    "# n = len(species)\n",
    "# a = 0\n",
    "\n",
    "# for i in species:\n",
    "#     each_species = ((i/n)**2)\n",
    "#     a += each_species\n",
    "# print(1-a)"
   ]
  },
  {
   "cell_type": "code",
   "execution_count": 228,
   "metadata": {},
   "outputs": [
    {
     "data": {
      "text/plain": [
       "-237845.3125"
      ]
     },
     "execution_count": 228,
     "metadata": {},
     "output_type": "execute_result"
    }
   ],
   "source": [
    "# example_input = [1882, 400, 321, 24]\n",
    "\n",
    "def simpson_div(species):\n",
    "    \"\"\"\n",
    "    Calculate Simpson's Diversity for an ecosystem for a \n",
    "    given list of species population levels in the area.\n",
    "    ----------------------------------------------------\n",
    "    species: list containing population of each species\n",
    "    species to be entered as a list of ints or floats\n",
    "    ----------------------------------------------------\n",
    "    other values calculated during the function:\n",
    "    n: number of species  \n",
    "    each_species: proportion of each species = (individual population/n)^2\n",
    "    \"\"\"\n",
    "    \n",
    "    n = len(species)\n",
    "    a = 0\n",
    "\n",
    "    if type(species) == list:\n",
    "        for i in species:\n",
    "            if type(i) == float:\n",
    "                i = int(i)\n",
    "                each_species = ((i/n)**2)\n",
    "                a += each_species\n",
    "\n",
    "            elif type(i) == int:\n",
    "                each_species = ((i/n)**2)\n",
    "                a += each_species\n",
    "\n",
    "            else:\n",
    "                print(\"Error: please input values as integers\")\n",
    "                return None\n",
    "        \n",
    "    else:\n",
    "        print(\"Error: please input a list\")\n",
    "        return None\n",
    "\n",
    "    return 1-a\n",
    "\n",
    "\n",
    "    \n",
    "example_input = [1882, 400, 321, 24]\n",
    "simpson_div(example_input)"
   ]
  },
  {
   "cell_type": "code",
   "execution_count": null,
   "metadata": {},
   "outputs": [],
   "source": [
    "example = [5,10]                                                                        # sample input list for testing, correct value = -30.25\n",
    "example1 = [13495, 1243, 1243, 3065, 12468, 13588, 1246]                                # longer list\n",
    "example2 = [243., 5623., 436., 2325, 2467, 2546, 235, 124, 123, 214, 5421, 325]         # list with floats instead of int - converts then calculates\n",
    "example4 = {\"a\":500, \"b\":745, \"c\":382}                                                  # dictionary - gives error message a\n",
    "example5 = [\"55 elephants\",\"48 white rhinos\",\"75 grey rhinos\"]                          # list with floats - gives error message b\n",
    "\n",
    "\n",
    "simpson_div(example)"
   ]
  },
  {
   "cell_type": "markdown",
   "metadata": {},
   "source": [
    "## Question 3: Simulating data (10 pt)\n",
    "\n",
    "In data analysis, we often simulate data to help test our predictions and get a feel for how the real data should be. This questions asks you to use the functions found in `numpy.random` to simulate rolling.\n",
    "\n",
    "Define a function called `dice_simulator()` with an integer parameter called `n`. This function should create a list of integers 1 through 6 and randomly sample this list with replacement `n` times. The function should return the `n` samples as a list or numpy array. Note that `n` should be a positive integer (2 pt).\n",
    "\n",
    "Define a function called `proportions()` to calculate what proportion of the \"rolls\" that are 1s, 2s, 3s, 4s, 5s, and 6s. Print these 6 proportions. `proportions()` should have a single parameter called `rolls`, which should take in the output of `dice_simulator()` (3 pt).\n",
    "\n",
    "Define a function called `three_streak()` to calculate the maximum number of times 3 was \"rolled\" in a row and print this value. To be in a row, the 3's have to be next to each other in a list (such as if `rolls[1]` and `rolls[2]` are both 3). Like `proportions()`, `three_streak()` should have a single parameter called `rolls`, which should take in the output of `dice_simulator()` (3 pt). \n",
    "- *Hint: `max()` is a built in function in Python that finds the largest value in a list.*\n",
    "\n",
    "Define a function called `simulation()` that calls `dice_simulator()`, `proportions()`, and `three_streak()`. Make sure that `proportions()` and `three_streak()` are called so that they use the same dice rolls. `simulation()` should take a single parameter `n` that is fed into `dice_simulator()`. Have this function print the value of n, as well (1 pt). \n",
    "\n",
    "Call `simulation()` several times with the `n` parameter at different values (1 pt). \n",
    "\n",
    "\n",
    "\n"
   ]
  },
  {
   "cell_type": "code",
   "execution_count": 229,
   "metadata": {},
   "outputs": [],
   "source": [
    "import numpy as np"
   ]
  },
  {
   "cell_type": "code",
   "execution_count": 245,
   "metadata": {},
   "outputs": [
    {
     "data": {
      "text/plain": [
       "array([1, 5, 4, 4, 3, 4, 2, 6, 6, 1, 6, 3, 1, 4, 1, 6, 1, 1, 5, 3, 2, 2,\n",
       "       2, 4, 2, 6, 3, 5, 2, 1, 3, 1, 3, 2, 2, 5, 1, 1, 5, 2, 1, 6, 3, 3,\n",
       "       2, 2, 6, 1, 4, 3, 3, 2, 5, 4, 2, 4, 6, 1, 6, 3, 5, 2, 6, 6, 6, 4,\n",
       "       2, 6, 2, 5, 1, 4, 1, 6, 6, 5, 6, 4, 6, 6, 1, 5, 3, 6, 5, 2, 1, 1,\n",
       "       5, 3, 5, 5, 2, 6, 5, 5, 4, 1, 4, 1])"
      ]
     },
     "execution_count": 245,
     "metadata": {},
     "output_type": "execute_result"
    }
   ],
   "source": [
    "def dice_simulator(n):\n",
    "    \"\"\"\n",
    "    Simulates a dice being rolled n times\n",
    "    n: (int) number of times to roll\n",
    "    \"\"\"\n",
    "    if type(n) == int and n > 0:\n",
    "        dice = (np.random.randint(1,7,n))\n",
    "        return(dice)\n",
    "    \n",
    "    else:\n",
    "        print(\"Please enter a positive integer.\")\n",
    "\n",
    "dice_simulator(100)"
   ]
  },
  {
   "cell_type": "code",
   "execution_count": null,
   "metadata": {},
   "outputs": [],
   "source": [
    "def proportions(rolls):\n",
    "    \"\"\"\n",
    "    Calculates the proportion of rolls that are each number on the dice.\n",
    "    rolls: enter the output from dice_simulator as a list\n",
    "    \n",
    "    \"\"\"\n",
    "    rolls_list = list(rolls)\n",
    "    n = len(rolls_list) \n",
    "\n",
    "    for i in range(1,7):\n",
    "        if i in rolls_list:\n",
    "            occurence = rolls_list.count(i)\n",
    "            print(f\"proportion of {i} is {occurence/n}\")\n",
    "\n",
    "        else:\n",
    "            print(f\"proportion of {i} is 0.0\")\n",
    "\n",
    "proportions(dice_simulator(20))\n",
    "#or \n",
    "proportions([5,4,3,4,5,6,2,3,4,1,2,3,1,2,4,5,3,2,1,5])"
   ]
  },
  {
   "cell_type": "code",
   "execution_count": null,
   "metadata": {},
   "outputs": [],
   "source": [
    "def three_streak(rolls): \n",
    "    \"\"\"\n",
    "    Calculates the longest streak of 3s rolled in a row\n",
    "    rolls: enter the output from dice_simulator as a list\n",
    "    \"\"\"\n",
    "    rolls_list = list(rolls)\n",
    "\n",
    "    all_streaks = []\n",
    "\n",
    "    for i, roll in enumerate(rolls_list):\n",
    "        len_streak = 1\n",
    "        if roll == 3 and i != len(rolls_list)-1:\n",
    "            while rolls_list[i+1] == 3:\n",
    "                len_streak += 1\n",
    "                if i+2 == len(rolls_list):\n",
    "                    break\n",
    "                i += 1\n",
    "\n",
    "            all_streaks.append(len_streak)\n",
    "        elif roll == 3:\n",
    "            all_streaks.append(1)\n",
    "\n",
    "        \n",
    "    if len(all_streaks) == 0:\n",
    "        print(\"Longest streak of 3s is 0\")\n",
    "\n",
    "    else:\n",
    "        print(f\"Longest streak of 3s is {max(all_streaks)}\")            \n",
    "            # rolls_list[i]\n",
    "\n",
    "\n",
    "input_rolls = dice_simulator(1000)\n",
    "# print(input_rolls)\n",
    "three_streak(input_rolls)    "
   ]
  },
  {
   "cell_type": "code",
   "execution_count": 270,
   "metadata": {},
   "outputs": [
    {
     "name": "stdout",
     "output_type": "stream",
     "text": [
      "proportion of 1 is 0.172\n",
      "proportion of 2 is 0.178\n",
      "proportion of 3 is 0.157\n",
      "proportion of 4 is 0.183\n",
      "proportion of 5 is 0.147\n",
      "proportion of 6 is 0.163\n",
      "Longest streak of 3s is 4\n",
      "n = 1000\n",
      "\n",
      "proportion of 1 is 0.15\n",
      "proportion of 2 is 0.25\n",
      "proportion of 3 is 0.15\n",
      "proportion of 4 is 0.1\n",
      "proportion of 5 is 0.15\n",
      "proportion of 6 is 0.2\n",
      "Longest streak of 3s is 1\n",
      "n = 20\n",
      "\n",
      "proportion of 1 is 0.1582\n",
      "proportion of 2 is 0.1678\n",
      "proportion of 3 is 0.1752\n",
      "proportion of 4 is 0.17\n",
      "proportion of 5 is 0.161\n",
      "proportion of 6 is 0.1678\n",
      "Longest streak of 3s is 5\n",
      "n = 5000\n",
      "\n"
     ]
    }
   ],
   "source": [
    "\n",
    "def simulation(n):\n",
    "    rolls = dice_simulator(n)\n",
    "    proportions(rolls)\n",
    "    three_streak(rolls)\n",
    "\n",
    "    print(\"n =\",n)\n",
    "    print()\n",
    "\n",
    "simulation(1000)\n",
    "simulation(20)\n",
    "simulation(5000)"
   ]
  }
 ],
 "metadata": {
  "kernelspec": {
   "display_name": "Python 3.9.12 ('base')",
   "language": "python",
   "name": "python3"
  },
  "language_info": {
   "codemirror_mode": {
    "name": "ipython",
    "version": 3
   },
   "file_extension": ".py",
   "mimetype": "text/x-python",
   "name": "python",
   "nbconvert_exporter": "python",
   "pygments_lexer": "ipython3",
   "version": "3.9.13"
  },
  "orig_nbformat": 4,
  "vscode": {
   "interpreter": {
    "hash": "b52b534d3e8b2df8a7f375ea8b488ed7c2e546a5d77230d70bd2c6badbd8c861"
   }
  }
 },
 "nbformat": 4,
 "nbformat_minor": 2
}
