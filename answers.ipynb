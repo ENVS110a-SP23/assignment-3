{
 "cells": [
  {
   "cell_type": "markdown",
   "metadata": {},
   "source": [
    "# Assignment 3: Advanced Python (30 pt)\n",
    "\n",
    "This assignment covers materials from the material on loops, functions, and NumPy lectures.\n",
    "\n",
    "Note that these questions are longer and somewhat more open ended than previous assignments. Please reach out if you need assistance getting started.\n",
    "\n",
    "Feel free to create as many Python or Markdown cells as you desire to answer the questions."
   ]
  },
  {
   "cell_type": "markdown",
   "metadata": {},
   "source": [
    "## Question 1: For loops (10 pts)\n",
    "\n",
    "Below, we have a nested dictionary structure containing information about several species ranging from vulnerable to critically endangered. Note than in some cases, species populations are listed as `None`. This means that the wild populations of these species are unknown. \n",
    "\n",
    "Use for loops to accomplish the following tasks: \n",
    "\n",
    "- Create a data structure containing all unique types of \"Threats\". This variable should not contain duplicate entries. Print the structure (2 pt).\n",
    "- Create a list of all of the species listed as \"Critically Endangered\". Print the list (2 pt).\n",
    "- Create a separate list containing the names of species with populations with fewer than 50 individuals and species with unknown population sizes. Print the list (3 pt).\n",
    "- Find the species with the largest population size. Print this species name, and what its population size is (3 pt).\n",
    "\n",
    "If you hard code the solutions (e.g. manually pick out which species has the largest population) you will receive NO points."
   ]
  },
  {
   "cell_type": "code",
   "execution_count": 31,
   "metadata": {},
   "outputs": [],
   "source": [
    "conservation_data = {\n",
    "    \"Giant Panda\": {\n",
    "        \"Status\": \"Endangered\",\n",
    "        \"Population\": 1800,\n",
    "        \"Threats\": [\"Habitat loss\", \"Poaching\"]\n",
    "    },\n",
    "    \"Mountain Gorilla\": {\n",
    "        \"Status\": \"Critically Endangered\",\n",
    "        \"Population\": 1063,\n",
    "        \"Threats\": [\"Habitat loss\", \"Poaching\", \"Civil unrest\"]\n",
    "    },\n",
    "    \"Amur Leopard\": {\n",
    "        \"Status\": \"Critically Endangered\",\n",
    "        \"Population\": 84,\n",
    "        \"Threats\": [\"Habitat loss\", \"Poaching\"]\n",
    "    },\n",
    "    \"Vaquita\": {\n",
    "        \"Status\": \"Critically Endangered\",\n",
    "        \"Population\": 10,\n",
    "        \"Threats\": [\"Bycatch in fishing nets\"]\n",
    "    },\n",
    "    \"African Elephant\": {\n",
    "        \"Status\": \"Vulnerable\",\n",
    "        \"Population\": 415000,\n",
    "        \"Threats\": [\"Habitat loss\", \"Poaching\"]\n",
    "    },\n",
    "    \"Javan Rhino\": {\n",
    "        \"Status\": \"Critically Endangered\",\n",
    "        \"Population\": 72,\n",
    "        \"Threats\": [\"Habitat loss\", \"Poaching\"]\n",
    "    },\n",
    "    \"Sumatran Orangutan\": {\n",
    "        \"Status\": \"Critically Endangered\",\n",
    "        \"Population\": 14600,\n",
    "        \"Threats\": [\"Habitat loss\", \"Poaching\"]\n",
    "    },\n",
    "    \"Hawksbill Turtle\": {\n",
    "        \"Status\": \"Critically Endangered\",\n",
    "        \"Population\": None,\n",
    "        \"Threats\": [\"Habitat loss\", \"Poaching\"]\n",
    "    },\n",
    "    \"Saola\": {\n",
    "        \"Status\": \"Critically Endangered\",\n",
    "        \"Population\": None,\n",
    "        \"Threats\": [\"Habitat loss\", \"Poaching\"]\n",
    "    },\n",
    "    \"Iberian Lynx\": {\n",
    "        \"Status\": \"Endangered\",\n",
    "        \"Population\": 94,\n",
    "        \"Threats\": [\"Habitat loss\", \"Poaching\"]\n",
    "    }\n",
    "}\n"
   ]
  },
  {
   "cell_type": "code",
   "execution_count": 32,
   "metadata": {},
   "outputs": [
    {
     "name": "stdout",
     "output_type": "stream",
     "text": [
      "Threats: ['Habitat loss', 'Poaching', 'Civil unrest', 'Bycatch in fishing nets']\n"
     ]
    }
   ],
   "source": [
    "threats = []\n",
    "for species in enumerate(conservation_data.values()):\n",
    "    for threat in species[1][\"Threats\"]:\n",
    "        if threat not in threats:\n",
    "                threats.append(threat)\n",
    "      \n",
    "print(\"Threats: \" + str(threats))"
   ]
  },
  {
   "cell_type": "code",
   "execution_count": 33,
   "metadata": {},
   "outputs": [
    {
     "name": "stdout",
     "output_type": "stream",
     "text": [
      "Critically Endangered Species: ['Mountain Gorilla', 'Amur Leopard', 'Vaquita', 'Javan Rhino', 'Sumatran Orangutan', 'Hawksbill Turtle', 'Saola']\n"
     ]
    }
   ],
   "source": [
    "crit_endangered = []\n",
    "for species in enumerate(conservation_data.items()):\n",
    "    if species[1][1][\"Status\"] == \"Critically Endangered\":\n",
    "         crit_endangered.append(species[1][0])\n",
    "\n",
    "print(\"Critically Endangered Species: \" + str(crit_endangered))"
   ]
  },
  {
   "cell_type": "code",
   "execution_count": 34,
   "metadata": {},
   "outputs": [
    {
     "name": "stdout",
     "output_type": "stream",
     "text": [
      "Species with population < 50 or unknown: ['Vaquita', 'Hawksbill Turtle', 'Saola']\n"
     ]
    }
   ],
   "source": [
    "low_populations = []\n",
    "for species in enumerate(conservation_data.items()):\n",
    "    pop = species[1][1][\"Population\"]\n",
    "    if pop == None or pop < 50:\n",
    "         low_populations.append(species[1][0])\n",
    "\n",
    "print(\"Species with population < 50 or unknown: \" + str(low_populations))"
   ]
  },
  {
   "cell_type": "code",
   "execution_count": 38,
   "metadata": {},
   "outputs": [
    {
     "name": "stdout",
     "output_type": "stream",
     "text": [
      "Species with the largest population: African Elephant, 415000\n"
     ]
    }
   ],
   "source": [
    "max_pop = (\"\", 0)\n",
    "for species in enumerate(conservation_data.items()):\n",
    "    pop = species[1][1][\"Population\"]\n",
    "    if pop != None and pop > max_pop[1]:\n",
    "        max_pop = (species[1][0], pop)\n",
    "\n",
    "print(\"Species with the largest population: \" + str(max_pop[0]) + \", \" + str(max_pop[1]))"
   ]
  },
  {
   "cell_type": "markdown",
   "metadata": {},
   "source": [
    "## Question 2: Functions (10 pt)\n",
    "\n",
    "When considering the health of an ecosystem, an important concept to quantify is the diversity of that system. There are several metrics commonly used to calculate ecosystem diversity, one of which is call Simpson's Diversity Index.\n",
    "\n",
    "This metric not takes into account how many species are present in an location, but also if one species has far more individuals than other species. For example, an ecosystem with 500 species but only one species above 10 individuals is not that diverse.\n",
    "\n",
    "We can calculate Simpson's Diversity ($D$) as follows:\n",
    "\n",
    "$D = 1 - [(\\frac{n_1}{N})^2 + (\\frac{n_2}{N})^2 + (\\frac{n_3}{N})^2 + ...]$\n",
    "\n",
    "For example, if an ecosystem has four species with 5, 2, 2, and 1 individuals (10 individuals total), you can calculate $D$ like this:\n",
    "\n",
    "$D = 1 - [(\\frac{5}{10})^2 + (\\frac{2}{10})^2 + (\\frac{2}{10})^2 + (\\frac{1}{10})^2] = 0.66$\n",
    "\n",
    "Define a function that calculates and returns $D$ given a list of species population levels, and run the function on several example lists (3 pt).\n",
    "\n",
    "Your answer should work for a list of **any** length (1 pt).\n",
    "\n",
    "Add documentation to the function that describes what it does, the desired parameters, and what data types the parameters should be (2 pt).\n",
    "\n",
    "Within the function, check that the input is a list. If the input is not a list, give a custom error message (2 pt).\n",
    "\n",
    "Also, make sure all entries in the list are integers. If there are floats, convert them to integers. If there are entries that are not floats or integers, give a custom error message (2 pt).\n",
    "\n"
   ]
  },
  {
   "cell_type": "code",
   "execution_count": 51,
   "metadata": {},
   "outputs": [
    {
     "name": "stdout",
     "output_type": "stream",
     "text": [
      "0.6599999999999999\n",
      "0.4485625467948795\n",
      "0.4485625467948795\n",
      "a is not an integer. Please make sure all input are integers\n",
      "None\n",
      "The input is not a list. Please givee the function a list as input\n",
      "None\n"
     ]
    }
   ],
   "source": [
    "# example_input = [1882, 400, 321, 24]\n",
    "\n",
    "def Sim_Div(input):\n",
    "    if not isinstance(input, list):\n",
    "        print(\"The input is not a list. Please givee the function a list as input\")\n",
    "        return None\n",
    "\n",
    "    D = 0\n",
    "    total = 0\n",
    "\n",
    "    for i in range(len(input)):\n",
    "        if not (isinstance(input[i], int) or isinstance(input[i], float)):\n",
    "            print(str(input[i]) + \" is not an integer. Please make sure all input are integers\")\n",
    "            return None\n",
    "        elif isinstance(input[i], float):\n",
    "            input[i] = int(input[i])\n",
    "\n",
    "        total += input[i]\n",
    "\n",
    "    for i in input:\n",
    "        D += (i/total)**2\n",
    "\n",
    "    return 1 - D\n",
    "\n",
    "\n",
    "print(Sim_Div([5, 2, 2, 1]))\n",
    "print(Sim_Div([1882, 400, 321, 24]))\n",
    "print(Sim_Div([1882.0, 400.99, 321, 24.0]))\n",
    "print(Sim_Div([1882, 'a', 321, 24]))\n",
    "print(Sim_Div(\"not a list\"))\n"
   ]
  },
  {
   "cell_type": "markdown",
   "metadata": {},
   "source": [
    "## Question 3: Simulating data (10 pt)\n",
    "\n",
    "In data analysis, we often simulate data to help test our predictions and get a feel for how the real data should be. This questions asks you to use the functions found in `numpy.random` to simulate rolling.\n",
    "\n",
    "Define a function called `dice_simulator()` with an integer parameter called `n`. This function should create a list of integers 1 through 6 and randomly sample this list with replacement `n` times. The function should return the `n` samples as a list or numpy array. Note that `n` should be a positive integer (2 pt).\n",
    "\n",
    "Define a function called `proportions()` to calculate what proportion of the \"rolls\" that are 1s, 2s, 3s, 4s, 5s, and 6s. Print these 6 proportions. `proportions()` should have a single parameter called `rolls`, which should take in the output of `dice_simulator()` (3 pt).\n",
    "\n",
    "Define a function called `three_streak()` to calculate the maximum number of times 3 was \"rolled\" in a row and print this value. To be in a row, the 3's have to be next to each other in a list (such as if `rolls[1]` and `rolls[2]` are both 3). Like `proportions()`, `three_streak()` should have a single parameter called `rolls`, which should take in the output of `dice_simulator()` (3 pt). \n",
    "- *Hint: `max()` is a built in function in Python that finds the largest value in a list.*\n",
    "\n",
    "Define a function called `simulation()` that calls `dice_simulator()`, `proportions()`, and `three_streak()`. Make sure that `proportions()` and `three_streak()` are called so that they use the same dice rolls. `simulation()` should take a single parameter `n` that is fed into `dice_simulator()`. Have this function print the value of n, as well (1 pt). \n",
    "\n",
    "Call `simulation()` several times with the `n` parameter at different values (1 pt). \n",
    "\n",
    "\n",
    "\n"
   ]
  },
  {
   "cell_type": "code",
   "execution_count": 107,
   "metadata": {},
   "outputs": [
    {
     "name": "stdout",
     "output_type": "stream",
     "text": [
      "-------------------------------\n",
      "Value of n: 50\n",
      "\n",
      "[2. 4. 6. 4. 5. 5. 1. 6. 4. 4. 6. 6. 5. 4. 4. 1. 1. 6. 1. 3. 3. 2. 2. 4.\n",
      " 3. 4. 2. 5. 3. 2. 2. 4. 2. 1. 5. 6. 5. 1. 5. 5. 2. 3. 5. 2. 2. 2. 6. 2.\n",
      " 3. 2.]\n",
      "Proportion of rolls that are 2.0: 0.26\n",
      "Proportion of rolls that are 4.0: 0.18\n",
      "Proportion of rolls that are 6.0: 0.14\n",
      "Proportion of rolls that are 5.0: 0.18\n",
      "Proportion of rolls that are 1.0: 0.12\n",
      "Proportion of rolls that are 3.0: 0.12\n",
      "\n",
      "Maximum number of times a 3 was rolled in a row: 2\n"
     ]
    }
   ],
   "source": [
    "import numpy as np\n",
    "from collections import Counter\n",
    "\n",
    "def dice_simulator(n):\n",
    "    samples = np.zeros(n)\n",
    "    for i in range(n):\n",
    "        samples[i] = np.random.randint(1,7)\n",
    "\n",
    "    return samples\n",
    "\n",
    "def proportions(rolls):\n",
    "    p = dict(Counter(rolls))\n",
    "\n",
    "    for num in p.items():\n",
    "        print(\"Proportion of rolls that are \" + str(num[0]) + \": \" + str(num[1] / len(rolls)))\n",
    "        \n",
    "\n",
    "    print(\"\")\n",
    "\n",
    "def three_streak(rolls):\n",
    "    threes_tracker = []\n",
    "    threes_string = []\n",
    "    for i in rolls:\n",
    "        if i == 3:\n",
    "            threes_string.append(i)\n",
    "        elif i != 3 and len(threes_string) != 0:\n",
    "            threes_tracker.append(threes_string)\n",
    "            threes_string = []\n",
    "    #print(threes_tracker)\n",
    "    if len(threes_tracker) == 0:\n",
    "        print(\"Maximum number of times a 3 was rolled in a row: 0\")\n",
    "    else:\n",
    "        print(\"Maximum number of times a 3 was rolled in a row: \" + str(len(max(threes_tracker))))\n",
    "\n",
    "\n",
    "def simulation(n):\n",
    "    print(\"-------------------------------\")\n",
    "    print(\"Value of n: \" + str(n) + \"\\n\")\n",
    "    play = dice_simulator(n)\n",
    "    print(play)\n",
    "    proportions(play)\n",
    "    three_streak(play)\n",
    "\n",
    "\n",
    "#simulation(5)\n",
    "#simulation(10)\n",
    "#simulation(20)\n",
    "simulation(50)\n"
   ]
  }
 ],
 "metadata": {
  "kernelspec": {
   "display_name": "Python 3.9.12 ('base')",
   "language": "python",
   "name": "python3"
  },
  "language_info": {
   "codemirror_mode": {
    "name": "ipython",
    "version": 3
   },
   "file_extension": ".py",
   "mimetype": "text/x-python",
   "name": "python",
   "nbconvert_exporter": "python",
   "pygments_lexer": "ipython3",
   "version": "3.8.5"
  },
  "orig_nbformat": 4,
  "vscode": {
   "interpreter": {
    "hash": "b52b534d3e8b2df8a7f375ea8b488ed7c2e546a5d77230d70bd2c6badbd8c861"
   }
  }
 },
 "nbformat": 4,
 "nbformat_minor": 2
}
