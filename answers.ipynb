{
 "cells": [
  {
   "cell_type": "markdown",
   "metadata": {},
   "source": [
    "# Assignment 3: Advanced Python (30 pt)\n",
    "\n",
    "This assignment covers materials from the material on loops, functions, and NumPy lectures.\n",
    "\n",
    "Note that these questions are longer and somewhat more open ended than previous assignments. Please reach out if you need assistance getting started.\n",
    "\n",
    "Feel free to create as many Python or Markdown cells as you desire to answer the questions."
   ]
  },
  {
   "cell_type": "markdown",
   "metadata": {},
   "source": [
    "## Question 1: For loops (10 pts)\n",
    "\n",
    "Below, we have a nested dictionary structure containing information about several species ranging from vulnerable to critically endangered. Note than in some cases, species populations are listed as `None`. This means that the wild populations of these species are unknown. \n",
    "\n",
    "Use for loops to accomplish the following tasks: \n",
    "\n",
    "- Create a data structure containing all unique types of \"Threats\". This variable should not contain duplicate entries. Print the structure (2 pt).\n",
    "- Create a list of all of the species listed as \"Critically Endangered\". Print the list (2 pt).\n",
    "- Create a separate list containing the names of species with populations with fewer than 50 individuals and species with unknown population sizes. Print the list (3 pt).\n",
    "- Find the species with the largest population size. Print this species name, and what its population size is (3 pt).\n",
    "\n",
    "If you hard code the solutions (e.g. manually pick out which species has the largest population) you will receive NO points."
   ]
  },
  {
   "cell_type": "code",
   "execution_count": 57,
   "metadata": {},
   "outputs": [],
   "source": [
    "conservation_data = {\n",
    "    \"Giant Panda\": {\n",
    "        \"Status\": \"Endangered\",\n",
    "        \"Population\": 1800,\n",
    "        \"Threats\": [\"Habitat loss\", \"Poaching\"]\n",
    "    },\n",
    "    \"Mountain Gorilla\": {\n",
    "        \"Status\": \"Critically Endangered\",\n",
    "        \"Population\": 1063,\n",
    "        \"Threats\": [\"Habitat loss\", \"Poaching\", \"Civil unrest\"]\n",
    "    },\n",
    "    \"Amur Leopard\": {\n",
    "        \"Status\": \"Critically Endangered\",\n",
    "        \"Population\": 84,\n",
    "        \"Threats\": [\"Habitat loss\", \"Poaching\"]\n",
    "    },\n",
    "    \"Vaquita\": {\n",
    "        \"Status\": \"Critically Endangered\",\n",
    "        \"Population\": 10,\n",
    "        \"Threats\": [\"Bycatch in fishing nets\"]\n",
    "    },\n",
    "    \"African Elephant\": {\n",
    "        \"Status\": \"Vulnerable\",\n",
    "        \"Population\": 415000,\n",
    "        \"Threats\": [\"Habitat loss\", \"Poaching\"]\n",
    "    },\n",
    "    \"Javan Rhino\": {\n",
    "        \"Status\": \"Critically Endangered\",\n",
    "        \"Population\": 72,\n",
    "        \"Threats\": [\"Habitat loss\", \"Poaching\"]\n",
    "    },\n",
    "    \"Sumatran Orangutan\": {\n",
    "        \"Status\": \"Critically Endangered\",\n",
    "        \"Population\": 14600,\n",
    "        \"Threats\": [\"Habitat loss\", \"Poaching\"]\n",
    "    },\n",
    "    \"Hawksbill Turtle\": {\n",
    "        \"Status\": \"Critically Endangered\",\n",
    "        \"Population\": None,\n",
    "        \"Threats\": [\"Habitat loss\", \"Poaching\"]\n",
    "    },\n",
    "    \"Saola\": {\n",
    "        \"Status\": \"Critically Endangered\",\n",
    "        \"Population\": None,\n",
    "        \"Threats\": [\"Habitat loss\", \"Poaching\"]\n",
    "    },\n",
    "    \"Iberian Lynx\": {\n",
    "        \"Status\": \"Endangered\",\n",
    "        \"Population\": 94,\n",
    "        \"Threats\": [\"Habitat loss\", \"Poaching\"]\n",
    "    }\n",
    "}\n"
   ]
  },
  {
   "attachments": {},
   "cell_type": "markdown",
   "metadata": {},
   "source": [
    "**Threats for loop**"
   ]
  },
  {
   "cell_type": "code",
   "execution_count": 58,
   "metadata": {},
   "outputs": [
    {
     "name": "stdout",
     "output_type": "stream",
     "text": [
      "('Habitat loss', 'Poaching', 'Civil unrest', 'Bycatch in fishing nets')\n"
     ]
    }
   ],
   "source": [
    "threats = ()\n",
    "\n",
    "for animal, data in conservation_data.items():\n",
    "    for threat in data[\"Threats\"]:\n",
    "        if threat not in threats:\n",
    "            threats += threat,\n",
    "\n",
    "print(threats)\n"
   ]
  },
  {
   "attachments": {},
   "cell_type": "markdown",
   "metadata": {},
   "source": [
    "**Critically Endangered for loop**"
   ]
  },
  {
   "cell_type": "code",
   "execution_count": 59,
   "metadata": {},
   "outputs": [
    {
     "name": "stdout",
     "output_type": "stream",
     "text": [
      "('Mountain Gorilla', 'Amur Leopard', 'Vaquita', 'Javan Rhino', 'Sumatran Orangutan', 'Hawksbill Turtle', 'Saola')\n"
     ]
    }
   ],
   "source": [
    "endangered = ()\n",
    "\n",
    "for animal, data in conservation_data.items():\n",
    "    if data[\"Status\"] == \"Critically Endangered\":\n",
    "        endangered += animal,\n",
    "print(endangered)\n"
   ]
  },
  {
   "attachments": {},
   "cell_type": "markdown",
   "metadata": {},
   "source": [
    "**Population size for loop**"
   ]
  },
  {
   "cell_type": "code",
   "execution_count": 63,
   "metadata": {},
   "outputs": [
    {
     "name": "stdout",
     "output_type": "stream",
     "text": [
      "('Vaquita', 'Hawksbill Turtle', 'Saola')\n"
     ]
    }
   ],
   "source": [
    "pop = ()\n",
    "\n",
    "for animal, data in conservation_data.items():\n",
    "    if data[\"Population\"] is None or data[\"Population\"] <= 50:\n",
    "        pop += animal,\n",
    "print(pop)\n"
   ]
  },
  {
   "attachments": {},
   "cell_type": "markdown",
   "metadata": {},
   "source": [
    "**Species with largest population**"
   ]
  },
  {
   "cell_type": "code",
   "execution_count": 98,
   "metadata": {},
   "outputs": [
    {
     "name": "stdout",
     "output_type": "stream",
     "text": [
      "('African Elephant', 415000)\n"
     ]
    }
   ],
   "source": [
    "largepop = ()\n",
    "number = 0\n",
    "\n",
    "for animal, data in conservation_data.items():\n",
    "    if data[\"Population\"] is not None and data[\"Population\"] > number:\n",
    "        number = data[\"Population\"]\n",
    "        largepop = animal, data[\"Population\"]\n",
    "print(largepop)\n"
   ]
  },
  {
   "cell_type": "markdown",
   "metadata": {},
   "source": [
    "## Question 2: Functions (10 pt)\n",
    "\n",
    "When considering the health of an ecosystem, an important concept to quantify is the diversity of that system. There are several metrics commonly used to calculate ecosystem diversity, one of which is call Simpson's Diversity Index.\n",
    "\n",
    "This metric not takes into account how many species are present in an location, but also if one species has far more individuals than other species. For example, an ecosystem with 500 species but only one species above 10 individuals is not that diverse.\n",
    "\n",
    "We can calculate Simpson's Diversity ($D$) as follows:\n",
    "\n",
    "$D = 1 - [(\\frac{n_1}{N})^2 + (\\frac{n_2}{N})^2 + (\\frac{n_3}{N})^2 + ...]$\n",
    "\n",
    "For example, if an ecosystem has four species with 5, 2, 2, and 1 individuals (10 individuals total), you can calculate $D$ like this:\n",
    "\n",
    "$D = 1 - [(\\frac{5}{10})^2 + (\\frac{2}{10})^2 + (\\frac{2}{10})^2 + (\\frac{1}{10})^2] = 0.66$\n",
    "\n",
    "Define a function that calculates and returns $D$ given a list of species population levels, and run the function on several example lists (3 pt).\n",
    "\n",
    "Your answer should work for a list of **any** length (1 pt).\n",
    "\n",
    "Add documentation to the function that describes what it does, the desired parameters, and what data types the parameters should be (2 pt).\n",
    "\n",
    "Within the function, check that the input is a list. If the input is not a list, give a custom error message (2 pt).\n",
    "\n",
    "Also, make sure all entries in the list are integers. If there are floats, convert them to integers. If there are entries that are not floats or integers, give a custom error message (2 pt).\n",
    "\n"
   ]
  },
  {
   "cell_type": "code",
   "execution_count": 194,
   "metadata": {},
   "outputs": [],
   "source": [
    "import math\n",
    "example_input = [1882, 400, 321, 24]\n",
    "example2 = [5,2,2,1]\n",
    "longlist = [1,1, 45, 68, 27, 1826, 33260, 45, 27, 120000, 4]\n",
    "nonlist = (1,1, 45, 68, 27, 1826, 33260, 45, 27, 120000, 4)\n",
    "listwithstring = [1,1, 45, 68, 27, 1826, 33260, 45, 27, 120000, 4, \"hello\"]\n",
    "\n",
    "\n",
    "def calculate(species_counts):\n",
    "    \"\"\"Calculates Simpson's Diversity Index given a list of species counts.\n",
    "    \n",
    "    Args:\n",
    "    species_counts: A list of integers representing the number of individuals of each species.\n",
    "    \n",
    "    Returns:\n",
    "    The Simpson's Diversity Index as a float.\n",
    "    \"\"\"\n",
    "    if isinstance(species_counts, list):\n",
    "\n",
    "        # Check that all entries in the list are integers or floats\n",
    "        for count in species_counts:\n",
    "            if not isinstance(count, (int, float)):\n",
    "                raise TypeError(\n",
    "                    \"All entries in the list must be integers or floats.\")\n",
    "        n = sum(species_counts)  # Total number of individuals\n",
    "        # Calculate the frequency of each species\n",
    "        freqs = [int(count) / n for count in species_counts]\n",
    "        # Calculate the Simpson's Diversity Index\n",
    "        return 1 - sum([freq**2 for freq in freqs])\n",
    "    else:\n",
    "        raise TypeError( \"Input must be a list.\")\n",
    "\n"
   ]
  },
  {
   "cell_type": "code",
   "execution_count": 195,
   "metadata": {},
   "outputs": [
    {
     "data": {
      "text/plain": [
       "0.4485625467948795"
      ]
     },
     "execution_count": 195,
     "metadata": {},
     "output_type": "execute_result"
    }
   ],
   "source": [
    "calculate(example_input)"
   ]
  },
  {
   "cell_type": "code",
   "execution_count": 196,
   "metadata": {},
   "outputs": [
    {
     "data": {
      "text/plain": [
       "0.6599999999999999"
      ]
     },
     "execution_count": 196,
     "metadata": {},
     "output_type": "execute_result"
    }
   ],
   "source": [
    "calculate(example2)"
   ]
  },
  {
   "cell_type": "code",
   "execution_count": 197,
   "metadata": {},
   "outputs": [
    {
     "data": {
      "text/plain": [
       "0.35696511999181857"
      ]
     },
     "execution_count": 197,
     "metadata": {},
     "output_type": "execute_result"
    }
   ],
   "source": [
    "calculate(longlist)"
   ]
  },
  {
   "cell_type": "code",
   "execution_count": 198,
   "metadata": {},
   "outputs": [
    {
     "ename": "TypeError",
     "evalue": "Input must be a list.",
     "output_type": "error",
     "traceback": [
      "\u001b[0;31m---------------------------------------------------------------------------\u001b[0m",
      "\u001b[0;31mTypeError\u001b[0m                                 Traceback (most recent call last)",
      "Cell \u001b[0;32mIn[198], line 1\u001b[0m\n\u001b[0;32m----> 1\u001b[0m calculate(nonlist)\n",
      "Cell \u001b[0;32mIn[194], line 31\u001b[0m, in \u001b[0;36mcalculate\u001b[0;34m(species_counts)\u001b[0m\n\u001b[1;32m     29\u001b[0m     \u001b[39mreturn\u001b[39;00m \u001b[39m1\u001b[39m \u001b[39m-\u001b[39m \u001b[39msum\u001b[39m([freq\u001b[39m*\u001b[39m\u001b[39m*\u001b[39m\u001b[39m2\u001b[39m \u001b[39mfor\u001b[39;00m freq \u001b[39min\u001b[39;00m freqs])\n\u001b[1;32m     30\u001b[0m \u001b[39melse\u001b[39;00m:\n\u001b[0;32m---> 31\u001b[0m     \u001b[39mraise\u001b[39;00m \u001b[39mTypeError\u001b[39;00m( \u001b[39m\"\u001b[39m\u001b[39mInput must be a list.\u001b[39m\u001b[39m\"\u001b[39m)\n",
      "\u001b[0;31mTypeError\u001b[0m: Input must be a list."
     ]
    }
   ],
   "source": [
    "calculate(nonlist)"
   ]
  },
  {
   "cell_type": "code",
   "execution_count": null,
   "metadata": {},
   "outputs": [
    {
     "ename": "TypeError",
     "evalue": "All entries in the list must be integers or floats.",
     "output_type": "error",
     "traceback": [
      "\u001b[0;31m---------------------------------------------------------------------------\u001b[0m",
      "\u001b[0;31mTypeError\u001b[0m                                 Traceback (most recent call last)",
      "Cell \u001b[0;32mIn[193], line 1\u001b[0m\n\u001b[0;32m----> 1\u001b[0m calculate(listwithstring)\n",
      "Cell \u001b[0;32mIn[188], line 23\u001b[0m, in \u001b[0;36mcalculate\u001b[0;34m(species_counts)\u001b[0m\n\u001b[1;32m     21\u001b[0m \u001b[39mfor\u001b[39;00m count \u001b[39min\u001b[39;00m species_counts:\n\u001b[1;32m     22\u001b[0m     \u001b[39mif\u001b[39;00m \u001b[39mnot\u001b[39;00m \u001b[39misinstance\u001b[39m(count, (\u001b[39mint\u001b[39m, \u001b[39mfloat\u001b[39m)):\n\u001b[0;32m---> 23\u001b[0m         \u001b[39mraise\u001b[39;00m \u001b[39mTypeError\u001b[39;00m(\n\u001b[1;32m     24\u001b[0m             \u001b[39m\"\u001b[39m\u001b[39mAll entries in the list must be integers or floats.\u001b[39m\u001b[39m\"\u001b[39m)\n\u001b[1;32m     25\u001b[0m n \u001b[39m=\u001b[39m \u001b[39msum\u001b[39m(species_counts)  \u001b[39m# Total number of individuals\u001b[39;00m\n\u001b[1;32m     26\u001b[0m \u001b[39m# Calculate the frequency of each species\u001b[39;00m\n",
      "\u001b[0;31mTypeError\u001b[0m: All entries in the list must be integers or floats."
     ]
    }
   ],
   "source": [
    "calculate(listwithstring)"
   ]
  },
  {
   "cell_type": "markdown",
   "metadata": {},
   "source": [
    "## Question 3: Simulating data (10 pt)\n",
    "\n",
    "In data analysis, we often simulate data to help test our predictions and get a feel for how the real data should be. This questions asks you to use the functions found in `numpy.random` to simulate rolling.\n",
    "\n",
    "Define a function called `dice_simulator()` with an integer parameter called `n`. This function should create a list of integers 1 through 6 and randomly sample this list with replacement `n` times. The function should return the `n` samples as a list or numpy array. Note that `n` should be a positive integer (2 pt).\n",
    "\n",
    "Define a function called `proportions()` to calculate what proportion of the \"rolls\" that are 1s, 2s, 3s, 4s, 5s, and 6s. Print these 6 proportions. `proportions()` should have a single parameter called `rolls`, which should take in the output of `dice_simulator()` (3 pt).\n",
    "\n",
    "Define a function called `three_streak()` to calculate the maximum number of times 3 was \"rolled\" in a row and print this value. To be in a row, the 3's have to be next to each other in a list (such as if `rolls[1]` and `rolls[2]` are both 3). Like `proportions()`, `three_streak()` should have a single parameter called `rolls`, which should take in the output of `dice_simulator()` (3 pt). \n",
    "- *Hint: `max()` is a built in function in Python that finds the largest value in a list.*\n",
    "\n",
    "Define a function called `simulation()` that calls `dice_simulator()`, `proportions()`, and `three_streak()`. Make sure that `proportions()` and `three_streak()` are called so that they use the same dice rolls. `simulation()` should take a single parameter `n` that is fed into `dice_simulator()`. Have this function print the value of n, as well (1 pt). \n",
    "\n",
    "Call `simulation()` several times with the `n` parameter at different values (1 pt). \n",
    "\n",
    "\n",
    "\n"
   ]
  },
  {
   "cell_type": "code",
   "execution_count": 19,
   "metadata": {},
   "outputs": [],
   "source": [
    "import numpy.random\n",
    "\n",
    "def dice_simulator(n):\n",
    "    \"\"\"Simulates rolling a dice.\n",
    "    \n",
    "    Returns:\n",
    "    A tuple containing the values of the dice rolled n times.\n",
    "    \"\"\"\n",
    "    return list(numpy.random.randint(1,7,n))\n",
    "\n",
    "\n",
    "def proportions(rolls):\n",
    "    \"\"\"Calculates the proportions of each possible dice roll.\n",
    "    \n",
    "    Returns:\n",
    "    A dictionary containing the proportions of each possible dice roll.\n",
    "    \"\"\"\n",
    "    # rolls = dice_simulator(rolls)\n",
    "    return {roll: rolls.count(roll) / len(rolls) for roll in rolls}\n",
    "\n",
    "\n",
    "def three_streak(rolls):\n",
    "    \"\"\"Calculates the maximum number of times 3 was rolled in a row.\n",
    "\n",
    "    Returns:\n",
    "    A number that shows the amount of times 3 was rolled in a row.\n",
    "    \"\"\"\n",
    "    # rolls = dice_simulator(rolls)\n",
    "    streak = 0\n",
    "    max_streak = 0\n",
    "    for roll in rolls:\n",
    "        if roll == 3:\n",
    "            streak += 1\n",
    "        else:\n",
    "            streak = 0\n",
    "        max_streak = max(streak, max_streak)\n",
    "    return max_streak\n",
    "\n",
    "\n",
    "def simulation(n):\n",
    "    \"\"\"Simulates rolling a pair of dice n times.\n",
    "    \n",
    "    Returns:\n",
    "    The value, proportion, and 3 streak of the dice rolled n times.\n",
    "    \"\"\"\n",
    "    dice = dice_simulator(n)\n",
    "\n",
    "    return (n, proportions(dice), three_streak(dice))\n",
    "    "
   ]
  },
  {
   "cell_type": "code",
   "execution_count": 20,
   "metadata": {},
   "outputs": [
    {
     "data": {
      "text/plain": [
       "(667,\n",
       " {2: 0.1454272863568216,\n",
       "  6: 0.17541229385307347,\n",
       "  5: 0.17541229385307347,\n",
       "  3: 0.17991004497751126,\n",
       "  4: 0.136431784107946,\n",
       "  1: 0.1874062968515742},\n",
       " 3)"
      ]
     },
     "execution_count": 20,
     "metadata": {},
     "output_type": "execute_result"
    }
   ],
   "source": [
    "simulation(numpy.random.randint(1, 1001))"
   ]
  },
  {
   "cell_type": "code",
   "execution_count": 21,
   "metadata": {},
   "outputs": [
    {
     "data": {
      "text/plain": [
       "(921,\n",
       " {2: 0.17263843648208468,\n",
       "  6: 0.15418023887079263,\n",
       "  5: 0.1748099891422367,\n",
       "  3: 0.17155266015200868,\n",
       "  4: 0.15743756786102062,\n",
       "  1: 0.16938110749185667},\n",
       " 3)"
      ]
     },
     "execution_count": 21,
     "metadata": {},
     "output_type": "execute_result"
    }
   ],
   "source": [
    "simulation(numpy.random.randint(1, 1001))"
   ]
  },
  {
   "cell_type": "code",
   "execution_count": 22,
   "metadata": {},
   "outputs": [
    {
     "data": {
      "text/plain": [
       "(524,\n",
       " {4: 0.18702290076335878,\n",
       "  2: 0.14122137404580154,\n",
       "  1: 0.17557251908396945,\n",
       "  3: 0.183206106870229,\n",
       "  5: 0.1851145038167939,\n",
       "  6: 0.12786259541984732},\n",
       " 3)"
      ]
     },
     "execution_count": 22,
     "metadata": {},
     "output_type": "execute_result"
    }
   ],
   "source": [
    "simulation(numpy.random.randint(1, 1001))\n"
   ]
  },
  {
   "cell_type": "code",
   "execution_count": 23,
   "metadata": {},
   "outputs": [
    {
     "data": {
      "text/plain": [
       "(638,\n",
       " {4: 0.1755485893416928,\n",
       "  5: 0.15673981191222572,\n",
       "  3: 0.15987460815047022,\n",
       "  1: 0.16300940438871472,\n",
       "  6: 0.17711598746081506,\n",
       "  2: 0.1677115987460815},\n",
       " 3)"
      ]
     },
     "execution_count": 23,
     "metadata": {},
     "output_type": "execute_result"
    }
   ],
   "source": [
    "simulation(numpy.random.randint(1, 1001))\n"
   ]
  }
 ],
 "metadata": {
  "kernelspec": {
   "display_name": "Python 3 (ipykernel)",
   "language": "python",
   "name": "python3"
  },
  "language_info": {
   "codemirror_mode": {
    "name": "ipython",
    "version": 3
   },
   "file_extension": ".py",
   "mimetype": "text/x-python",
   "name": "python",
   "nbconvert_exporter": "python",
   "pygments_lexer": "ipython3",
   "version": "3.11.2"
  },
  "orig_nbformat": 4,
  "vscode": {
   "interpreter": {
    "hash": "b52b534d3e8b2df8a7f375ea8b488ed7c2e546a5d77230d70bd2c6badbd8c861"
   }
  }
 },
 "nbformat": 4,
 "nbformat_minor": 2
}
