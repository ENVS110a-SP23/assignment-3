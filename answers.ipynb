{
 "cells": [
  {
   "cell_type": "markdown",
   "metadata": {},
   "source": [
    "# Assignment 3: Advanced Python (30 pt)\n",
    "\n",
    "This assignment covers materials from the material on loops, functions, and NumPy lectures.\n",
    "\n",
    "Note that these questions are longer and somewhat more open ended than previous assignments. Please reach out if you need assistance getting started.\n",
    "\n",
    "Feel free to create as many Python or Markdown cells as you desire to answer the questions."
   ]
  },
  {
   "cell_type": "markdown",
   "metadata": {},
   "source": [
    "## Question 1: For loops (10 pts)\n",
    "\n",
    "Below, we have a nested dictionary structure containing information about several species ranging from vulnerable to critically endangered. Note than in some cases, species populations are listed as `None`. This means that the wild populations of these species are unknown. \n",
    "\n",
    "Use for loops to accomplish the following tasks: \n",
    "\n",
    "- Create a data structure containing all unique types of \"Threats\". This variable should not contain duplicate entries. Print the structure (2 pt).\n",
    "- Create a list of all of the species listed as \"Critically Endangered\". Print the list (2 pt).\n",
    "- Create a separate list containing the names of species with populations with fewer than 50 individuals and species with unknown population sizes. Print the list (3 pt).\n",
    "- Find the species with the largest population size. Print this species name, and what its population size is (3 pt).\n",
    "\n",
    "If you hard code the solutions (e.g. manually pick out which species has the largest population) you will receive NO points."
   ]
  },
  {
   "cell_type": "code",
   "execution_count": 88,
   "metadata": {},
   "outputs": [],
   "source": [
    "conservation_data = {\n",
    "    \"Giant Panda\": {\n",
    "        \"Status\": \"Endangered\",\n",
    "        \"Population\": 1800,\n",
    "        \"Threats\": [\"Habitat loss\", \"Poaching\"]\n",
    "    },\n",
    "    \"Mountain Gorilla\": {\n",
    "        \"Status\": \"Critically Endangered\",\n",
    "        \"Population\": 1063,\n",
    "        \"Threats\": [\"Habitat loss\", \"Poaching\", \"Civil unrest\"]\n",
    "    },\n",
    "    \"Amur Leopard\": {\n",
    "        \"Status\": \"Critically Endangered\",\n",
    "        \"Population\": 84,\n",
    "        \"Threats\": [\"Habitat loss\", \"Poaching\"]\n",
    "    },\n",
    "    \"Vaquita\": {\n",
    "        \"Status\": \"Critically Endangered\",\n",
    "        \"Population\": 10,\n",
    "        \"Threats\": [\"Bycatch in fishing nets\"]\n",
    "    },\n",
    "    \"African Elephant\": {\n",
    "        \"Status\": \"Vulnerable\",\n",
    "        \"Population\": 415000,\n",
    "        \"Threats\": [\"Habitat loss\", \"Poaching\"]\n",
    "    },\n",
    "    \"Javan Rhino\": {\n",
    "        \"Status\": \"Critically Endangered\",\n",
    "        \"Population\": 72,\n",
    "        \"Threats\": [\"Habitat loss\", \"Poaching\"]\n",
    "    },\n",
    "    \"Sumatran Orangutan\": {\n",
    "        \"Status\": \"Critically Endangered\",\n",
    "        \"Population\": 14600,\n",
    "        \"Threats\": [\"Habitat loss\", \"Poaching\"]\n",
    "    },\n",
    "    \"Hawksbill Turtle\": {\n",
    "        \"Status\": \"Critically Endangered\",\n",
    "        \"Population\": None,\n",
    "        \"Threats\": [\"Habitat loss\", \"Poaching\"]\n",
    "    },\n",
    "    \"Saola\": {\n",
    "        \"Status\": \"Critically Endangered\",\n",
    "        \"Population\": None,\n",
    "        \"Threats\": [\"Habitat loss\", \"Poaching\"]\n",
    "    },\n",
    "    \"Iberian Lynx\": {\n",
    "        \"Status\": \"Endangered\",\n",
    "        \"Population\": 94,\n",
    "        \"Threats\": [\"Habitat loss\", \"Poaching\"]\n",
    "    }\n",
    "}\n"
   ]
  },
  {
   "cell_type": "code",
   "execution_count": 89,
   "metadata": {},
   "outputs": [
    {
     "name": "stdout",
     "output_type": "stream",
     "text": [
      "{'Poaching', 'Civil unrest', 'Habitat loss', 'Bycatch in fishing nets'}\n"
     ]
    }
   ],
   "source": [
    "threats = set()\n",
    "for val in conservation_data.values():\n",
    "    for threat in val[\"Threats\"]:\n",
    "        threats.add(threat)\n",
    "\n",
    "print(threats)"
   ]
  },
  {
   "cell_type": "code",
   "execution_count": 90,
   "metadata": {},
   "outputs": [
    {
     "name": "stdout",
     "output_type": "stream",
     "text": [
      "['Mountain Gorilla', 'Amur Leopard', 'Vaquita', 'Javan Rhino', 'Sumatran Orangutan', 'Hawksbill Turtle', 'Saola']\n"
     ]
    }
   ],
   "source": [
    "crit_endangered = []\n",
    "for key in conservation_data.keys():\n",
    "    if conservation_data[key][\"Status\"] == \"Critically Endangered\":\n",
    "        crit_endangered.append(key) \n",
    "\n",
    "print(crit_endangered)"
   ]
  },
  {
   "cell_type": "code",
   "execution_count": 91,
   "metadata": {},
   "outputs": [
    {
     "name": "stdout",
     "output_type": "stream",
     "text": [
      "['Vaquita', 'Hawksbill Turtle', 'Saola']\n"
     ]
    }
   ],
   "source": [
    "small_or_unknown_pop = []\n",
    "for key in conservation_data.keys():\n",
    "    population = conservation_data[key][\"Population\"]\n",
    "    if population == None or population < 50:\n",
    "        small_or_unknown_pop.append(key)\n",
    "\n",
    "print(small_or_unknown_pop)"
   ]
  },
  {
   "cell_type": "code",
   "execution_count": 95,
   "metadata": {},
   "outputs": [
    {
     "name": "stdout",
     "output_type": "stream",
     "text": [
      "Species with largest population: African Elephant with population of 415000\n"
     ]
    }
   ],
   "source": [
    "largest_pop_size = 0\n",
    "largest_pop_species = None\n",
    "for key in conservation_data.keys():\n",
    "    pop = conservation_data[key][\"Population\"]\n",
    "    if pop != None and pop > largest_pop_size:\n",
    "        largest_pop_size = pop\n",
    "        largest_pop_species = key\n",
    "\n",
    "print(\"Species with largest population:\", largest_pop_species, \"with population of\", largest_pop_size)"
   ]
  },
  {
   "cell_type": "markdown",
   "metadata": {},
   "source": [
    "## Question 2: Functions (10 pt)\n",
    "\n",
    "When considering the health of an ecosystem, an important concept to quantify is the diversity of that system. There are several metrics commonly used to calculate ecosystem diversity, one of which is call Simpson's Diversity Index.\n",
    "\n",
    "This metric not takes into account how many species are present in an location, but also if one species has far more individuals than other species. For example, an ecosystem with 500 species but only one species above 10 individuals is not that diverse.\n",
    "\n",
    "We can calculate Simpson's Diversity ($D$) as follows:\n",
    "\n",
    "$D = 1 - [(\\frac{n_1}{N})^2 + (\\frac{n_2}{N})^2 + (\\frac{n_3}{N})^2 + ...]$\n",
    "\n",
    "For example, if an ecosystem has four species with 5, 2, 2, and 1 individuals (10 individuals total), you can calculate $D$ like this:\n",
    "\n",
    "$D = 1 - [(\\frac{5}{10})^2 + (\\frac{2}{10})^2 + (\\frac{2}{10})^2 + (\\frac{1}{10})^2] = 0.66$\n",
    "\n",
    "Define a function that calculates and returns $D$ given a list of species population levels, and run the function on several example lists (3 pt).\n",
    "\n",
    "Your answer should work for a list of **any** length (1 pt).\n",
    "\n",
    "Add documentation to the function that describes what it does, the desired parameters, and what data types the parameters should be (2 pt).\n",
    "\n",
    "Within the function, check that the input is a list. If the input is not a list, give a custom error message (2 pt).\n",
    "\n",
    "Also, make sure all entries in the list are integers. If there are floats, convert them to integers. If there are entries that are not floats or integers, give a custom error message (2 pt).\n",
    "\n"
   ]
  },
  {
   "cell_type": "code",
   "execution_count": 100,
   "metadata": {},
   "outputs": [],
   "source": [
    "# example_input = [1882, 400, 321, 24]\n",
    "def simpson_diversity(populations:list):\n",
    "    '''\n",
    "    Takes a list of population numbers (ints) and returns the Simpson's Diversity Index (float), which is calculated\n",
    "    as 1 minus the sum of the squared ratios of individual population sizes to the summed total of populations.\n",
    "    '''\n",
    "    assert isinstance(populations, list), str(populations) + \" is not a list\"\n",
    "    assert len(populations) > 0, \"empty list\"\n",
    "    pop_sum = 0\n",
    "    for pop in populations:\n",
    "        assert isinstance(pop, (int, float)), str(pop) + \" is not an int\"\n",
    "        pop_sum += int(pop)\n",
    "    simp_div = 1\n",
    "    for pop in populations:\n",
    "        simp_div -= (int(pop)/pop_sum)**2\n",
    "    return simp_div"
   ]
  },
  {
   "cell_type": "code",
   "execution_count": 103,
   "metadata": {},
   "outputs": [
    {
     "name": "stdout",
     "output_type": "stream",
     "text": [
      "0.44856254679487945\n",
      "0.48141686090270075\n",
      "2.2589934040156632e-07\n",
      "0.6599999999999999\n"
     ]
    }
   ],
   "source": [
    "print(simpson_diversity([1882.5, 400.7, 321, 24]))\n",
    "print(simpson_diversity([123, 62346, 52, 41421]))\n",
    "print(simpson_diversity([5, 0, 123948987, 9]))\n",
    "print(simpson_diversity([5, 2, 2, 1]))"
   ]
  },
  {
   "cell_type": "markdown",
   "metadata": {},
   "source": [
    "## Question 3: Simulating data (10 pt)\n",
    "\n",
    "In data analysis, we often simulate data to help test our predictions and get a feel for how the real data should be. This questions asks you to use the functions found in `numpy.random` to simulate rolling.\n",
    "\n",
    "Define a function called `dice_simulator()` with an integer parameter called `n`. This function should create a list of integers 1 through 6 and randomly sample this list with replacement `n` times. The function should return the `n` samples as a list or numpy array. Note that `n` should be a positive integer (2 pt).\n",
    "\n",
    "Define a function called `proportions()` to calculate what proportion of the \"rolls\" that are 1s, 2s, 3s, 4s, 5s, and 6s. Print these 6 proportions. `proportions()` should have a single parameter called `rolls`, which should take in the output of `dice_simulator()` (3 pt).\n",
    "\n",
    "Define a function called `three_streak()` to calculate the maximum number of times 3 was \"rolled\" in a row and print this value. To be in a row, the 3's have to be next to each other in a list (such as if `rolls[1]` and `rolls[2]` are both 3). Like `proportions()`, `three_streak()` should have a single parameter called `rolls`, which should take in the output of `dice_simulator()` (3 pt). \n",
    "- *Hint: `max()` is a built in function in Python that finds the largest value in a list.*\n",
    "\n",
    "Define a function called `simulation()` that calls `dice_simulator()`, `proportions()`, and `three_streak()`. Make sure that `proportions()` and `three_streak()` are called so that they use the same dice rolls. `simulation()` should take a single parameter `n` that is fed into `dice_simulator()`. Have this function print the value of n, as well (1 pt). \n",
    "\n",
    "Call `simulation()` several times with the `n` parameter at different values (1 pt). \n",
    "\n",
    "\n",
    "\n"
   ]
  },
  {
   "cell_type": "code",
   "execution_count": 24,
   "metadata": {},
   "outputs": [],
   "source": [
    "import numpy as np"
   ]
  },
  {
   "cell_type": "code",
   "execution_count": 109,
   "metadata": {},
   "outputs": [],
   "source": [
    "def dice_simulator(n:int):\n",
    "    assert isinstance(n, int) and n > 0, str(n) + \" is not a positive integer\"\n",
    "    return np.random.choice(np.arange(1, 7), n)\n",
    "\n",
    "def proportions(rolls):\n",
    "    roll_percents = {i: f\"{np.count_nonzero(rolls == i)/len(rolls)*100:0.3f} %\" for i in range(1,7)}\n",
    "    return roll_percents\n",
    "\n",
    "def three_streak(rolls):\n",
    "    streaks = []\n",
    "    streak = 0\n",
    "    for roll in rolls:\n",
    "        if roll == 3:\n",
    "            streak += 1\n",
    "        elif streak > 0:\n",
    "            streaks.append(streak)\n",
    "            streak = 0\n",
    "    return max(streaks, default=0)\n",
    "\n",
    "def simulation(n:int):\n",
    "    rolls = dice_simulator(n)\n",
    "    print(\"Number of rolls:\", n)\n",
    "    print(\"Roll Proportions:\", proportions(rolls))\n",
    "    print(\"Highest streak of threes:\", three_streak(rolls))\n"
   ]
  },
  {
   "cell_type": "code",
   "execution_count": 110,
   "metadata": {},
   "outputs": [
    {
     "name": "stdout",
     "output_type": "stream",
     "text": [
      "Number of rolls: 10\n",
      "Roll Proportions: {1: '10.000 %', 2: '10.000 %', 3: '30.000 %', 4: '40.000 %', 5: '10.000 %', 6: '0.000 %'}\n",
      "Highest streak of threes: 1\n",
      "Number of rolls: 5\n",
      "Roll Proportions: {1: '20.000 %', 2: '0.000 %', 3: '40.000 %', 4: '20.000 %', 5: '0.000 %', 6: '20.000 %'}\n",
      "Highest streak of threes: 2\n",
      "Number of rolls: 50\n",
      "Roll Proportions: {1: '20.000 %', 2: '16.000 %', 3: '12.000 %', 4: '16.000 %', 5: '28.000 %', 6: '8.000 %'}\n",
      "Highest streak of threes: 2\n",
      "Number of rolls: 100\n",
      "Roll Proportions: {1: '11.000 %', 2: '25.000 %', 3: '15.000 %', 4: '20.000 %', 5: '17.000 %', 6: '12.000 %'}\n",
      "Highest streak of threes: 1\n",
      "Number of rolls: 37\n",
      "Roll Proportions: {1: '21.622 %', 2: '29.730 %', 3: '10.811 %', 4: '13.514 %', 5: '13.514 %', 6: '10.811 %'}\n",
      "Highest streak of threes: 2\n"
     ]
    }
   ],
   "source": [
    "simulation(10)\n",
    "simulation(5)\n",
    "simulation(50)\n",
    "simulation(100)\n",
    "simulation(37)"
   ]
  },
  {
   "cell_type": "code",
   "execution_count": null,
   "metadata": {},
   "outputs": [],
   "source": []
  }
 ],
 "metadata": {
  "kernelspec": {
   "display_name": "Python 3.9.12 ('base')",
   "language": "python",
   "name": "python3"
  },
  "language_info": {
   "codemirror_mode": {
    "name": "ipython",
    "version": 3
   },
   "file_extension": ".py",
   "mimetype": "text/x-python",
   "name": "python",
   "nbconvert_exporter": "python",
   "pygments_lexer": "ipython3",
   "version": "3.11.2"
  },
  "orig_nbformat": 4,
  "vscode": {
   "interpreter": {
    "hash": "b52b534d3e8b2df8a7f375ea8b488ed7c2e546a5d77230d70bd2c6badbd8c861"
   }
  }
 },
 "nbformat": 4,
 "nbformat_minor": 2
}
