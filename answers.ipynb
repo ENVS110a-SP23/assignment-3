{
 "cells": [
  {
   "cell_type": "markdown",
   "metadata": {},
   "source": [
    "# Assignment 3: Advanced Python (30 pt)\n",
    "\n",
    "This assignment covers materials from the material on loops, functions, and NumPy lectures.\n",
    "\n",
    "Note that these questions are longer and somewhat more open ended than previous assignments. Please reach out if you need assistance getting started.\n",
    "\n",
    "Feel free to create as many Python or Markdown cells as you desire to answer the questions."
   ]
  },
  {
   "cell_type": "markdown",
   "metadata": {},
   "source": [
    "## Question 1: For loops (10 pts)\n",
    "\n",
    "Below, we have a nested dictionary structure containing information about several species ranging from vulnerable to critically endangered. Note than in some cases, species populations are listed as `None`. This means that the wild populations of these species are unknown. \n",
    "\n",
    "Use for loops to accomplish the following tasks: \n",
    "\n",
    "- Create a data structure containing all unique types of \"Threats\". This variable should not contain duplicate entries. Print the structure (2 pt).\n",
    "- Create a list of all of the species listed as \"Critically Endangered\". Print the list (2 pt).\n",
    "- Create a separate list containing the names of species with populations with fewer than 50 individuals and species with unknown population sizes. Print the list (3 pt).\n",
    "- Find the species with the largest population size. Print this species name, and what its population size is (3 pt).\n",
    "\n",
    "If you hard code the solutions (e.g. manually pick out which species has the largest population) you will receive NO points."
   ]
  },
  {
   "cell_type": "code",
   "execution_count": 2,
   "metadata": {},
   "outputs": [],
   "source": [
    "conservation_data = {\n",
    "    \"Giant Panda\": {\n",
    "        \"Status\": \"Endangered\",\n",
    "        \"Population\": 1800,\n",
    "        \"Threats\": [\"Habitat loss\", \"Poaching\"]\n",
    "    },\n",
    "    \"Mountain Gorilla\": {\n",
    "        \"Status\": \"Critically Endangered\",\n",
    "        \"Population\": 1063,\n",
    "        \"Threats\": [\"Habitat loss\", \"Poaching\", \"Civil unrest\"]\n",
    "    },\n",
    "    \"Amur Leopard\": {\n",
    "        \"Status\": \"Critically Endangered\",\n",
    "        \"Population\": 84,\n",
    "        \"Threats\": [\"Habitat loss\", \"Poaching\"]\n",
    "    },\n",
    "    \"Vaquita\": {\n",
    "        \"Status\": \"Critically Endangered\",\n",
    "        \"Population\": 10,\n",
    "        \"Threats\": [\"Bycatch in fishing nets\"]\n",
    "    },\n",
    "    \"African Elephant\": {\n",
    "        \"Status\": \"Vulnerable\",\n",
    "        \"Population\": 415000,\n",
    "        \"Threats\": [\"Habitat loss\", \"Poaching\"]\n",
    "    },\n",
    "    \"Javan Rhino\": {\n",
    "        \"Status\": \"Critically Endangered\",\n",
    "        \"Population\": 72,\n",
    "        \"Threats\": [\"Habitat loss\", \"Poaching\"]\n",
    "    },\n",
    "    \"Sumatran Orangutan\": {\n",
    "        \"Status\": \"Critically Endangered\",\n",
    "        \"Population\": 14600,\n",
    "        \"Threats\": [\"Habitat loss\", \"Poaching\"]\n",
    "    },\n",
    "    \"Hawksbill Turtle\": {\n",
    "        \"Status\": \"Critically Endangered\",\n",
    "        \"Population\": None,\n",
    "        \"Threats\": [\"Habitat loss\", \"Poaching\"]\n",
    "    },\n",
    "    \"Saola\": {\n",
    "        \"Status\": \"Critically Endangered\",\n",
    "        \"Population\": None,\n",
    "        \"Threats\": [\"Habitat loss\", \"Poaching\"]\n",
    "    },\n",
    "    \"Iberian Lynx\": {\n",
    "        \"Status\": \"Endangered\",\n",
    "        \"Population\": 94,\n",
    "        \"Threats\": [\"Habitat loss\", \"Poaching\"]\n",
    "    }\n",
    "}\n"
   ]
  },
  {
   "cell_type": "code",
   "execution_count": 16,
   "metadata": {},
   "outputs": [
    {
     "name": "stdout",
     "output_type": "stream",
     "text": [
      "{'Civil unrest', 'Bycatch in fishing nets', 'Poaching', 'Habitat loss'}\n"
     ]
    }
   ],
   "source": [
    "#1, I used a set because sets only store unique values.\n",
    "\n",
    "unique_threats = set()\n",
    "for species in conservation_data:\n",
    "    for threat in conservation_data[species]['Threats']:\n",
    "        unique_threats.add(threat)\n",
    "\n",
    "print(unique_threats)\n",
    "\n"
   ]
  },
  {
   "cell_type": "code",
   "execution_count": 30,
   "metadata": {},
   "outputs": [
    {
     "name": "stdout",
     "output_type": "stream",
     "text": [
      "['Mountain Gorilla', 'Amur Leopard', 'Vaquita', 'Javan Rhino', 'Sumatran Orangutan', 'Hawksbill Turtle', 'Saola']\n"
     ]
    }
   ],
   "source": [
    "#2 \n",
    "\n",
    "critically_endangered=[]\n",
    "\n",
    "for species in conservation_data:\n",
    "    if conservation_data[species][\"Status\"]== \"Critically Endangered\":\n",
    "        critically_endangered.append(species)\n",
    "\n",
    "\n",
    "print(critically_endangered)"
   ]
  },
  {
   "cell_type": "code",
   "execution_count": 37,
   "metadata": {},
   "outputs": [
    {
     "name": "stdout",
     "output_type": "stream",
     "text": [
      "['Vaquita', 'Hawksbill Turtle', 'Saola']\n"
     ]
    }
   ],
   "source": [
    "#3 Here I first had my if/or statement with the < 50 before the == None and it didn't work... why not?\n",
    "\n",
    "list_3 = []\n",
    "\n",
    "for species in conservation_data:\n",
    "    if conservation_data[species][\"Population\"] == None or conservation_data[species][\"Population\"] < 50:\n",
    "        list_3.append(species)\n",
    "\n",
    "print(list_3)"
   ]
  },
  {
   "cell_type": "code",
   "execution_count": 41,
   "metadata": {},
   "outputs": [
    {
     "name": "stdout",
     "output_type": "stream",
     "text": [
      "African Elephant\n",
      "415000\n"
     ]
    }
   ],
   "source": [
    "#first I thought about making a dicitonary of species:population and then finding the max population from there\n",
    "#then I read about setting a max_pop variable to 0 and iterating through the species' and checking against the max_pop and changing if its greater than the current value\n",
    "# i also wanted to get rid of species that had None as their population value and wanted to do that by checking for an int data type so I found the isinstance function\n",
    "\n",
    "max_pop = 0\n",
    "max_species = ()\n",
    "\n",
    "for species in conservation_data:\n",
    "    if isinstance(conservation_data[species][\"Population\"],int) and conservation_data[species][\"Population\"] > max_pop:\n",
    "        max_pop = conservation_data[species][\"Population\"]\n",
    "        max_species = species\n",
    "\n",
    "print (max_species)\n",
    "print(max_pop)\n"
   ]
  },
  {
   "cell_type": "markdown",
   "metadata": {},
   "source": [
    "## Question 2: Functions (10 pt)\n",
    "\n",
    "When considering the health of an ecosystem, an important concept to quantify is the diversity of that system. There are several metrics commonly used to calculate ecosystem diversity, one of which is call Simpson's Diversity Index.\n",
    "\n",
    "This metric not takes into account how many species are present in an location, but also if one species has far more individuals than other species. For example, an ecosystem with 500 species but only one species above 10 individuals is not that diverse.\n",
    "\n",
    "We can calculate Simpson's Diversity ($D$) as follows:\n",
    "\n",
    "$D = 1 - [(\\frac{n_1}{N})^2 + (\\frac{n_2}{N})^2 + (\\frac{n_3}{N})^2 + ...]$\n",
    "\n",
    "For example, if an ecosystem has four species with 5, 2, 2, and 1 individuals (10 individuals total), you can calculate $D$ like this:\n",
    "\n",
    "$D = 1 - [(\\frac{5}{10})^2 + (\\frac{2}{10})^2 + (\\frac{2}{10})^2 + (\\frac{1}{10})^2] = 0.66$\n",
    "\n",
    "Define a function that calculates and returns $D$ given a list of species population levels, and run the function on several example lists (3 pt).\n",
    "\n",
    "Your answer should work for a list of **any** length (1 pt).\n",
    "\n",
    "Add documentation to the function that describes what it does, the desired parameters, and what data types the parameters should be (2 pt).\n",
    "\n",
    "Within the function, check that the input is a list. If the input is not a list, give a custom error message (2 pt).\n",
    "\n",
    "Also, make sure all entries in the list are integers. If there are floats, convert them to integers. If there are entries that are not floats or integers, give a custom error message (2 pt).\n",
    "\n"
   ]
  },
  {
   "cell_type": "code",
   "execution_count": 72,
   "metadata": {},
   "outputs": [],
   "source": [
    "example_input = [1882, 400, 321, 24]\n",
    "non_list_input = (\"hello world\")\n",
    "float_input = [90.02, 58, 400.34]\n",
    "float_input2 = [80000.01, 9]\n",
    "wrong_input = [1,2,\"three\"]\n",
    "\n"
   ]
  },
  {
   "cell_type": "code",
   "execution_count": 68,
   "metadata": {},
   "outputs": [
    {
     "data": {
      "text/plain": [
       "'Error: Input is not a list'"
      ]
     },
     "execution_count": 68,
     "metadata": {},
     "output_type": "execute_result"
    }
   ],
   "source": [
    "def simpsons_diversity(species_pops):\n",
    "    \"\"\"\n",
    "    This function returns the Simpson's Diversity Index. \n",
    "    Desired parameters are lists containing integers representing species populations \n",
    "    in an ecosystem. If the list contains floats the function will convert those to integers.\n",
    "    The function takes the input list, sums the entries, and uses list comprehensions to determine the proportion of the population\n",
    "    each species' population represents and the square of that figure before summing the squares and subtracting from 1 to find the \n",
    "    Simpson's Diversity Index\n",
    "    \"\"\"\n",
    "    if type(species_pops) == list:\n",
    "         for pops in species_pops:\n",
    "             if not isinstance(pops, int):\n",
    "                 if isinstance(pops, float):\n",
    "                     pops = int(pops)\n",
    "                 else:\n",
    "                     return \"Error: values must be integers or floats\"\n",
    "                          \n",
    "         total_pop = sum(species_pops)\n",
    "         proportions = [pops/total_pop for pops in species_pops]\n",
    "         species_proportion_squared = [species_proportion**2 for species_proportion in proportions]\n",
    "         Diversity = 1 - sum(species_proportion_squared)\n",
    "         return Diversity\n",
    "    else:\n",
    "        return\"Error: Input is not a list\"\n",
    "\n",
    "\n",
    "\n",
    "simpsons_diversity(non_list_input)\n",
    "\n"
   ]
  },
  {
   "cell_type": "code",
   "execution_count": 69,
   "metadata": {},
   "outputs": [
    {
     "data": {
      "text/plain": [
       "0.4288644349316777"
      ]
     },
     "execution_count": 69,
     "metadata": {},
     "output_type": "execute_result"
    }
   ],
   "source": [
    "simpsons_diversity(float_input)"
   ]
  },
  {
   "cell_type": "code",
   "execution_count": 70,
   "metadata": {},
   "outputs": [
    {
     "data": {
      "text/plain": [
       "0.4485625467948795"
      ]
     },
     "execution_count": 70,
     "metadata": {},
     "output_type": "execute_result"
    }
   ],
   "source": [
    "simpsons_diversity(example_input)"
   ]
  },
  {
   "cell_type": "code",
   "execution_count": 73,
   "metadata": {},
   "outputs": [
    {
     "data": {
      "text/plain": [
       "'Error: values must be integers or floats'"
      ]
     },
     "execution_count": 73,
     "metadata": {},
     "output_type": "execute_result"
    }
   ],
   "source": [
    "simpsons_diversity(wrong_input)"
   ]
  },
  {
   "cell_type": "markdown",
   "metadata": {},
   "source": [
    "## Question 3: Simulating data (10 pt)\n",
    "\n",
    "In data analysis, we often simulate data to help test our predictions and get a feel for how the real data should be. This questions asks you to use the functions found in `numpy.random` to simulate rolling.\n",
    "\n",
    "Define a function called `dice_simulator()` with an integer parameter called `n`. This function should create a list of integers 1 through 6 and randomly sample this list with replacement `n` times. The function should return the `n` samples as a list or numpy array. Note that `n` should be a positive integer (2 pt).\n",
    "\n",
    "Define a function called `proportions()` to calculate what proportion of the \"rolls\" that are 1s, 2s, 3s, 4s, 5s, and 6s. Print these 6 proportions. `proportions()` should have a single parameter called `rolls`, which should take in the output of `dice_simulator()` (3 pt).\n",
    "\n",
    "Define a function called `three_streak()` to calculate the maximum number of times 3 was \"rolled\" in a row and print this value. To be in a row, the 3's have to be next to each other in a list (such as if `rolls[1]` and `rolls[2]` are both 3). Like `proportions()`, `three_streak()` should have a single parameter called `rolls`, which should take in the output of `dice_simulator()` (3 pt). \n",
    "- *Hint: `max()` is a built in function in Python that finds the largest value in a list.*\n",
    "\n",
    "Define a function called `simulation()` that calls `dice_simulator()`, `proportions()`, and `three_streak()`. Make sure that `proportions()` and `three_streak()` are called so that they use the same dice rolls. `simulation()` should take a single parameter `n` that is fed into `dice_simulator()`. Have this function print the value of n, as well (1 pt). \n",
    "\n",
    "Call `simulation()` several times with the `n` parameter at different values (1 pt). \n",
    "\n",
    "\n",
    "\n"
   ]
  },
  {
   "cell_type": "code",
   "execution_count": 37,
   "metadata": {},
   "outputs": [],
   "source": [
    "\n",
    "import numpy as np\n",
    "\n",
    "\n",
    "def dice_simulator(n:int):\n",
    "    int_list = [1,2,3,4,5,6]\n",
    "    if n > 0:\n",
    "        random_sample = np.random.choice(a=int_list, size = n, replace= True)\n",
    "        return(random_sample)\n",
    "    else:\n",
    "        return \"parameter must be a positive integer\"\n",
    "\n",
    " \n",
    "\n",
    "def proportions(rolls):\n",
    "    num_1 = []\n",
    "    num_2 = []\n",
    "    num_3 = []\n",
    "    num_4 = []        \n",
    "    num_5 = []\n",
    "    num_6 = []\n",
    "    for value in rolls:\n",
    "        if value == 1:\n",
    "            num_1.append(value)\n",
    "        if value == 2:\n",
    "            num_2.append(value)\n",
    "        if value == 3:\n",
    "            num_3.append(value)\n",
    "        if value == 4:\n",
    "            num_4.append(value)\n",
    "        if value == 5: \n",
    "            num_5.append(value)\n",
    "        if value == 6:\n",
    "            num_6.append(value)\n",
    "    proportion_1 = len(num_1)/len(rolls)\n",
    "    proportion_2 = len(num_2)/len(rolls)\n",
    "    proportion_3 = len(num_3)/len(rolls)\n",
    "    proportion_4 = len(num_4)/len(rolls)\n",
    "    proportion_5 = len(num_5)/len(rolls)\n",
    "    proportion_6 = len(num_6)/len(rolls)\n",
    "\n",
    "    return \"1:\" , proportion_1, \"2:\" , proportion_2, \"3:\" , proportion_3, \"4:\" , proportion_4, \"5:\" , proportion_5, \"6:\" , proportion_6\n",
    "\n",
    "\n",
    "\n",
    "\n",
    "def three_streak(rolls):\n",
    "    three_streak_list = []\n",
    "    current_streak = 0\n",
    "\n",
    "    for value in rolls:\n",
    "        if value == 3:\n",
    "            current_streak += 1\n",
    "        else:\n",
    "            three_streak_list.append(current_streak)\n",
    "            current_streak = 0\n",
    "    three_streak_list.append(current_streak)\n",
    "    max_streak = max(three_streak_list)\n",
    "\n",
    "\n",
    "def simulation(n):\n",
    "    rolls = dice_simulator(n)\n",
    "    \n",
    "    print('n =', n)\n",
    "    print('Random Sample = ', dice_simulator(n))\n",
    "    print('Proportions =', proportions(rolls))\n",
    "    print('Maximum Streak of 3s =', three_streak(rolls))\n",
    "\n",
    "\n",
    "    \n",
    "    \n",
    "\n",
    "\n",
    "\n",
    "    \n",
    "    \n",
    "    \n",
    "\n",
    "\n",
    "\n",
    "\n",
    "\n",
    "\n",
    "            \n",
    "\n",
    "\n",
    "\n",
    "\n",
    "\n",
    "\n",
    "\n",
    "\n",
    "\n",
    "\n",
    "\n",
    "\n",
    "    \n",
    "\n",
    "\n",
    "\n"
   ]
  },
  {
   "cell_type": "code",
   "execution_count": 39,
   "metadata": {},
   "outputs": [
    {
     "name": "stdout",
     "output_type": "stream",
     "text": [
      "n = 7\n",
      "Random Sample =  [1 4 5 3 2 3 6]\n",
      "Proportions = ('1:', 0.0, '2:', 0.2857142857142857, '3:', 0.0, '4:', 0.2857142857142857, '5:', 0.42857142857142855, '6:', 0.0)\n",
      "Maximum Streak of 3s = None\n"
     ]
    }
   ],
   "source": [
    "simulation(7)"
   ]
  },
  {
   "cell_type": "code",
   "execution_count": 38,
   "metadata": {},
   "outputs": [
    {
     "name": "stdout",
     "output_type": "stream",
     "text": [
      "n = 9\n",
      "Random Sample =  [3 3 5 6 2 6 6 2 3]\n",
      "Proportions = ('1:', 0.2222222222222222, '2:', 0.0, '3:', 0.2222222222222222, '4:', 0.2222222222222222, '5:', 0.1111111111111111, '6:', 0.2222222222222222)\n",
      "Maximum Streak of 3s = None\n"
     ]
    }
   ],
   "source": [
    "simulation(9)\n",
    "\n",
    "# i dont really know why my three_streak function isn't working but gotta go to bed lol"
   ]
  },
  {
   "cell_type": "code",
   "execution_count": 40,
   "metadata": {},
   "outputs": [
    {
     "name": "stdout",
     "output_type": "stream",
     "text": [
      "n = 100\n",
      "Random Sample =  [2 6 5 6 6 5 6 5 5 5 6 1 5 5 4 3 5 2 3 2 6 4 1 5 3 3 4 3 5 5 5 3 3 5 4 1 5\n",
      " 2 1 5 2 6 6 3 3 4 1 1 5 3 1 4 4 1 1 2 6 6 4 3 2 2 4 2 2 1 1 5 3 4 4 4 3 3\n",
      " 1 6 6 3 2 1 5 1 3 1 6 5 6 3 2 6 6 4 5 6 3 5 6 6 2 4]\n",
      "Proportions = ('1:', 0.14, '2:', 0.15, '3:', 0.11, '4:', 0.15, '5:', 0.29, '6:', 0.16)\n",
      "Maximum Streak of 3s = None\n"
     ]
    }
   ],
   "source": [
    "simulation(100)"
   ]
  }
 ],
 "metadata": {
  "kernelspec": {
   "display_name": "Python 3.9.12 ('base')",
   "language": "python",
   "name": "python3"
  },
  "language_info": {
   "codemirror_mode": {
    "name": "ipython",
    "version": 3
   },
   "file_extension": ".py",
   "mimetype": "text/x-python",
   "name": "python",
   "nbconvert_exporter": "python",
   "pygments_lexer": "ipython3",
   "version": "3.9.13"
  },
  "orig_nbformat": 4,
  "vscode": {
   "interpreter": {
    "hash": "b52b534d3e8b2df8a7f375ea8b488ed7c2e546a5d77230d70bd2c6badbd8c861"
   }
  }
 },
 "nbformat": 4,
 "nbformat_minor": 2
}
