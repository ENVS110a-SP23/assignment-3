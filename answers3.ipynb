{
 "cells": [
  {
   "cell_type": "markdown",
   "metadata": {},
   "source": [
    "# Assignment 3: Advanced Python (30 pt)\n",
    "\n",
    "This assignment covers materials from the material on loops, functions, and NumPy lectures.\n",
    "\n",
    "Note that these questions are longer and somewhat more open ended than previous assignments. Please reach out if you need assistance getting started.\n",
    "\n",
    "Feel free to create as many Python or Markdown cells as you desire to answer the questions."
   ]
  },
  {
   "cell_type": "markdown",
   "metadata": {},
   "source": [
    "## Question 1: For loops (10 pts)\n",
    "\n",
    "Below, we have a nested dictionary structure containing information about several species ranging from vulnerable to critically endangered. Note than in some cases, species populations are listed as `None`. This means that the wild populations of these species are unknown. \n",
    "\n",
    "Use for loops to accomplish the following tasks: \n",
    "\n",
    "- Create a data structure containing all unique types of \"Threats\". This variable should not contain duplicate entries. Print the structure (2 pt).\n",
    "- Create a list of all of the species listed as \"Critically Endangered\". Print the list (2 pt).\n",
    "- Create a separate list containing the names of species with populations with fewer than 50 individuals and species with unknown population sizes. Print the list (3 pt).\n",
    "- Find the species with the largest population size. Print this species name, and what its population size is (3 pt).\n",
    "\n",
    "If you hard code the solutions (e.g. manually pick out which species has the largest population) you will receive NO points."
   ]
  },
  {
   "cell_type": "code",
   "execution_count": 3,
   "metadata": {},
   "outputs": [],
   "source": [
    "conservation_data = {\n",
    "    \"Giant Panda\": {\n",
    "        \"Status\": \"Endangered\",\n",
    "        \"Population\": 1800,\n",
    "        \"Threats\": [\"Habitat loss\", \"Poaching\"]\n",
    "    },\n",
    "    \"Mountain Gorilla\": {\n",
    "        \"Status\": \"Critically Endangered\",\n",
    "        \"Population\": 1063,\n",
    "        \"Threats\": [\"Habitat loss\", \"Poaching\", \"Civil unrest\"]\n",
    "    },\n",
    "    \"Amur Leopard\": {\n",
    "        \"Status\": \"Critically Endangered\",\n",
    "        \"Population\": 84,\n",
    "        \"Threats\": [\"Habitat loss\", \"Poaching\"]\n",
    "    },\n",
    "    \"Vaquita\": {\n",
    "        \"Status\": \"Critically Endangered\",\n",
    "        \"Population\": 10,\n",
    "        \"Threats\": [\"Bycatch in fishing nets\"]\n",
    "    },\n",
    "    \"African Elephant\": {\n",
    "        \"Status\": \"Vulnerable\",\n",
    "        \"Population\": 415000,\n",
    "        \"Threats\": [\"Habitat loss\", \"Poaching\"]\n",
    "    },\n",
    "    \"Javan Rhino\": {\n",
    "        \"Status\": \"Critically Endangered\",\n",
    "        \"Population\": 72,\n",
    "        \"Threats\": [\"Habitat loss\", \"Poaching\"]\n",
    "    },\n",
    "    \"Sumatran Orangutan\": {\n",
    "        \"Status\": \"Critically Endangered\",\n",
    "        \"Population\": 14600,\n",
    "        \"Threats\": [\"Habitat loss\", \"Poaching\"]\n",
    "    },\n",
    "    \"Hawksbill Turtle\": {\n",
    "        \"Status\": \"Critically Endangered\",\n",
    "        \"Population\": None,\n",
    "        \"Threats\": [\"Habitat loss\", \"Poaching\"]\n",
    "    },\n",
    "    \"Saola\": {\n",
    "        \"Status\": \"Critically Endangered\",\n",
    "        \"Population\": None,\n",
    "        \"Threats\": [\"Habitat loss\", \"Poaching\"]\n",
    "    },\n",
    "    \"Iberian Lynx\": {\n",
    "        \"Status\": \"Endangered\",\n",
    "        \"Population\": 94,\n",
    "        \"Threats\": [\"Habitat loss\", \"Poaching\"]\n",
    "    }\n",
    "}\n"
   ]
  },
  {
   "cell_type": "code",
   "execution_count": 4,
   "metadata": {},
   "outputs": [
    {
     "name": "stdout",
     "output_type": "stream",
     "text": [
      "{'Civil unrest', 'Habitat loss', 'Poaching', 'Bycatch in fishing nets'}\n"
     ]
    }
   ],
   "source": [
    "\"\"\"\"\"\n",
    "This is a function that captures all unique threats.\n",
    "\n",
    "\"\"\"\"\"\n",
    "\n",
    "unique_threats = set() #use 'set' as the data structure\n",
    "\n",
    "for k, v in conservation_data.items(): #Loop over dictionary\n",
    "    for threat in v['Threats']: #Loop thru each animal's threats\n",
    "        unique_threats.add(threat) #if threat not already in set, add it.\n",
    "\n",
    "print(unique_threats) #print the set of unique threats\n",
    "\n"
   ]
  },
  {
   "cell_type": "code",
   "execution_count": 5,
   "metadata": {},
   "outputs": [
    {
     "name": "stdout",
     "output_type": "stream",
     "text": [
      "['Saola', 'Javan Rhino', 'Sumatran Orangutan', 'Vaquita', 'Mountain Gorilla', 'Hawksbill Turtle', 'Amur Leopard']\n"
     ]
    }
   ],
   "source": [
    "\"\"\"\"\"\n",
    "Create a list of all of the species listed as \"Critically Endangered\". Print the list. \n",
    "\"\"\"\"\"\n",
    "\n",
    "critical = set()\n",
    "for k, v in conservation_data.items(): #Loop over dictionary\n",
    "    if v['Status']== \"Critically Endangered\": #check if animal's status is 'Critically Endangered'.\n",
    "        critical.add(k) #if it is, add to the set. \n",
    "print(list(critical)) #print the set as a list.\n"
   ]
  },
  {
   "cell_type": "code",
   "execution_count": 6,
   "metadata": {},
   "outputs": [
    {
     "name": "stdout",
     "output_type": "stream",
     "text": [
      "['Vaquita', 'Saola', 'Hawksbill Turtle']\n"
     ]
    }
   ],
   "source": [
    "\"\"\"\"\"\n",
    "Create a separate list containing the names of species with populations with fewer than 50 individuals and species with unknown population sizes. Print the list. \n",
    "\"\"\"\"\"\n",
    "\n",
    "small_population = set()\n",
    "for k, v in conservation_data.items(): #Loop over dictionary\n",
    "    if (v['Population']is None) or (v['Population']<50): #either population is not known or less than 50\n",
    "        small_population.add(k) #if so, add animal to the set\n",
    "print(list(small_population)) #print the set as a list. \n"
   ]
  },
  {
   "cell_type": "code",
   "execution_count": 9,
   "metadata": {},
   "outputs": [
    {
     "name": "stdout",
     "output_type": "stream",
     "text": [
      "The African Elephant has the largest population with 415000 animals.\n"
     ]
    }
   ],
   "source": [
    "\"\"\"\"\"\n",
    "Find the species with the largest population size. Print this species name, and what its population size is \n",
    "\"\"\"\"\"\n",
    "\n",
    "max_population = 0 #dont know largest population, yet\n",
    "species = None # dont know that species yet, either\n",
    "for k, v in conservation_data.items(): #Loop over dictionary\n",
    "    if (v['Population'] is not None): #have to know the population size\n",
    "        if v['Population'] > max_population: #if it is the largest (so far)\n",
    "            species = k #remember this species\n",
    "            max_population = v['Population'] #reset max. so far to be this population size \n",
    "    \n",
    "#report species with the largest population in the entire data set\n",
    "print(f\"The {species} has the largest population with {max_population} animals.\")"
   ]
  },
  {
   "cell_type": "markdown",
   "metadata": {},
   "source": [
    "## Question 2: Functions (10 pt)\n",
    "\n",
    "When considering the health of an ecosystem, an important concept to quantify is the diversity of that system. There are several metrics commonly used to calculate ecosystem diversity, one of which is call Simpson's Diversity Index.\n",
    "\n",
    "This metric not takes into account how many species are present in an location, but also if one species has far more individuals than other species. For example, an ecosystem with 500 species but only one species above 10 individuals is not that diverse.\n",
    "\n",
    "We can calculate Simpson's Diversity ($D$) as follows:\n",
    "\n",
    "$D = 1 - [(\\frac{n_1}{N})^2 + (\\frac{n_2}{N})^2 + (\\frac{n_3}{N})^2 + ...]$\n",
    "\n",
    "For example, if an ecosystem has four species with 5, 2, 2, and 1 individuals (10 individuals total), you can calculate $D$ like this:\n",
    "\n",
    "$D = 1 - [(\\frac{5}{10})^2 + (\\frac{2}{10})^2 + (\\frac{2}{10})^2 + (\\frac{1}{10})^2] = 0.66$\n",
    "\n",
    "Define a function that calculates and returns $D$ given a list of species population levels, and run the function on several example lists (3 pt).\n",
    "\n",
    "Your answer should work for a list of **any** length (1 pt).\n",
    "\n",
    "Add documentation to the function that describes what it does, the desired parameters, and what data types the parameters should be (2 pt).\n",
    "\n",
    "Within the function, check that the input is a list. If the input is not a list, give a custom error message (2 pt).\n",
    "\n",
    "Also, make sure all entries in the list are integers. If there are floats, convert them to integers. If there are entries that are not floats or integers, give a custom error message (2 pt).\n",
    "\n"
   ]
  },
  {
   "cell_type": "code",
   "execution_count": 15,
   "metadata": {},
   "outputs": [],
   "source": [
    "# example_input = [1882, 400, 321, 24]\n",
    "\"\"\"\"\"\n",
    "Define a function that calculates and returns $D$ given a list of species population levels, and run the function on several example lists\n",
    "\"\"\"\"\"\n",
    "def diversity_index(populations: list[int]) ->float: \n",
    "    #Within the function, check that the input is a list. If the input is not a list, give a custom error message\n",
    "    if type(populations) != list: \n",
    "        print(\"You must supply a list of integers.\")\n",
    "        return\n",
    "    N = 0 #initialize N\n",
    "    sum = 0\n",
    "    for entry in populations: #Loop over the population lists of \"any\" Length\n",
    "        \"\"\"\"\"\n",
    "        Also, make sure all entries in the list are integers. If there are floats, \n",
    "        convert them to integers. If there are entries that are not floats or integers, give a custom error message\n",
    "        \"\"\"\"\"\n",
    "        if type(entry) not in [float, int]:\n",
    "            print(f\"Your list includes a non-number: {entry}.\")\n",
    "            return #quit the function because the list is invalid.\n",
    "        e = int(entry) #guarantees entry is an integer \n",
    "        sum += e**2 #add one numerator term \n",
    "        N += e #add entry to N \n",
    "    D = 1 - (sum/N**2) #the Diversity Index\n",
    "\n",
    "    return D \n"
   ]
  },
  {
   "cell_type": "code",
   "execution_count": 16,
   "metadata": {},
   "outputs": [
    {
     "data": {
      "text/plain": [
       "0.4485625467948795"
      ]
     },
     "execution_count": 16,
     "metadata": {},
     "output_type": "execute_result"
    }
   ],
   "source": [
    "populations = [1882, 400, 321, 24]\n",
    "diversity_index(populations)\n"
   ]
  },
  {
   "cell_type": "code",
   "execution_count": 17,
   "metadata": {},
   "outputs": [
    {
     "name": "stdout",
     "output_type": "stream",
     "text": [
      "You must supply a list of integers.\n"
     ]
    }
   ],
   "source": [
    "populations = {1882, 400, 321, 24}\n",
    "diversity_index(populations)\n"
   ]
  },
  {
   "cell_type": "code",
   "execution_count": 18,
   "metadata": {},
   "outputs": [
    {
     "name": "stdout",
     "output_type": "stream",
     "text": [
      "Simpson's Diversity Index for example 1...[64982.7, 82348, 827, 34938.2]:  0.635\n",
      "Simpson's Diversity Index for example 2...[723649, 762, 72.4, 627]:  0.004\n",
      "Simpson's Diversity Index for example 3...[82346, 3282, 82389.5, 8289]:  0.561\n",
      "Simpson's Diversity Index for example 4...[555, 51636.5, 'q', 78.887]: Your list includes a non-number: q.\n"
     ]
    }
   ],
   "source": [
    "# try the function several times with non-integers and one invalid list. \n",
    "\n",
    "examples = {1: [64982.7, 82348, 827, 34938.2], 2:[723649, 762, 72.4, 627], 3:[82346, 3282, 82389.5, 8289],\n",
    "            4: [555, 51636.5, 'q', 78.887]}\n",
    "for k, v in examples. items(): #Loop across the example lists\n",
    "    print(f\"Simpson's Diversity Index for example {k}...{v}:\", end=' ')\n",
    "    if diversity_index(v) is not None: #if the function can compute D \n",
    "        print(f\"{diversity_index(v): .3f}\") #print D for that list "
   ]
  },
  {
   "cell_type": "markdown",
   "metadata": {},
   "source": [
    "## Question 3: Simulating data (10 pt)\n",
    "\n",
    "In data analysis, we often simulate data to help test our predictions and get a feel for how the real data should be. This questions asks you to use the functions found in `numpy.random` to simulate rolling.\n",
    "\n",
    "Define a function called `dice_simulator()` with an integer parameter called `n`. This function should create a list of integers 1 through 6 and randomly sample this list with replacement `n` times. The function should return the `n` samples as a list or numpy array. Note that `n` should be a positive integer (2 pt).\n",
    "\n",
    "Define a function called `proportions()` to calculate what proportion of the \"rolls\" that are 1s, 2s, 3s, 4s, 5s, and 6s. Print these 6 proportions. `proportions()` should have a single parameter called `rolls`, which should take in the output of `dice_simulator()` (3 pt).\n",
    "\n",
    "Define a function called `three_streak()` to calculate the maximum number of times 3 was \"rolled\" in a row and print this value. To be in a row, the 3's have to be next to each other in a list (such as if `rolls[1]` and `rolls[2]` are both 3). Like `proportions()`, `three_streak()` should have a single parameter called `rolls`, which should take in the output of `dice_simulator()` (3 pt). \n",
    "- *Hint: `max()` is a built in function in Python that finds the largest value in a list.*\n",
    "\n",
    "Define a function called `simulation()` that calls `dice_simulator()`, `proportions()`, and `three_streak()`. Make sure that `proportions()` and `three_streak()` are called so that they use the same dice rolls. `simulation()` should take a single parameter `n` that is fed into `dice_simulator()`. Have this function print the value of n, as well (1 pt). \n",
    "\n",
    "Call `simulation()` several times with the `n` parameter at different values (1 pt). \n",
    "\n",
    "\n",
    "\n"
   ]
  },
  {
   "cell_type": "code",
   "execution_count": 6,
   "metadata": {},
   "outputs": [],
   "source": [
    "import numpy as np\n",
    "\n",
    "\"\"\"\"\"\n",
    "Define a function called `dice_simulator()` with an integer parameter called `n`. This function should create a list of integers 1 through 6 and randomly sample \n",
    "this list with replacement `n` times. The function should return the `n` samples as a list or numpy array. Note that `n` should be a positive integer\n",
    "\"\"\"\"\"\n",
    "\n",
    "def dice_simulator(n: int) -> list[int]:\n",
    "\n",
    "    if n <= 0 or (type(n) != int):\n",
    "        print(f\"(n) needs to be a positive integer.\")\n",
    "        return []\n",
    "\n",
    "    sides = [1,2,3,4,5,6] #create a list of integers 1 through 6\n",
    "    return list(np.random.choice(sides,n,replace=True)) #randomly sample with replacement and return the 'n' samples as a list\n",
    "\n",
    "\"\"\"\"\"\n",
    "\n",
    "Define a function called `proportions()` to calculate what proportion of the \"rolls\" that are 1s, 2s, 3s, 4s, 5s, and 6s. \n",
    "Print these 6 proportions. `proportions()` should have a single parameter called `rolls`, which should take in the output of `dice_simulator()`.\n",
    "\n",
    "\"\"\"\"\"\n",
    "\n",
    "def proportions(rolls: list[int]):\n",
    "\n",
    "    rolls_of_k = {1: 0,2: 0, 3: 0, 4: 0, 5: 0, 6: 0} # a dictionary counts possible rolls\n",
    "    proportion_of_k = {1: 0.0,2: 0.0, 3: 0.0, 4: 0.0, 5: 0.0, 6: 0.0} # a dictionary reports proportions of rolls\n",
    "\n",
    "    total_rolls = len(rolls)\n",
    "    for k in rolls_of_k.keys(): #for each \"possible\" roll\n",
    "        for j in range(len(rolls)): #for each *stimulated* roll\n",
    "            if rolls[j] == k:\n",
    "                rolls_of_k[k] += 1 #adds 1 to roll count \n",
    "    for k in proportion_of_k.keys(): #for each *possible* roll\n",
    "        proportions_of_k = rolls_of_k[k] / total_rolls #calculate proportion of rolls\n",
    "        print(f\"(k) was rolled {100*proportions_of_k:.1f})% percent of time.\") #print each proportion\n"
   ]
  },
  {
   "cell_type": "code",
   "execution_count": 8,
   "metadata": {},
   "outputs": [
    {
     "name": "stdout",
     "output_type": "stream",
     "text": [
      "(k) was rolled 16.0)% percent of time.\n",
      "(k) was rolled 19.0)% percent of time.\n",
      "(k) was rolled 20.0)% percent of time.\n",
      "(k) was rolled 14.0)% percent of time.\n",
      "(k) was rolled 15.0)% percent of time.\n",
      "(k) was rolled 16.0)% percent of time.\n"
     ]
    }
   ],
   "source": [
    "rolls = dice_simulator(100)\n",
    "proportions(rolls)\n"
   ]
  },
  {
   "cell_type": "code",
   "execution_count": 19,
   "metadata": {},
   "outputs": [],
   "source": [
    "\"\"\"\"\"\n",
    "Define a function called `three_streak()` to calculate the maximum number of times 3 was \"rolled\" in a row and print this value. To be in a row, \n",
    "the 3's have to be next to each other in a list (such as if `rolls[1]` and `rolls[2]` are both 3). \n",
    "Like `proportions()`, `three_streak()` should have a single parameter called `rolls`, which should take in the output of `dice_simulator()`\n",
    "\"\"\"\"\"\n",
    "def three_streak(rolls: list[int]):\n",
    "\n",
    "    all_three_streaks = [] #a list to keep track of streak lengths\n",
    "    streak = 0 #at start, there is no streak\n",
    "    for j, roll in enumerate(rolls): #Loop over stimulated rolls\n",
    "        if roll == 3:\n",
    "            if (j==0) or (streak == 0): #start or re-start counting \n",
    "                streak = 1\n",
    "            if (rolls[j-1] == roll): #streak still alive\n",
    "                streak +=1\n",
    "        else: #roll is not a '3'\n",
    "            if streak > 0:\n",
    "                all_three_streaks.append(streak) #add streak length to list\n",
    "            streak = 0 #restart counter; the streak is over\n",
    "    if len(all_three_streaks) > 0:\n",
    "        print(f\"The longest streak of 3's is: {max(all_three_streaks)} rolls.\")\n",
    "    else: \n",
    "        print(\"A three was never rolled!\")\n"
   ]
  },
  {
   "cell_type": "code",
   "execution_count": 20,
   "metadata": {},
   "outputs": [
    {
     "name": "stdout",
     "output_type": "stream",
     "text": [
      "The longest streak of 3's is: 6 rolls.\n"
     ]
    }
   ],
   "source": [
    "rolls = [5,5,5,6,5,3,3,3,3,3,3,2,3,5,6,7,5,4,3,2,1,4,5]\n",
    "three_streak(rolls)"
   ]
  },
  {
   "cell_type": "code",
   "execution_count": 27,
   "metadata": {},
   "outputs": [],
   "source": [
    "\"\"\"\"\"\n",
    "Define a function called `simulation()` that calls `dice_simulator()`, `proportions()`, and `three_streak()`. Make sure that `proportions()` and `three_streak()` are called so that they use the same dice rolls. \n",
    "`simulation()` should take a single parameter `n` that is fed into `dice_simulator()`. Have this function print the value of n, as well.\n",
    "\"\"\"\"\"\n",
    "\n",
    "def simulation(n: int):\n",
    "\n",
    "    print(f\"This is a simulation of {n} dice rolls.\")\n",
    "    rolls = dice_simulator(n) #simulate n dice rolls\n",
    "    if len(rolls) > 0: #in case 'n' was a bad input\n",
    "        proportions(rolls) #compute their proportions\n",
    "        three_streak(rolls) #reports streaks of 3's\n",
    "\n"
   ]
  },
  {
   "cell_type": "code",
   "execution_count": 28,
   "metadata": {},
   "outputs": [
    {
     "name": "stdout",
     "output_type": "stream",
     "text": [
      "This is a simulation of 75 dice rolls.\n",
      "(k) was rolled 14.7)% percent of time.\n",
      "(k) was rolled 22.7)% percent of time.\n",
      "(k) was rolled 9.3)% percent of time.\n",
      "(k) was rolled 10.7)% percent of time.\n",
      "(k) was rolled 21.3)% percent of time.\n",
      "(k) was rolled 21.3)% percent of time.\n",
      "The longest streak of 3's is: 2 rolls.\n"
     ]
    }
   ],
   "source": [
    "\"\"\"\n",
    "Call `simulation()` several times with the `n` parameter at different values\n",
    "\n",
    "\"\"\"\n",
    "\n",
    "simulation(75)\n"
   ]
  },
  {
   "cell_type": "code",
   "execution_count": 29,
   "metadata": {},
   "outputs": [
    {
     "name": "stdout",
     "output_type": "stream",
     "text": [
      "This is a simulation of 343 dice rolls.\n",
      "(k) was rolled 13.7)% percent of time.\n",
      "(k) was rolled 13.4)% percent of time.\n",
      "(k) was rolled 19.0)% percent of time.\n",
      "(k) was rolled 19.0)% percent of time.\n",
      "(k) was rolled 17.2)% percent of time.\n",
      "(k) was rolled 17.8)% percent of time.\n",
      "The longest streak of 3's is: 3 rolls.\n"
     ]
    }
   ],
   "source": [
    "simulation(343)"
   ]
  },
  {
   "cell_type": "code",
   "execution_count": 31,
   "metadata": {},
   "outputs": [
    {
     "name": "stdout",
     "output_type": "stream",
     "text": [
      "This is a simulation of 10000 dice rolls.\n",
      "(k) was rolled 16.8)% percent of time.\n",
      "(k) was rolled 17.5)% percent of time.\n",
      "(k) was rolled 16.2)% percent of time.\n",
      "(k) was rolled 16.4)% percent of time.\n",
      "(k) was rolled 16.6)% percent of time.\n",
      "(k) was rolled 16.4)% percent of time.\n",
      "The longest streak of 3's is: 5 rolls.\n"
     ]
    }
   ],
   "source": [
    "simulation(10000)"
   ]
  },
  {
   "cell_type": "code",
   "execution_count": 32,
   "metadata": {},
   "outputs": [
    {
     "ename": "NameError",
     "evalue": "name 'A' is not defined",
     "output_type": "error",
     "traceback": [
      "\u001b[0;31m---------------------------------------------------------------------------\u001b[0m",
      "\u001b[0;31mNameError\u001b[0m                                 Traceback (most recent call last)",
      "\u001b[0;32m/var/folders/3b/ml9q645j7d9bj33sx3cqvm840000gn/T/ipykernel_23950/1003174036.py\u001b[0m in \u001b[0;36m<module>\u001b[0;34m\u001b[0m\n\u001b[0;32m----> 1\u001b[0;31m \u001b[0msimulation\u001b[0m\u001b[0;34m(\u001b[0m\u001b[0mA\u001b[0m\u001b[0;34m)\u001b[0m\u001b[0;34m\u001b[0m\u001b[0;34m\u001b[0m\u001b[0m\n\u001b[0m",
      "\u001b[0;31mNameError\u001b[0m: name 'A' is not defined"
     ]
    }
   ],
   "source": [
    "simulation(A) #does not work without an integer "
   ]
  }
 ],
 "metadata": {
  "kernelspec": {
   "display_name": "Python 3.9.12 ('base')",
   "language": "python",
   "name": "python3"
  },
  "language_info": {
   "codemirror_mode": {
    "name": "ipython",
    "version": 3
   },
   "file_extension": ".py",
   "mimetype": "text/x-python",
   "name": "python",
   "nbconvert_exporter": "python",
   "pygments_lexer": "ipython3",
   "version": "3.9.13"
  },
  "orig_nbformat": 4,
  "vscode": {
   "interpreter": {
    "hash": "b52b534d3e8b2df8a7f375ea8b488ed7c2e546a5d77230d70bd2c6badbd8c861"
   }
  }
 },
 "nbformat": 4,
 "nbformat_minor": 2
}
